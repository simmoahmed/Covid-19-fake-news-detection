{
 "cells": [
  {
   "cell_type": "code",
   "execution_count": 1,
   "metadata": {
    "executionInfo": {
     "elapsed": 1023,
     "status": "ok",
     "timestamp": 1608408299449,
     "user": {
      "displayName": "Ayan Basak",
      "photoUrl": "",
      "userId": "03457614456337947866"
     },
     "user_tz": -330
    },
    "id": "Z6b1S4kYPgDB"
   },
   "outputs": [],
   "source": [
    "import pandas as pd\n"
   ]
  },
  {
   "cell_type": "code",
   "execution_count": 4,
   "metadata": {
    "executionInfo": {
     "elapsed": 1173,
     "status": "ok",
     "timestamp": 1608409290380,
     "user": {
      "displayName": "Ayan Basak",
      "photoUrl": "",
      "userId": "03457614456337947866"
     },
     "user_tz": -330
    },
    "id": "jjs21VY-TQPx"
   },
   "outputs": [],
   "source": [
    "train_feature_df = pd.read_csv('data/train_with_postproc_features.csv')\n",
    "val_feature_df = pd.read_csv('data/val_with_postproc_features.csv')\n",
    "test_feature_df = pd.read_csv('data/test_with_postproc_features.csv')\n"
   ]
  },
  {
   "cell_type": "code",
   "execution_count": 5,
   "metadata": {
    "colab": {
     "base_uri": "https://localhost:8080/",
     "height": 615
    },
    "executionInfo": {
     "elapsed": 1125,
     "status": "ok",
     "timestamp": 1608409292431,
     "user": {
      "displayName": "Ayan Basak",
      "photoUrl": "",
      "userId": "03457614456337947866"
     },
     "user_tz": -330
    },
    "id": "3flRwW5nfz-R",
    "outputId": "1d2c9055-1607-4635-901f-840ca0aa52a0"
   },
   "outputs": [
    {
     "data": {
      "text/html": [
       "<div>\n",
       "<style scoped>\n",
       "    .dataframe tbody tr th:only-of-type {\n",
       "        vertical-align: middle;\n",
       "    }\n",
       "\n",
       "    .dataframe tbody tr th {\n",
       "        vertical-align: top;\n",
       "    }\n",
       "\n",
       "    .dataframe thead th {\n",
       "        text-align: right;\n",
       "    }\n",
       "</style>\n",
       "<table border=\"1\" class=\"dataframe\">\n",
       "  <thead>\n",
       "    <tr style=\"text-align: right;\">\n",
       "      <th></th>\n",
       "      <th>id</th>\n",
       "      <th>tweet</th>\n",
       "      <th>label</th>\n",
       "      <th>model1_Class0</th>\n",
       "      <th>model1_Class1</th>\n",
       "      <th>model2_Class0</th>\n",
       "      <th>model2_Class1</th>\n",
       "      <th>model3_Class0</th>\n",
       "      <th>model3_Class1</th>\n",
       "      <th>model4_Class0</th>\n",
       "      <th>model4_Class1</th>\n",
       "      <th>username_real</th>\n",
       "      <th>username_fake</th>\n",
       "      <th>domain_real</th>\n",
       "      <th>domain_fake</th>\n",
       "    </tr>\n",
       "  </thead>\n",
       "  <tbody>\n",
       "    <tr>\n",
       "      <th>0</th>\n",
       "      <td>1</td>\n",
       "      <td>Our daily update is published. States reported...</td>\n",
       "      <td>real</td>\n",
       "      <td>0.999851</td>\n",
       "      <td>0.000149</td>\n",
       "      <td>0.999063</td>\n",
       "      <td>0.000937</td>\n",
       "      <td>0.999967</td>\n",
       "      <td>0.000033</td>\n",
       "      <td>0.999963</td>\n",
       "      <td>0.000037</td>\n",
       "      <td>0.0</td>\n",
       "      <td>0.0</td>\n",
       "      <td>0.838903</td>\n",
       "      <td>0.161097</td>\n",
       "    </tr>\n",
       "    <tr>\n",
       "      <th>1</th>\n",
       "      <td>2</td>\n",
       "      <td>Alfalfa is the only cure for COVID-19.</td>\n",
       "      <td>fake</td>\n",
       "      <td>0.000422</td>\n",
       "      <td>0.999578</td>\n",
       "      <td>0.000902</td>\n",
       "      <td>0.999098</td>\n",
       "      <td>0.000045</td>\n",
       "      <td>0.999955</td>\n",
       "      <td>0.000112</td>\n",
       "      <td>0.999888</td>\n",
       "      <td>0.0</td>\n",
       "      <td>0.0</td>\n",
       "      <td>0.000000</td>\n",
       "      <td>0.000000</td>\n",
       "    </tr>\n",
       "    <tr>\n",
       "      <th>2</th>\n",
       "      <td>3</td>\n",
       "      <td>President Trump Asked What He Would Do If He W...</td>\n",
       "      <td>fake</td>\n",
       "      <td>0.000401</td>\n",
       "      <td>0.999600</td>\n",
       "      <td>0.000954</td>\n",
       "      <td>0.999046</td>\n",
       "      <td>0.000033</td>\n",
       "      <td>0.999967</td>\n",
       "      <td>0.000170</td>\n",
       "      <td>0.999830</td>\n",
       "      <td>0.0</td>\n",
       "      <td>0.0</td>\n",
       "      <td>0.000000</td>\n",
       "      <td>1.000000</td>\n",
       "    </tr>\n",
       "    <tr>\n",
       "      <th>3</th>\n",
       "      <td>4</td>\n",
       "      <td>States reported 630 deaths. We are still seein...</td>\n",
       "      <td>real</td>\n",
       "      <td>0.999858</td>\n",
       "      <td>0.000142</td>\n",
       "      <td>0.999082</td>\n",
       "      <td>0.000918</td>\n",
       "      <td>0.999967</td>\n",
       "      <td>0.000033</td>\n",
       "      <td>0.999956</td>\n",
       "      <td>0.000044</td>\n",
       "      <td>0.0</td>\n",
       "      <td>0.0</td>\n",
       "      <td>0.838903</td>\n",
       "      <td>0.161097</td>\n",
       "    </tr>\n",
       "    <tr>\n",
       "      <th>4</th>\n",
       "      <td>5</td>\n",
       "      <td>This is the sixth time a global health emergen...</td>\n",
       "      <td>real</td>\n",
       "      <td>0.999852</td>\n",
       "      <td>0.000148</td>\n",
       "      <td>0.999076</td>\n",
       "      <td>0.000924</td>\n",
       "      <td>0.999953</td>\n",
       "      <td>0.000047</td>\n",
       "      <td>0.999912</td>\n",
       "      <td>0.000088</td>\n",
       "      <td>1.0</td>\n",
       "      <td>0.0</td>\n",
       "      <td>0.838903</td>\n",
       "      <td>0.161097</td>\n",
       "    </tr>\n",
       "  </tbody>\n",
       "</table>\n",
       "</div>"
      ],
      "text/plain": [
       "   id  ... domain_fake\n",
       "0   1  ...    0.161097\n",
       "1   2  ...    0.000000\n",
       "2   3  ...    1.000000\n",
       "3   4  ...    0.161097\n",
       "4   5  ...    0.161097\n",
       "\n",
       "[5 rows x 15 columns]"
      ]
     },
     "execution_count": 5,
     "metadata": {
      "tags": []
     },
     "output_type": "execute_result"
    }
   ],
   "source": [
    "test_feature_df.head()"
   ]
  },
  {
   "cell_type": "code",
   "execution_count": 6,
   "metadata": {
    "executionInfo": {
     "elapsed": 1942,
     "status": "ok",
     "timestamp": 1608409774924,
     "user": {
      "displayName": "Ayan Basak",
      "photoUrl": "",
      "userId": "03457614456337947866"
     },
     "user_tz": -330
    },
    "id": "89FhYHUmTVHw"
   },
   "outputs": [],
   "source": [
    "def soft_voting(row, class_no):\n",
    "  # class0_val = (row['model1_Class0'] + row['model2_Class0'] + row['model3_Class0'] + row['model4_Class0'] + row['model5_Class0'] + row['model6_Class0'])/6\n",
    "  # class1_val = (row['model1_Class1'] + row['model2_Class1'] + row['model3_Class1'] + row['model4_Class1'] + row['model5_Class1'] + row['model6_Class1'])/6\n",
    "  class0_val = (row['model1_Class0'] + row['model2_Class0'] + row['model3_Class0'] + row['model4_Class0'])/4\n",
    "  class1_val = (row['model1_Class1'] + row['model2_Class1'] + row['model3_Class1'] + row['model4_Class1'])/4\n",
    "  if class_no==0:\n",
    "    return class0_val\n",
    "  else:\n",
    "    return class1_val\n",
    "\n",
    "train_feature_df['class0_pred'] = train_feature_df.apply(lambda x: soft_voting(x, 0), 1)\n",
    "train_feature_df['class1_pred'] = train_feature_df.apply(lambda x: soft_voting(x, 1), 1)\n",
    "\n",
    "val_feature_df['class0_pred'] = val_feature_df.apply(lambda x: soft_voting(x, 0), 1)\n",
    "val_feature_df['class1_pred'] = val_feature_df.apply(lambda x: soft_voting(x, 1), 1)\n",
    "\n",
    "test_feature_df['class0_pred'] = test_feature_df.apply(lambda x: soft_voting(x, 0), 1)\n",
    "test_feature_df['class1_pred'] = test_feature_df.apply(lambda x: soft_voting(x, 1), 1)\n"
   ]
  },
  {
   "cell_type": "code",
   "execution_count": 7,
   "metadata": {
    "colab": {
     "base_uri": "https://localhost:8080/",
     "height": 615
    },
    "executionInfo": {
     "elapsed": 1140,
     "status": "ok",
     "timestamp": 1608409781292,
     "user": {
      "displayName": "Ayan Basak",
      "photoUrl": "",
      "userId": "03457614456337947866"
     },
     "user_tz": -330
    },
    "id": "O-q79cEuq_wC",
    "outputId": "79392ce5-3958-443f-baba-e0e61ed6d564"
   },
   "outputs": [
    {
     "data": {
      "text/html": [
       "<div>\n",
       "<style scoped>\n",
       "    .dataframe tbody tr th:only-of-type {\n",
       "        vertical-align: middle;\n",
       "    }\n",
       "\n",
       "    .dataframe tbody tr th {\n",
       "        vertical-align: top;\n",
       "    }\n",
       "\n",
       "    .dataframe thead th {\n",
       "        text-align: right;\n",
       "    }\n",
       "</style>\n",
       "<table border=\"1\" class=\"dataframe\">\n",
       "  <thead>\n",
       "    <tr style=\"text-align: right;\">\n",
       "      <th></th>\n",
       "      <th>id</th>\n",
       "      <th>tweet</th>\n",
       "      <th>label</th>\n",
       "      <th>model1_Class0</th>\n",
       "      <th>model1_Class1</th>\n",
       "      <th>model2_Class0</th>\n",
       "      <th>model2_Class1</th>\n",
       "      <th>model3_Class0</th>\n",
       "      <th>model3_Class1</th>\n",
       "      <th>model4_Class0</th>\n",
       "      <th>model4_Class1</th>\n",
       "      <th>username_real</th>\n",
       "      <th>username_fake</th>\n",
       "      <th>domain_real</th>\n",
       "      <th>domain_fake</th>\n",
       "      <th>class0_pred</th>\n",
       "      <th>class1_pred</th>\n",
       "    </tr>\n",
       "  </thead>\n",
       "  <tbody>\n",
       "    <tr>\n",
       "      <th>0</th>\n",
       "      <td>1</td>\n",
       "      <td>Our daily update is published. States reported...</td>\n",
       "      <td>real</td>\n",
       "      <td>0.999851</td>\n",
       "      <td>0.000149</td>\n",
       "      <td>0.999063</td>\n",
       "      <td>0.000937</td>\n",
       "      <td>0.999967</td>\n",
       "      <td>0.000033</td>\n",
       "      <td>0.999963</td>\n",
       "      <td>0.000037</td>\n",
       "      <td>0.0</td>\n",
       "      <td>0.0</td>\n",
       "      <td>0.838903</td>\n",
       "      <td>0.161097</td>\n",
       "      <td>0.999711</td>\n",
       "      <td>0.000289</td>\n",
       "    </tr>\n",
       "    <tr>\n",
       "      <th>1</th>\n",
       "      <td>2</td>\n",
       "      <td>Alfalfa is the only cure for COVID-19.</td>\n",
       "      <td>fake</td>\n",
       "      <td>0.000422</td>\n",
       "      <td>0.999578</td>\n",
       "      <td>0.000902</td>\n",
       "      <td>0.999098</td>\n",
       "      <td>0.000045</td>\n",
       "      <td>0.999955</td>\n",
       "      <td>0.000112</td>\n",
       "      <td>0.999888</td>\n",
       "      <td>0.0</td>\n",
       "      <td>0.0</td>\n",
       "      <td>0.000000</td>\n",
       "      <td>0.000000</td>\n",
       "      <td>0.000370</td>\n",
       "      <td>0.999630</td>\n",
       "    </tr>\n",
       "    <tr>\n",
       "      <th>2</th>\n",
       "      <td>3</td>\n",
       "      <td>President Trump Asked What He Would Do If He W...</td>\n",
       "      <td>fake</td>\n",
       "      <td>0.000401</td>\n",
       "      <td>0.999600</td>\n",
       "      <td>0.000954</td>\n",
       "      <td>0.999046</td>\n",
       "      <td>0.000033</td>\n",
       "      <td>0.999967</td>\n",
       "      <td>0.000170</td>\n",
       "      <td>0.999830</td>\n",
       "      <td>0.0</td>\n",
       "      <td>0.0</td>\n",
       "      <td>0.000000</td>\n",
       "      <td>1.000000</td>\n",
       "      <td>0.000389</td>\n",
       "      <td>0.999611</td>\n",
       "    </tr>\n",
       "    <tr>\n",
       "      <th>3</th>\n",
       "      <td>4</td>\n",
       "      <td>States reported 630 deaths. We are still seein...</td>\n",
       "      <td>real</td>\n",
       "      <td>0.999858</td>\n",
       "      <td>0.000142</td>\n",
       "      <td>0.999082</td>\n",
       "      <td>0.000918</td>\n",
       "      <td>0.999967</td>\n",
       "      <td>0.000033</td>\n",
       "      <td>0.999956</td>\n",
       "      <td>0.000044</td>\n",
       "      <td>0.0</td>\n",
       "      <td>0.0</td>\n",
       "      <td>0.838903</td>\n",
       "      <td>0.161097</td>\n",
       "      <td>0.999715</td>\n",
       "      <td>0.000285</td>\n",
       "    </tr>\n",
       "    <tr>\n",
       "      <th>4</th>\n",
       "      <td>5</td>\n",
       "      <td>This is the sixth time a global health emergen...</td>\n",
       "      <td>real</td>\n",
       "      <td>0.999852</td>\n",
       "      <td>0.000148</td>\n",
       "      <td>0.999076</td>\n",
       "      <td>0.000924</td>\n",
       "      <td>0.999953</td>\n",
       "      <td>0.000047</td>\n",
       "      <td>0.999912</td>\n",
       "      <td>0.000088</td>\n",
       "      <td>1.0</td>\n",
       "      <td>0.0</td>\n",
       "      <td>0.838903</td>\n",
       "      <td>0.161097</td>\n",
       "      <td>0.999698</td>\n",
       "      <td>0.000302</td>\n",
       "    </tr>\n",
       "  </tbody>\n",
       "</table>\n",
       "</div>"
      ],
      "text/plain": [
       "   id  ... class1_pred\n",
       "0   1  ...    0.000289\n",
       "1   2  ...    0.999630\n",
       "2   3  ...    0.999611\n",
       "3   4  ...    0.000285\n",
       "4   5  ...    0.000302\n",
       "\n",
       "[5 rows x 17 columns]"
      ]
     },
     "execution_count": 7,
     "metadata": {
      "tags": []
     },
     "output_type": "execute_result"
    }
   ],
   "source": [
    "test_feature_df.head()"
   ]
  },
  {
   "cell_type": "code",
   "execution_count": 8,
   "metadata": {
    "colab": {
     "base_uri": "https://localhost:8080/",
     "height": 204
    },
    "executionInfo": {
     "elapsed": 1069,
     "status": "ok",
     "timestamp": 1608409794813,
     "user": {
      "displayName": "Ayan Basak",
      "photoUrl": "",
      "userId": "03457614456337947866"
     },
     "user_tz": -330
    },
    "id": "FpxlN0LZ21Fq",
    "outputId": "bbf12f3c-bc9d-42c2-e150-7d0f0f22d48c"
   },
   "outputs": [
    {
     "data": {
      "text/html": [
       "<div>\n",
       "<style scoped>\n",
       "    .dataframe tbody tr th:only-of-type {\n",
       "        vertical-align: middle;\n",
       "    }\n",
       "\n",
       "    .dataframe tbody tr th {\n",
       "        vertical-align: top;\n",
       "    }\n",
       "\n",
       "    .dataframe thead th {\n",
       "        text-align: right;\n",
       "    }\n",
       "</style>\n",
       "<table border=\"1\" class=\"dataframe\">\n",
       "  <thead>\n",
       "    <tr style=\"text-align: right;\">\n",
       "      <th></th>\n",
       "      <th>id</th>\n",
       "      <th>tweet</th>\n",
       "      <th>label</th>\n",
       "    </tr>\n",
       "  </thead>\n",
       "  <tbody>\n",
       "    <tr>\n",
       "      <th>0</th>\n",
       "      <td>1</td>\n",
       "      <td>Our daily update is published. States reported...</td>\n",
       "      <td>real</td>\n",
       "    </tr>\n",
       "    <tr>\n",
       "      <th>1</th>\n",
       "      <td>2</td>\n",
       "      <td>Alfalfa is the only cure for COVID-19.</td>\n",
       "      <td>fake</td>\n",
       "    </tr>\n",
       "    <tr>\n",
       "      <th>2</th>\n",
       "      <td>3</td>\n",
       "      <td>President Trump Asked What He Would Do If He W...</td>\n",
       "      <td>fake</td>\n",
       "    </tr>\n",
       "    <tr>\n",
       "      <th>3</th>\n",
       "      <td>4</td>\n",
       "      <td>States reported 630 deaths. We are still seein...</td>\n",
       "      <td>real</td>\n",
       "    </tr>\n",
       "    <tr>\n",
       "      <th>4</th>\n",
       "      <td>5</td>\n",
       "      <td>This is the sixth time a global health emergen...</td>\n",
       "      <td>real</td>\n",
       "    </tr>\n",
       "  </tbody>\n",
       "</table>\n",
       "</div>"
      ],
      "text/plain": [
       "   id                                              tweet label\n",
       "0   1  Our daily update is published. States reported...  real\n",
       "1   2             Alfalfa is the only cure for COVID-19.  fake\n",
       "2   3  President Trump Asked What He Would Do If He W...  fake\n",
       "3   4  States reported 630 deaths. We are still seein...  real\n",
       "4   5  This is the sixth time a global health emergen...  real"
      ]
     },
     "execution_count": 8,
     "metadata": {
      "tags": []
     },
     "output_type": "execute_result"
    }
   ],
   "source": [
    "test_label_df = pd.read_csv('/content/drive/MyDrive/Constraint/data/english_test_with_labels.csv')\n",
    "test_label_df.head()\n"
   ]
  },
  {
   "cell_type": "code",
   "execution_count": 9,
   "metadata": {
    "colab": {
     "base_uri": "https://localhost:8080/",
     "height": 615
    },
    "executionInfo": {
     "elapsed": 1107,
     "status": "ok",
     "timestamp": 1608409835774,
     "user": {
      "displayName": "Ayan Basak",
      "photoUrl": "",
      "userId": "03457614456337947866"
     },
     "user_tz": -330
    },
    "id": "Qsz8OstPlx1K",
    "outputId": "ea731ea2-563b-4d79-8cc7-8a1a0b83b979"
   },
   "outputs": [
    {
     "data": {
      "text/html": [
       "<div>\n",
       "<style scoped>\n",
       "    .dataframe tbody tr th:only-of-type {\n",
       "        vertical-align: middle;\n",
       "    }\n",
       "\n",
       "    .dataframe tbody tr th {\n",
       "        vertical-align: top;\n",
       "    }\n",
       "\n",
       "    .dataframe thead th {\n",
       "        text-align: right;\n",
       "    }\n",
       "</style>\n",
       "<table border=\"1\" class=\"dataframe\">\n",
       "  <thead>\n",
       "    <tr style=\"text-align: right;\">\n",
       "      <th></th>\n",
       "      <th>id</th>\n",
       "      <th>tweet</th>\n",
       "      <th>label</th>\n",
       "      <th>model1_Class0</th>\n",
       "      <th>model1_Class1</th>\n",
       "      <th>model2_Class0</th>\n",
       "      <th>model2_Class1</th>\n",
       "      <th>model3_Class0</th>\n",
       "      <th>model3_Class1</th>\n",
       "      <th>model4_Class0</th>\n",
       "      <th>model4_Class1</th>\n",
       "      <th>username_real</th>\n",
       "      <th>username_fake</th>\n",
       "      <th>domain_real</th>\n",
       "      <th>domain_fake</th>\n",
       "      <th>class0_pred</th>\n",
       "      <th>class1_pred</th>\n",
       "    </tr>\n",
       "  </thead>\n",
       "  <tbody>\n",
       "    <tr>\n",
       "      <th>0</th>\n",
       "      <td>1</td>\n",
       "      <td>Our daily update is published. States reported...</td>\n",
       "      <td>real</td>\n",
       "      <td>0.999851</td>\n",
       "      <td>0.000149</td>\n",
       "      <td>0.999063</td>\n",
       "      <td>0.000937</td>\n",
       "      <td>0.999967</td>\n",
       "      <td>0.000033</td>\n",
       "      <td>0.999963</td>\n",
       "      <td>0.000037</td>\n",
       "      <td>0.0</td>\n",
       "      <td>0.0</td>\n",
       "      <td>0.838903</td>\n",
       "      <td>0.161097</td>\n",
       "      <td>0.999711</td>\n",
       "      <td>0.000289</td>\n",
       "    </tr>\n",
       "    <tr>\n",
       "      <th>1</th>\n",
       "      <td>2</td>\n",
       "      <td>Alfalfa is the only cure for COVID-19.</td>\n",
       "      <td>fake</td>\n",
       "      <td>0.000422</td>\n",
       "      <td>0.999578</td>\n",
       "      <td>0.000902</td>\n",
       "      <td>0.999098</td>\n",
       "      <td>0.000045</td>\n",
       "      <td>0.999955</td>\n",
       "      <td>0.000112</td>\n",
       "      <td>0.999888</td>\n",
       "      <td>0.0</td>\n",
       "      <td>0.0</td>\n",
       "      <td>0.000000</td>\n",
       "      <td>0.000000</td>\n",
       "      <td>0.000370</td>\n",
       "      <td>0.999630</td>\n",
       "    </tr>\n",
       "    <tr>\n",
       "      <th>2</th>\n",
       "      <td>3</td>\n",
       "      <td>President Trump Asked What He Would Do If He W...</td>\n",
       "      <td>fake</td>\n",
       "      <td>0.000401</td>\n",
       "      <td>0.999600</td>\n",
       "      <td>0.000954</td>\n",
       "      <td>0.999046</td>\n",
       "      <td>0.000033</td>\n",
       "      <td>0.999967</td>\n",
       "      <td>0.000170</td>\n",
       "      <td>0.999830</td>\n",
       "      <td>0.0</td>\n",
       "      <td>0.0</td>\n",
       "      <td>0.000000</td>\n",
       "      <td>1.000000</td>\n",
       "      <td>0.000389</td>\n",
       "      <td>0.999611</td>\n",
       "    </tr>\n",
       "    <tr>\n",
       "      <th>3</th>\n",
       "      <td>4</td>\n",
       "      <td>States reported 630 deaths. We are still seein...</td>\n",
       "      <td>real</td>\n",
       "      <td>0.999858</td>\n",
       "      <td>0.000142</td>\n",
       "      <td>0.999082</td>\n",
       "      <td>0.000918</td>\n",
       "      <td>0.999967</td>\n",
       "      <td>0.000033</td>\n",
       "      <td>0.999956</td>\n",
       "      <td>0.000044</td>\n",
       "      <td>0.0</td>\n",
       "      <td>0.0</td>\n",
       "      <td>0.838903</td>\n",
       "      <td>0.161097</td>\n",
       "      <td>0.999715</td>\n",
       "      <td>0.000285</td>\n",
       "    </tr>\n",
       "    <tr>\n",
       "      <th>4</th>\n",
       "      <td>5</td>\n",
       "      <td>This is the sixth time a global health emergen...</td>\n",
       "      <td>real</td>\n",
       "      <td>0.999852</td>\n",
       "      <td>0.000148</td>\n",
       "      <td>0.999076</td>\n",
       "      <td>0.000924</td>\n",
       "      <td>0.999953</td>\n",
       "      <td>0.000047</td>\n",
       "      <td>0.999912</td>\n",
       "      <td>0.000088</td>\n",
       "      <td>1.0</td>\n",
       "      <td>0.0</td>\n",
       "      <td>0.838903</td>\n",
       "      <td>0.161097</td>\n",
       "      <td>0.999698</td>\n",
       "      <td>0.000302</td>\n",
       "    </tr>\n",
       "  </tbody>\n",
       "</table>\n",
       "</div>"
      ],
      "text/plain": [
       "   id  ... class1_pred\n",
       "0   1  ...    0.000289\n",
       "1   2  ...    0.999630\n",
       "2   3  ...    0.999611\n",
       "3   4  ...    0.000285\n",
       "4   5  ...    0.000302\n",
       "\n",
       "[5 rows x 17 columns]"
      ]
     },
     "execution_count": 9,
     "metadata": {
      "tags": []
     },
     "output_type": "execute_result"
    }
   ],
   "source": [
    "temp = test_feature_df.merge(test_label_df[[\"id\", \"label\"]], on=[\"id\", \"label\"], how='left')\n",
    "temp.head()"
   ]
  },
  {
   "cell_type": "code",
   "execution_count": 10,
   "metadata": {
    "executionInfo": {
     "elapsed": 1011,
     "status": "ok",
     "timestamp": 1608409861485,
     "user": {
      "displayName": "Ayan Basak",
      "photoUrl": "",
      "userId": "03457614456337947866"
     },
     "user_tz": -330
    },
    "id": "XKN07-MrW8cb"
   },
   "outputs": [],
   "source": [
    "def map_label(row):\n",
    "  return 0 if row[\"label\"]==\"real\" else 1\n",
    "\n",
    "train_feature_df[\"label\"] = train_feature_df.apply(lambda x: map_label(x), 1)\n",
    "val_feature_df[\"label\"] = val_feature_df.apply(lambda x: map_label(x), 1)\n",
    "temp[\"label\"] = temp.apply(lambda x: map_label(x), 1)\n"
   ]
  },
  {
   "cell_type": "code",
   "execution_count": 11,
   "metadata": {
    "colab": {
     "base_uri": "https://localhost:8080/",
     "height": 204
    },
    "executionInfo": {
     "elapsed": 1312,
     "status": "ok",
     "timestamp": 1608409874477,
     "user": {
      "displayName": "Ayan Basak",
      "photoUrl": "",
      "userId": "03457614456337947866"
     },
     "user_tz": -330
    },
    "id": "FOJ8l7vpTVJv",
    "outputId": "77066de3-9acc-4b1a-b1ce-fdc65fd774be"
   },
   "outputs": [
    {
     "data": {
      "text/html": [
       "<div>\n",
       "<style scoped>\n",
       "    .dataframe tbody tr th:only-of-type {\n",
       "        vertical-align: middle;\n",
       "    }\n",
       "\n",
       "    .dataframe tbody tr th {\n",
       "        vertical-align: top;\n",
       "    }\n",
       "\n",
       "    .dataframe thead th {\n",
       "        text-align: right;\n",
       "    }\n",
       "</style>\n",
       "<table border=\"1\" class=\"dataframe\">\n",
       "  <thead>\n",
       "    <tr style=\"text-align: right;\">\n",
       "      <th></th>\n",
       "      <th>class0_pred</th>\n",
       "      <th>class1_pred</th>\n",
       "      <th>username_real</th>\n",
       "      <th>username_fake</th>\n",
       "      <th>domain_real</th>\n",
       "      <th>domain_fake</th>\n",
       "      <th>label</th>\n",
       "    </tr>\n",
       "  </thead>\n",
       "  <tbody>\n",
       "    <tr>\n",
       "      <th>0</th>\n",
       "      <td>0.999545</td>\n",
       "      <td>0.000455</td>\n",
       "      <td>0.000000</td>\n",
       "      <td>0.000000</td>\n",
       "      <td>0.000000</td>\n",
       "      <td>0.000000</td>\n",
       "      <td>0</td>\n",
       "    </tr>\n",
       "    <tr>\n",
       "      <th>1</th>\n",
       "      <td>0.999419</td>\n",
       "      <td>0.000581</td>\n",
       "      <td>0.000000</td>\n",
       "      <td>0.000000</td>\n",
       "      <td>0.838903</td>\n",
       "      <td>0.161097</td>\n",
       "      <td>0</td>\n",
       "    </tr>\n",
       "    <tr>\n",
       "      <th>2</th>\n",
       "      <td>0.000421</td>\n",
       "      <td>0.999579</td>\n",
       "      <td>0.000000</td>\n",
       "      <td>0.000000</td>\n",
       "      <td>0.000000</td>\n",
       "      <td>1.000000</td>\n",
       "      <td>1</td>\n",
       "    </tr>\n",
       "    <tr>\n",
       "      <th>3</th>\n",
       "      <td>0.999698</td>\n",
       "      <td>0.000302</td>\n",
       "      <td>0.995146</td>\n",
       "      <td>0.004854</td>\n",
       "      <td>0.838903</td>\n",
       "      <td>0.161097</td>\n",
       "      <td>0</td>\n",
       "    </tr>\n",
       "    <tr>\n",
       "      <th>4</th>\n",
       "      <td>0.999704</td>\n",
       "      <td>0.000296</td>\n",
       "      <td>0.000000</td>\n",
       "      <td>0.000000</td>\n",
       "      <td>0.838903</td>\n",
       "      <td>0.161097</td>\n",
       "      <td>0</td>\n",
       "    </tr>\n",
       "  </tbody>\n",
       "</table>\n",
       "</div>"
      ],
      "text/plain": [
       "   class0_pred  class1_pred  username_real  ...  domain_real  domain_fake  label\n",
       "0     0.999545     0.000455       0.000000  ...     0.000000     0.000000      0\n",
       "1     0.999419     0.000581       0.000000  ...     0.838903     0.161097      0\n",
       "2     0.000421     0.999579       0.000000  ...     0.000000     1.000000      1\n",
       "3     0.999698     0.000302       0.995146  ...     0.838903     0.161097      0\n",
       "4     0.999704     0.000296       0.000000  ...     0.838903     0.161097      0\n",
       "\n",
       "[5 rows x 7 columns]"
      ]
     },
     "execution_count": 11,
     "metadata": {
      "tags": []
     },
     "output_type": "execute_result"
    }
   ],
   "source": [
    "train_feature_df = train_feature_df[[\"class0_pred\", \"class1_pred\", \"username_real\", \"username_fake\", \"domain_real\", \"domain_fake\", \"label\"]]\n",
    "train_feature_df.head()\n"
   ]
  },
  {
   "cell_type": "code",
   "execution_count": 12,
   "metadata": {
    "colab": {
     "base_uri": "https://localhost:8080/",
     "height": 204
    },
    "executionInfo": {
     "elapsed": 1100,
     "status": "ok",
     "timestamp": 1608409874858,
     "user": {
      "displayName": "Ayan Basak",
      "photoUrl": "",
      "userId": "03457614456337947866"
     },
     "user_tz": -330
    },
    "id": "VCWlV92MYADe",
    "outputId": "049eed2b-32fa-458f-e765-c709c4d3b719"
   },
   "outputs": [
    {
     "data": {
      "text/html": [
       "<div>\n",
       "<style scoped>\n",
       "    .dataframe tbody tr th:only-of-type {\n",
       "        vertical-align: middle;\n",
       "    }\n",
       "\n",
       "    .dataframe tbody tr th {\n",
       "        vertical-align: top;\n",
       "    }\n",
       "\n",
       "    .dataframe thead th {\n",
       "        text-align: right;\n",
       "    }\n",
       "</style>\n",
       "<table border=\"1\" class=\"dataframe\">\n",
       "  <thead>\n",
       "    <tr style=\"text-align: right;\">\n",
       "      <th></th>\n",
       "      <th>class0_pred</th>\n",
       "      <th>class1_pred</th>\n",
       "      <th>username_real</th>\n",
       "      <th>username_fake</th>\n",
       "      <th>domain_real</th>\n",
       "      <th>domain_fake</th>\n",
       "      <th>label</th>\n",
       "    </tr>\n",
       "  </thead>\n",
       "  <tbody>\n",
       "    <tr>\n",
       "      <th>0</th>\n",
       "      <td>0.007835</td>\n",
       "      <td>0.992165</td>\n",
       "      <td>0.0</td>\n",
       "      <td>0.0</td>\n",
       "      <td>0.0</td>\n",
       "      <td>0.0</td>\n",
       "      <td>1</td>\n",
       "    </tr>\n",
       "    <tr>\n",
       "      <th>1</th>\n",
       "      <td>0.251324</td>\n",
       "      <td>0.748676</td>\n",
       "      <td>0.0</td>\n",
       "      <td>0.0</td>\n",
       "      <td>0.0</td>\n",
       "      <td>0.0</td>\n",
       "      <td>1</td>\n",
       "    </tr>\n",
       "    <tr>\n",
       "      <th>2</th>\n",
       "      <td>0.000370</td>\n",
       "      <td>0.999630</td>\n",
       "      <td>0.0</td>\n",
       "      <td>0.0</td>\n",
       "      <td>0.0</td>\n",
       "      <td>0.0</td>\n",
       "      <td>1</td>\n",
       "    </tr>\n",
       "    <tr>\n",
       "      <th>3</th>\n",
       "      <td>0.000682</td>\n",
       "      <td>0.999318</td>\n",
       "      <td>0.0</td>\n",
       "      <td>0.0</td>\n",
       "      <td>0.0</td>\n",
       "      <td>1.0</td>\n",
       "      <td>1</td>\n",
       "    </tr>\n",
       "    <tr>\n",
       "      <th>4</th>\n",
       "      <td>0.999659</td>\n",
       "      <td>0.000341</td>\n",
       "      <td>0.0</td>\n",
       "      <td>0.0</td>\n",
       "      <td>1.0</td>\n",
       "      <td>0.0</td>\n",
       "      <td>0</td>\n",
       "    </tr>\n",
       "  </tbody>\n",
       "</table>\n",
       "</div>"
      ],
      "text/plain": [
       "   class0_pred  class1_pred  username_real  ...  domain_real  domain_fake  label\n",
       "0     0.007835     0.992165            0.0  ...          0.0          0.0      1\n",
       "1     0.251324     0.748676            0.0  ...          0.0          0.0      1\n",
       "2     0.000370     0.999630            0.0  ...          0.0          0.0      1\n",
       "3     0.000682     0.999318            0.0  ...          0.0          1.0      1\n",
       "4     0.999659     0.000341            0.0  ...          1.0          0.0      0\n",
       "\n",
       "[5 rows x 7 columns]"
      ]
     },
     "execution_count": 12,
     "metadata": {
      "tags": []
     },
     "output_type": "execute_result"
    }
   ],
   "source": [
    "val_feature_df = val_feature_df[[\"class0_pred\", \"class1_pred\", \"username_real\", \"username_fake\", \"domain_real\", \"domain_fake\", \"label\"]]\n",
    "val_feature_df.head()"
   ]
  },
  {
   "cell_type": "code",
   "execution_count": 13,
   "metadata": {
    "colab": {
     "base_uri": "https://localhost:8080/",
     "height": 204
    },
    "executionInfo": {
     "elapsed": 1029,
     "status": "ok",
     "timestamp": 1608409887177,
     "user": {
      "displayName": "Ayan Basak",
      "photoUrl": "",
      "userId": "03457614456337947866"
     },
     "user_tz": -330
    },
    "id": "qAZ5iqlg1hO3",
    "outputId": "5bd372cc-58e7-4d78-f05b-993c0eef46e3"
   },
   "outputs": [
    {
     "data": {
      "text/html": [
       "<div>\n",
       "<style scoped>\n",
       "    .dataframe tbody tr th:only-of-type {\n",
       "        vertical-align: middle;\n",
       "    }\n",
       "\n",
       "    .dataframe tbody tr th {\n",
       "        vertical-align: top;\n",
       "    }\n",
       "\n",
       "    .dataframe thead th {\n",
       "        text-align: right;\n",
       "    }\n",
       "</style>\n",
       "<table border=\"1\" class=\"dataframe\">\n",
       "  <thead>\n",
       "    <tr style=\"text-align: right;\">\n",
       "      <th></th>\n",
       "      <th>class0_pred</th>\n",
       "      <th>class1_pred</th>\n",
       "      <th>username_real</th>\n",
       "      <th>username_fake</th>\n",
       "      <th>domain_real</th>\n",
       "      <th>domain_fake</th>\n",
       "      <th>label</th>\n",
       "    </tr>\n",
       "  </thead>\n",
       "  <tbody>\n",
       "    <tr>\n",
       "      <th>0</th>\n",
       "      <td>0.999711</td>\n",
       "      <td>0.000289</td>\n",
       "      <td>0.0</td>\n",
       "      <td>0.0</td>\n",
       "      <td>0.838903</td>\n",
       "      <td>0.161097</td>\n",
       "      <td>0</td>\n",
       "    </tr>\n",
       "    <tr>\n",
       "      <th>1</th>\n",
       "      <td>0.000370</td>\n",
       "      <td>0.999630</td>\n",
       "      <td>0.0</td>\n",
       "      <td>0.0</td>\n",
       "      <td>0.000000</td>\n",
       "      <td>0.000000</td>\n",
       "      <td>1</td>\n",
       "    </tr>\n",
       "    <tr>\n",
       "      <th>2</th>\n",
       "      <td>0.000389</td>\n",
       "      <td>0.999611</td>\n",
       "      <td>0.0</td>\n",
       "      <td>0.0</td>\n",
       "      <td>0.000000</td>\n",
       "      <td>1.000000</td>\n",
       "      <td>1</td>\n",
       "    </tr>\n",
       "    <tr>\n",
       "      <th>3</th>\n",
       "      <td>0.999715</td>\n",
       "      <td>0.000285</td>\n",
       "      <td>0.0</td>\n",
       "      <td>0.0</td>\n",
       "      <td>0.838903</td>\n",
       "      <td>0.161097</td>\n",
       "      <td>0</td>\n",
       "    </tr>\n",
       "    <tr>\n",
       "      <th>4</th>\n",
       "      <td>0.999698</td>\n",
       "      <td>0.000302</td>\n",
       "      <td>1.0</td>\n",
       "      <td>0.0</td>\n",
       "      <td>0.838903</td>\n",
       "      <td>0.161097</td>\n",
       "      <td>0</td>\n",
       "    </tr>\n",
       "  </tbody>\n",
       "</table>\n",
       "</div>"
      ],
      "text/plain": [
       "   class0_pred  class1_pred  username_real  ...  domain_real  domain_fake  label\n",
       "0     0.999711     0.000289            0.0  ...     0.838903     0.161097      0\n",
       "1     0.000370     0.999630            0.0  ...     0.000000     0.000000      1\n",
       "2     0.000389     0.999611            0.0  ...     0.000000     1.000000      1\n",
       "3     0.999715     0.000285            0.0  ...     0.838903     0.161097      0\n",
       "4     0.999698     0.000302            1.0  ...     0.838903     0.161097      0\n",
       "\n",
       "[5 rows x 7 columns]"
      ]
     },
     "execution_count": 13,
     "metadata": {
      "tags": []
     },
     "output_type": "execute_result"
    }
   ],
   "source": [
    "temp = temp[[\"class0_pred\", \"class1_pred\", \"username_real\", \"username_fake\", \"domain_real\", \"domain_fake\", \"label\"]]\n",
    "temp.head()"
   ]
  },
  {
   "cell_type": "code",
   "execution_count": 14,
   "metadata": {
    "executionInfo": {
     "elapsed": 1110,
     "status": "ok",
     "timestamp": 1608409892584,
     "user": {
      "displayName": "Ayan Basak",
      "photoUrl": "",
      "userId": "03457614456337947866"
     },
     "user_tz": -330
    },
    "id": "JJV83VwTVY5W"
   },
   "outputs": [],
   "source": [
    "train_feature_df.to_csv('data/postproc_train.csv', index=False)\n",
    "val_feature_df.to_csv('data/postproc_val.csv', index=False)\n",
    "temp.to_csv('data/postproc_test.csv', index=False)\n"
   ]
  },
  {
   "cell_type": "code",
   "execution_count": null,
   "metadata": {
    "executionInfo": {
     "elapsed": 4070,
     "status": "aborted",
     "timestamp": 1608406438331,
     "user": {
      "displayName": "Ayan Basak",
      "photoUrl": "",
      "userId": "03457614456337947866"
     },
     "user_tz": -330
    },
    "id": "H4aYzO4gWHTf"
   },
   "outputs": [],
   "source": []
  },
  {
   "cell_type": "code",
   "execution_count": null,
   "metadata": {
    "executionInfo": {
     "elapsed": 4067,
     "status": "aborted",
     "timestamp": 1608406438331,
     "user": {
      "displayName": "Ayan Basak",
      "photoUrl": "",
      "userId": "03457614456337947866"
     },
     "user_tz": -330
    },
    "id": "ZPsDt7yfWHVq"
   },
   "outputs": [],
   "source": []
  },
  {
   "cell_type": "code",
   "execution_count": null,
   "metadata": {
    "executionInfo": {
     "elapsed": 4065,
     "status": "aborted",
     "timestamp": 1608406438332,
     "user": {
      "displayName": "Ayan Basak",
      "photoUrl": "",
      "userId": "03457614456337947866"
     },
     "user_tz": -330
    },
    "id": "uG9JBFxbWHX8"
   },
   "outputs": [],
   "source": []
  },
  {
   "cell_type": "code",
   "execution_count": null,
   "metadata": {
    "executionInfo": {
     "elapsed": 4062,
     "status": "aborted",
     "timestamp": 1608406438332,
     "user": {
      "displayName": "Ayan Basak",
      "photoUrl": "",
      "userId": "03457614456337947866"
     },
     "user_tz": -330
    },
    "id": "bRwECBXfWHbA"
   },
   "outputs": [],
   "source": []
  }
 ],
 "metadata": {
  "colab": {
   "authorship_tag": "ABX9TyMcOrG2cP9ml6VVxlJjUi7d",
   "collapsed_sections": [],
   "mount_file_id": "1oMFVHUoUZsO7FUIvFWAbA45UbDPwJtxC",
   "name": "Postproc Data Creation",
   "provenance": []
  },
  "kernelspec": {
   "display_name": "Python 3",
   "language": "python",
   "name": "python3"
  },
  "language_info": {
   "codemirror_mode": {
    "name": "ipython",
    "version": 3
   },
   "file_extension": ".py",
   "mimetype": "text/x-python",
   "name": "python",
   "nbconvert_exporter": "python",
   "pygments_lexer": "ipython3",
   "version": "3.8.5"
  }
 },
 "nbformat": 4,
 "nbformat_minor": 1
}
