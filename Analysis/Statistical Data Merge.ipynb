{
 "cells": [
  {
   "cell_type": "code",
   "execution_count": 16,
   "metadata": {
    "executionInfo": {
     "elapsed": 1296,
     "status": "ok",
     "timestamp": 1608407638222,
     "user": {
      "displayName": "Ayan Basak",
      "photoUrl": "",
      "userId": "03457614456337947866"
     },
     "user_tz": -330
    },
    "id": "S08kOzbyD76t"
   },
   "outputs": [],
   "source": [
    "import pandas as pd\n",
    "import numpy as np\n",
    "import json\n",
    "import re\n",
    "import requests\n",
    "from urllib.parse import urlparse\n"
   ]
  },
  {
   "cell_type": "code",
   "execution_count": 17,
   "metadata": {
    "colab": {
     "base_uri": "https://localhost:8080/",
     "height": 204
    },
    "executionInfo": {
     "elapsed": 1619,
     "status": "ok",
     "timestamp": 1608407638747,
     "user": {
      "displayName": "Ayan Basak",
      "photoUrl": "",
      "userId": "03457614456337947866"
     },
     "user_tz": -330
    },
    "id": "S905qi40Eskr",
    "outputId": "9dee6e2d-a7f4-4fc8-a324-c7ff6d337bc6"
   },
   "outputs": [
    {
     "data": {
      "text/html": [
       "<div>\n",
       "<style scoped>\n",
       "    .dataframe tbody tr th:only-of-type {\n",
       "        vertical-align: middle;\n",
       "    }\n",
       "\n",
       "    .dataframe tbody tr th {\n",
       "        vertical-align: top;\n",
       "    }\n",
       "\n",
       "    .dataframe thead th {\n",
       "        text-align: right;\n",
       "    }\n",
       "</style>\n",
       "<table border=\"1\" class=\"dataframe\">\n",
       "  <thead>\n",
       "    <tr style=\"text-align: right;\">\n",
       "      <th></th>\n",
       "      <th>id</th>\n",
       "      <th>tweet</th>\n",
       "      <th>label</th>\n",
       "    </tr>\n",
       "  </thead>\n",
       "  <tbody>\n",
       "    <tr>\n",
       "      <th>0</th>\n",
       "      <td>1</td>\n",
       "      <td>Our daily update is published. States reported...</td>\n",
       "      <td>real</td>\n",
       "    </tr>\n",
       "    <tr>\n",
       "      <th>1</th>\n",
       "      <td>2</td>\n",
       "      <td>Alfalfa is the only cure for COVID-19.</td>\n",
       "      <td>fake</td>\n",
       "    </tr>\n",
       "    <tr>\n",
       "      <th>2</th>\n",
       "      <td>3</td>\n",
       "      <td>President Trump Asked What He Would Do If He W...</td>\n",
       "      <td>fake</td>\n",
       "    </tr>\n",
       "    <tr>\n",
       "      <th>3</th>\n",
       "      <td>4</td>\n",
       "      <td>States reported 630 deaths. We are still seein...</td>\n",
       "      <td>real</td>\n",
       "    </tr>\n",
       "    <tr>\n",
       "      <th>4</th>\n",
       "      <td>5</td>\n",
       "      <td>This is the sixth time a global health emergen...</td>\n",
       "      <td>real</td>\n",
       "    </tr>\n",
       "  </tbody>\n",
       "</table>\n",
       "</div>"
      ],
      "text/plain": [
       "   id                                              tweet label\n",
       "0   1  Our daily update is published. States reported...  real\n",
       "1   2             Alfalfa is the only cure for COVID-19.  fake\n",
       "2   3  President Trump Asked What He Would Do If He W...  fake\n",
       "3   4  States reported 630 deaths. We are still seein...  real\n",
       "4   5  This is the sixth time a global health emergen...  real"
      ]
     },
     "execution_count": 17,
     "metadata": {
      "tags": []
     },
     "output_type": "execute_result"
    }
   ],
   "source": [
    "train_df = pd.read_csv('../../data/Constraint_Train.csv')\n",
    "val_df = pd.read_csv('../../data/Constraint_Val.csv')\n",
    "test_df = pd.read_csv('../../data/english_test_with_labels.csv')\n",
    "test_df.head()"
   ]
  },
  {
   "cell_type": "code",
   "execution_count": 18,
   "metadata": {
    "colab": {
     "base_uri": "https://localhost:8080/",
     "height": 204
    },
    "executionInfo": {
     "elapsed": 1417,
     "status": "ok",
     "timestamp": 1608407638748,
     "user": {
      "displayName": "Ayan Basak",
      "photoUrl": "",
      "userId": "03457614456337947866"
     },
     "user_tz": -330
    },
    "id": "2_sUO-RdEtFJ",
    "outputId": "79aa1ec1-7686-4b19-d973-7185dff7f204"
   },
   "outputs": [
    {
     "data": {
      "text/html": [
       "<div>\n",
       "<style scoped>\n",
       "    .dataframe tbody tr th:only-of-type {\n",
       "        vertical-align: middle;\n",
       "    }\n",
       "\n",
       "    .dataframe tbody tr th {\n",
       "        vertical-align: top;\n",
       "    }\n",
       "\n",
       "    .dataframe thead th {\n",
       "        text-align: right;\n",
       "    }\n",
       "</style>\n",
       "<table border=\"1\" class=\"dataframe\">\n",
       "  <thead>\n",
       "    <tr style=\"text-align: right;\">\n",
       "      <th></th>\n",
       "      <th>id</th>\n",
       "      <th>model1_Class0</th>\n",
       "      <th>model1_Class1</th>\n",
       "      <th>model2_Class0</th>\n",
       "      <th>model2_Class1</th>\n",
       "      <th>model3_Class0</th>\n",
       "      <th>model3_Class1</th>\n",
       "      <th>model4_Class0</th>\n",
       "      <th>model4_Class1</th>\n",
       "      <th>model5_Class0</th>\n",
       "      <th>model5_Class1</th>\n",
       "    </tr>\n",
       "  </thead>\n",
       "  <tbody>\n",
       "    <tr>\n",
       "      <th>0</th>\n",
       "      <td>1</td>\n",
       "      <td>0.999851</td>\n",
       "      <td>0.000149</td>\n",
       "      <td>0.999063</td>\n",
       "      <td>0.000937</td>\n",
       "      <td>0.999967</td>\n",
       "      <td>0.000033</td>\n",
       "      <td>0.999963</td>\n",
       "      <td>0.000037</td>\n",
       "      <td>0.999984</td>\n",
       "      <td>0.000016</td>\n",
       "    </tr>\n",
       "    <tr>\n",
       "      <th>1</th>\n",
       "      <td>2</td>\n",
       "      <td>0.000422</td>\n",
       "      <td>0.999578</td>\n",
       "      <td>0.000902</td>\n",
       "      <td>0.999098</td>\n",
       "      <td>0.000045</td>\n",
       "      <td>0.999955</td>\n",
       "      <td>0.000112</td>\n",
       "      <td>0.999888</td>\n",
       "      <td>0.000067</td>\n",
       "      <td>0.999933</td>\n",
       "    </tr>\n",
       "    <tr>\n",
       "      <th>2</th>\n",
       "      <td>3</td>\n",
       "      <td>0.000401</td>\n",
       "      <td>0.999600</td>\n",
       "      <td>0.000954</td>\n",
       "      <td>0.999046</td>\n",
       "      <td>0.000033</td>\n",
       "      <td>0.999967</td>\n",
       "      <td>0.000170</td>\n",
       "      <td>0.999830</td>\n",
       "      <td>0.000081</td>\n",
       "      <td>0.999919</td>\n",
       "    </tr>\n",
       "    <tr>\n",
       "      <th>3</th>\n",
       "      <td>4</td>\n",
       "      <td>0.999858</td>\n",
       "      <td>0.000142</td>\n",
       "      <td>0.999082</td>\n",
       "      <td>0.000918</td>\n",
       "      <td>0.999967</td>\n",
       "      <td>0.000033</td>\n",
       "      <td>0.999956</td>\n",
       "      <td>0.000044</td>\n",
       "      <td>0.999984</td>\n",
       "      <td>0.000016</td>\n",
       "    </tr>\n",
       "    <tr>\n",
       "      <th>4</th>\n",
       "      <td>5</td>\n",
       "      <td>0.999852</td>\n",
       "      <td>0.000148</td>\n",
       "      <td>0.999076</td>\n",
       "      <td>0.000924</td>\n",
       "      <td>0.999953</td>\n",
       "      <td>0.000047</td>\n",
       "      <td>0.999912</td>\n",
       "      <td>0.000088</td>\n",
       "      <td>0.999984</td>\n",
       "      <td>0.000016</td>\n",
       "    </tr>\n",
       "  </tbody>\n",
       "</table>\n",
       "</div>"
      ],
      "text/plain": [
       "   id  model1_Class0  ...  model5_Class0  model5_Class1\n",
       "0   1       0.999851  ...       0.999984       0.000016\n",
       "1   2       0.000422  ...       0.000067       0.999933\n",
       "2   3       0.000401  ...       0.000081       0.999919\n",
       "3   4       0.999858  ...       0.999984       0.000016\n",
       "4   5       0.999852  ...       0.999984       0.000016\n",
       "\n",
       "[5 rows x 11 columns]"
      ]
     },
     "execution_count": 18,
     "metadata": {
      "tags": []
     },
     "output_type": "execute_result"
    }
   ],
   "source": [
    "train_feature_df = pd.read_csv('../../Boosting/Boosting Data/Train_v3.csv')\n",
    "val_feature_df = pd.read_csv('../..g/Boosting Data/Validation_v3.csv')\n",
    "test_feature_df = pd.read_csv('../../Boosting/Boosting Data/Test_v3.csv')\n",
    "test_feature_df.head()"
   ]
  },
  {
   "cell_type": "code",
   "execution_count": 19,
   "metadata": {
    "executionInfo": {
     "elapsed": 1166,
     "status": "ok",
     "timestamp": 1608407638748,
     "user": {
      "displayName": "Ayan Basak",
      "photoUrl": "",
      "userId": "03457614456337947866"
     },
     "user_tz": -330
    },
    "id": "edZoggLYEtH0"
   },
   "outputs": [],
   "source": [
    "def get_df(df, feature_df, mode=''):\n",
    "  if mode in ['train', 'val']:\n",
    "    df = df.merge(feature_df, on=['id'], how='left').drop('Label', 1)\n",
    "  else:\n",
    "    df = df.merge(feature_df, on=['id'], how='left')\n",
    "  df = df.iloc[:, :-2]\n",
    "  return df"
   ]
  },
  {
   "cell_type": "code",
   "execution_count": 20,
   "metadata": {
    "executionInfo": {
     "elapsed": 1186,
     "status": "ok",
     "timestamp": 1608407642344,
     "user": {
      "displayName": "Ayan Basak",
      "photoUrl": "",
      "userId": "03457614456337947866"
     },
     "user_tz": -330
    },
    "id": "MrVYmBabMVc_"
   },
   "outputs": [],
   "source": [
    "train_df = get_df(train_df, train_feature_df, 'train')\n",
    "val_df = get_df(val_df, val_feature_df, 'val')\n",
    "test_df = get_df(test_df, test_feature_df, 'test')\n"
   ]
  },
  {
   "cell_type": "code",
   "execution_count": 22,
   "metadata": {
    "executionInfo": {
     "elapsed": 1208,
     "status": "ok",
     "timestamp": 1608407656315,
     "user": {
      "displayName": "Ayan Basak",
      "photoUrl": "",
      "userId": "03457614456337947866"
     },
     "user_tz": -330
    },
    "id": "CfDa67diEtKv"
   },
   "outputs": [],
   "source": [
    "username_dic = json.load(open(\"Statistical meta/train_prob_vectors.json\"))\n",
    "domain_dic = json.load(open(\"Statistical meta/train_prob_vectors_domain.json\"))"
   ]
  },
  {
   "cell_type": "code",
   "execution_count": 23,
   "metadata": {
    "colab": {
     "base_uri": "https://localhost:8080/"
    },
    "executionInfo": {
     "elapsed": 1227,
     "status": "ok",
     "timestamp": 1608407659965,
     "user": {
      "displayName": "Ayan Basak",
      "photoUrl": "",
      "userId": "03457614456337947866"
     },
     "user_tz": -330
    },
    "id": "hbhZRxFOJamW",
    "outputId": "57973c1f-7bd4-4325-8b9d-de57c78a311b"
   },
   "outputs": [
    {
     "data": {
      "text/plain": [
       "('MoHFW_INDIA',\n",
       " {'fake_probability': 0.037037037037037035,\n",
       "  'real_probability': 0.9629629629629629,\n",
       "  'total_mentions': 162})"
      ]
     },
     "execution_count": 23,
     "metadata": {
      "tags": []
     },
     "output_type": "execute_result"
    }
   ],
   "source": [
    "list(username_dic.items())[0]"
   ]
  },
  {
   "cell_type": "code",
   "execution_count": 24,
   "metadata": {
    "executionInfo": {
     "elapsed": 1089,
     "status": "ok",
     "timestamp": 1608407673164,
     "user": {
      "displayName": "Ayan Basak",
      "photoUrl": "",
      "userId": "03457614456337947866"
     },
     "user_tz": -330
    },
    "id": "ZM-v6biwGJQg"
   },
   "outputs": [],
   "source": [
    "def username_feature(row, index):\n",
    "  tweet = row[\"tweet\"]\n",
    "  lis = re.findall(\"@([a-z0-9_]+)\", tweet, re.I)\n",
    "  val=0\n",
    "  if len(lis)>0:\n",
    "    for item in lis:\n",
    "      try:\n",
    "        val+=username_dic[item][index]\n",
    "      except KeyError:\n",
    "        val+=0\n",
    "    val/=len(lis)\n",
    "  \n",
    "  return val\n",
    "\n",
    "\n",
    "def domain_feature(row, domain_dic, index):\n",
    "  tweet=row[\"tweet\"]\n",
    "  try:\n",
    "    shorturl = re.search(\"(?P<url>https?://[^\\s]+)\", tweet).group(\"url\")\n",
    "    r = requests.get(shorturl, timeout=180)\n",
    "    expanded_url = r.url \n",
    "    # temp_domain = expanded_url.split('/')[2]\n",
    "    domain = urlparse(expanded_url).netloc\n",
    "    return domain_dic[domain][index]\n",
    "  except Exception as e:\n",
    "    domain=''\n",
    "    return 0.0\n",
    "\n"
   ]
  },
  {
   "cell_type": "code",
   "execution_count": 25,
   "metadata": {
    "executionInfo": {
     "elapsed": 774,
     "status": "ok",
     "timestamp": 1608407675499,
     "user": {
      "displayName": "Ayan Basak",
      "photoUrl": "",
      "userId": "03457614456337947866"
     },
     "user_tz": -330
    },
    "id": "jNyxxfp_GJTC"
   },
   "outputs": [],
   "source": [
    "# train_df[\"username_real\"] = train_df.apply(lambda x: username_feature(x, \"real_probability\"), 1)\n",
    "# train_df[\"username_fake\"] = train_df.apply(lambda x: username_feature(x, \"fake_probability\"), 1)\n",
    "\n",
    "# train_df[\"domain_real\"] = train_df.apply(lambda x: domain_feature(x, domain_dic, \"real_probability\"), 1)\n",
    "# train_df[\"domain_fake\"] = train_df.apply(lambda x: domain_feature(x, domain_dic, \"fake_probability\"), 1)\n"
   ]
  },
  {
   "cell_type": "code",
   "execution_count": 26,
   "metadata": {
    "executionInfo": {
     "elapsed": 1065,
     "status": "ok",
     "timestamp": 1608407676025,
     "user": {
      "displayName": "Ayan Basak",
      "photoUrl": "",
      "userId": "03457614456337947866"
     },
     "user_tz": -330
    },
    "id": "agd1-VpcMrj8"
   },
   "outputs": [],
   "source": [
    "# val_df[\"username_real\"] = val_df.apply(lambda x: username_feature(x, \"real_probability\"), 1)\n",
    "# val_df[\"username_fake\"] = val_df.apply(lambda x: username_feature(x, \"fake_probability\"), 1)\n",
    "\n",
    "# val_df[\"domain_real\"] = val_df.apply(lambda x: domain_feature(x, domain_dic, \"real_probability\"), 1)\n",
    "# val_df[\"domain_fake\"] = val_df.apply(lambda x: domain_feature(x, domain_dic, \"fake_probability\"), 1)\n"
   ]
  },
  {
   "cell_type": "code",
   "execution_count": 27,
   "metadata": {
    "executionInfo": {
     "elapsed": 2480849,
     "status": "ok",
     "timestamp": 1608410156392,
     "user": {
      "displayName": "Ayan Basak",
      "photoUrl": "",
      "userId": "03457614456337947866"
     },
     "user_tz": -330
    },
    "id": "1rl7KnHebKxp"
   },
   "outputs": [],
   "source": [
    "test_df[\"username_real\"] = test_df.apply(lambda x: username_feature(x, \"real_probability\"), 1)\n",
    "test_df[\"username_fake\"] = test_df.apply(lambda x: username_feature(x, \"fake_probability\"), 1)\n",
    "\n",
    "test_df[\"domain_real\"] = test_df.apply(lambda x: domain_feature(x, domain_dic, \"real_probability\"), 1)\n",
    "test_df[\"domain_fake\"] = test_df.apply(lambda x: domain_feature(x, domain_dic, \"fake_probability\"), 1)\n"
   ]
  },
  {
   "cell_type": "code",
   "execution_count": 28,
   "metadata": {
    "executionInfo": {
     "elapsed": 2471887,
     "status": "ok",
     "timestamp": 1608410156394,
     "user": {
      "displayName": "Ayan Basak",
      "photoUrl": "",
      "userId": "03457614456337947866"
     },
     "user_tz": -330
    },
    "id": "0ofde8jVuH1o"
   },
   "outputs": [],
   "source": [
    "# domain_dic"
   ]
  },
  {
   "cell_type": "code",
   "execution_count": 29,
   "metadata": {
    "colab": {
     "base_uri": "https://localhost:8080/",
     "height": 779
    },
    "executionInfo": {
     "elapsed": 2471569,
     "status": "ok",
     "timestamp": 1608410156395,
     "user": {
      "displayName": "Ayan Basak",
      "photoUrl": "",
      "userId": "03457614456337947866"
     },
     "user_tz": -330
    },
    "id": "N-Gmr08nGJV-",
    "outputId": "bb2d34de-3e5f-47d4-ed48-6090477e3ea0"
   },
   "outputs": [
    {
     "data": {
      "text/html": [
       "<div>\n",
       "<style scoped>\n",
       "    .dataframe tbody tr th:only-of-type {\n",
       "        vertical-align: middle;\n",
       "    }\n",
       "\n",
       "    .dataframe tbody tr th {\n",
       "        vertical-align: top;\n",
       "    }\n",
       "\n",
       "    .dataframe thead th {\n",
       "        text-align: right;\n",
       "    }\n",
       "</style>\n",
       "<table border=\"1\" class=\"dataframe\">\n",
       "  <thead>\n",
       "    <tr style=\"text-align: right;\">\n",
       "      <th></th>\n",
       "      <th>id</th>\n",
       "      <th>tweet</th>\n",
       "      <th>label</th>\n",
       "      <th>model1_Class0</th>\n",
       "      <th>model1_Class1</th>\n",
       "      <th>model2_Class0</th>\n",
       "      <th>model2_Class1</th>\n",
       "      <th>model3_Class0</th>\n",
       "      <th>model3_Class1</th>\n",
       "      <th>model4_Class0</th>\n",
       "      <th>model4_Class1</th>\n",
       "      <th>username_real</th>\n",
       "      <th>username_fake</th>\n",
       "      <th>domain_real</th>\n",
       "      <th>domain_fake</th>\n",
       "    </tr>\n",
       "  </thead>\n",
       "  <tbody>\n",
       "    <tr>\n",
       "      <th>0</th>\n",
       "      <td>1</td>\n",
       "      <td>Our daily update is published. States reported...</td>\n",
       "      <td>real</td>\n",
       "      <td>0.999851</td>\n",
       "      <td>0.000149</td>\n",
       "      <td>0.999063</td>\n",
       "      <td>0.000937</td>\n",
       "      <td>0.999967</td>\n",
       "      <td>0.000033</td>\n",
       "      <td>0.999963</td>\n",
       "      <td>0.000037</td>\n",
       "      <td>0.0</td>\n",
       "      <td>0.0</td>\n",
       "      <td>0.838903</td>\n",
       "      <td>0.161097</td>\n",
       "    </tr>\n",
       "    <tr>\n",
       "      <th>2</th>\n",
       "      <td>3</td>\n",
       "      <td>President Trump Asked What He Would Do If He W...</td>\n",
       "      <td>fake</td>\n",
       "      <td>0.000401</td>\n",
       "      <td>0.999600</td>\n",
       "      <td>0.000954</td>\n",
       "      <td>0.999046</td>\n",
       "      <td>0.000033</td>\n",
       "      <td>0.999967</td>\n",
       "      <td>0.000170</td>\n",
       "      <td>0.999830</td>\n",
       "      <td>0.0</td>\n",
       "      <td>0.0</td>\n",
       "      <td>0.000000</td>\n",
       "      <td>1.000000</td>\n",
       "    </tr>\n",
       "    <tr>\n",
       "      <th>3</th>\n",
       "      <td>4</td>\n",
       "      <td>States reported 630 deaths. We are still seein...</td>\n",
       "      <td>real</td>\n",
       "      <td>0.999858</td>\n",
       "      <td>0.000142</td>\n",
       "      <td>0.999082</td>\n",
       "      <td>0.000918</td>\n",
       "      <td>0.999967</td>\n",
       "      <td>0.000033</td>\n",
       "      <td>0.999956</td>\n",
       "      <td>0.000044</td>\n",
       "      <td>0.0</td>\n",
       "      <td>0.0</td>\n",
       "      <td>0.838903</td>\n",
       "      <td>0.161097</td>\n",
       "    </tr>\n",
       "    <tr>\n",
       "      <th>4</th>\n",
       "      <td>5</td>\n",
       "      <td>This is the sixth time a global health emergen...</td>\n",
       "      <td>real</td>\n",
       "      <td>0.999852</td>\n",
       "      <td>0.000148</td>\n",
       "      <td>0.999076</td>\n",
       "      <td>0.000924</td>\n",
       "      <td>0.999953</td>\n",
       "      <td>0.000047</td>\n",
       "      <td>0.999912</td>\n",
       "      <td>0.000088</td>\n",
       "      <td>1.0</td>\n",
       "      <td>0.0</td>\n",
       "      <td>0.838903</td>\n",
       "      <td>0.161097</td>\n",
       "    </tr>\n",
       "    <tr>\n",
       "      <th>15</th>\n",
       "      <td>16</td>\n",
       "      <td>Kids reach ‘f**k this shit’ stage of lockdown ...</td>\n",
       "      <td>fake</td>\n",
       "      <td>0.004875</td>\n",
       "      <td>0.995125</td>\n",
       "      <td>0.000880</td>\n",
       "      <td>0.999120</td>\n",
       "      <td>0.000169</td>\n",
       "      <td>0.999831</td>\n",
       "      <td>0.052015</td>\n",
       "      <td>0.947985</td>\n",
       "      <td>0.0</td>\n",
       "      <td>0.0</td>\n",
       "      <td>0.000000</td>\n",
       "      <td>1.000000</td>\n",
       "    </tr>\n",
       "    <tr>\n",
       "      <th>...</th>\n",
       "      <td>...</td>\n",
       "      <td>...</td>\n",
       "      <td>...</td>\n",
       "      <td>...</td>\n",
       "      <td>...</td>\n",
       "      <td>...</td>\n",
       "      <td>...</td>\n",
       "      <td>...</td>\n",
       "      <td>...</td>\n",
       "      <td>...</td>\n",
       "      <td>...</td>\n",
       "      <td>...</td>\n",
       "      <td>...</td>\n",
       "      <td>...</td>\n",
       "      <td>...</td>\n",
       "    </tr>\n",
       "    <tr>\n",
       "      <th>2127</th>\n",
       "      <td>2128</td>\n",
       "      <td>Over 1500 deaths were reported. The 7-day aver...</td>\n",
       "      <td>real</td>\n",
       "      <td>0.999834</td>\n",
       "      <td>0.000166</td>\n",
       "      <td>0.999078</td>\n",
       "      <td>0.000922</td>\n",
       "      <td>0.998913</td>\n",
       "      <td>0.001087</td>\n",
       "      <td>0.999954</td>\n",
       "      <td>0.000046</td>\n",
       "      <td>0.0</td>\n",
       "      <td>0.0</td>\n",
       "      <td>0.838903</td>\n",
       "      <td>0.161097</td>\n",
       "    </tr>\n",
       "    <tr>\n",
       "      <th>2128</th>\n",
       "      <td>2129</td>\n",
       "      <td>NEWS! Coronavirus crisis in Italy leads Donald...</td>\n",
       "      <td>fake</td>\n",
       "      <td>0.000406</td>\n",
       "      <td>0.999594</td>\n",
       "      <td>0.000943</td>\n",
       "      <td>0.999057</td>\n",
       "      <td>0.000039</td>\n",
       "      <td>0.999961</td>\n",
       "      <td>0.000157</td>\n",
       "      <td>0.999843</td>\n",
       "      <td>0.0</td>\n",
       "      <td>0.0</td>\n",
       "      <td>0.000000</td>\n",
       "      <td>1.000000</td>\n",
       "    </tr>\n",
       "    <tr>\n",
       "      <th>2130</th>\n",
       "      <td>2131</td>\n",
       "      <td>Visits to doctor’s offices and emergency rooms...</td>\n",
       "      <td>real</td>\n",
       "      <td>0.999862</td>\n",
       "      <td>0.000138</td>\n",
       "      <td>0.999074</td>\n",
       "      <td>0.000926</td>\n",
       "      <td>0.999961</td>\n",
       "      <td>0.000038</td>\n",
       "      <td>0.999963</td>\n",
       "      <td>0.000037</td>\n",
       "      <td>0.0</td>\n",
       "      <td>0.0</td>\n",
       "      <td>0.994819</td>\n",
       "      <td>0.005181</td>\n",
       "    </tr>\n",
       "    <tr>\n",
       "      <th>2135</th>\n",
       "      <td>2136</td>\n",
       "      <td>#CoronaVirusUpdates: State-wise details of Tot...</td>\n",
       "      <td>real</td>\n",
       "      <td>0.999821</td>\n",
       "      <td>0.000179</td>\n",
       "      <td>0.999020</td>\n",
       "      <td>0.000980</td>\n",
       "      <td>0.999920</td>\n",
       "      <td>0.000080</td>\n",
       "      <td>0.999965</td>\n",
       "      <td>0.000035</td>\n",
       "      <td>0.0</td>\n",
       "      <td>0.0</td>\n",
       "      <td>0.838903</td>\n",
       "      <td>0.161097</td>\n",
       "    </tr>\n",
       "    <tr>\n",
       "      <th>2137</th>\n",
       "      <td>2138</td>\n",
       "      <td>296 new cases of #COVID19Nigeria; Plateau-85 E...</td>\n",
       "      <td>real</td>\n",
       "      <td>0.999857</td>\n",
       "      <td>0.000143</td>\n",
       "      <td>0.999084</td>\n",
       "      <td>0.000916</td>\n",
       "      <td>0.999925</td>\n",
       "      <td>0.000075</td>\n",
       "      <td>0.999950</td>\n",
       "      <td>0.000050</td>\n",
       "      <td>0.0</td>\n",
       "      <td>0.0</td>\n",
       "      <td>0.838903</td>\n",
       "      <td>0.161097</td>\n",
       "    </tr>\n",
       "  </tbody>\n",
       "</table>\n",
       "<p>680 rows × 15 columns</p>\n",
       "</div>"
      ],
      "text/plain": [
       "        id  ... domain_fake\n",
       "0        1  ...    0.161097\n",
       "2        3  ...    1.000000\n",
       "3        4  ...    0.161097\n",
       "4        5  ...    0.161097\n",
       "15      16  ...    1.000000\n",
       "...    ...  ...         ...\n",
       "2127  2128  ...    0.161097\n",
       "2128  2129  ...    1.000000\n",
       "2130  2131  ...    0.005181\n",
       "2135  2136  ...    0.161097\n",
       "2137  2138  ...    0.161097\n",
       "\n",
       "[680 rows x 15 columns]"
      ]
     },
     "execution_count": 29,
     "metadata": {
      "tags": []
     },
     "output_type": "execute_result"
    }
   ],
   "source": [
    "# pd.options.display.max_rows=None\n",
    "test_df[test_df[\"domain_fake\"]!=0.0]"
   ]
  },
  {
   "cell_type": "code",
   "execution_count": 30,
   "metadata": {
    "executionInfo": {
     "elapsed": 2402931,
     "status": "ok",
     "timestamp": 1608410157115,
     "user": {
      "displayName": "Ayan Basak",
      "photoUrl": "",
      "userId": "03457614456337947866"
     },
     "user_tz": -330
    },
    "id": "UY3Dv0lngCjw"
   },
   "outputs": [],
   "source": [
    "test_df.to_csv('Post Processing/data/test_with_postproc_features.csv', index=False)"
   ]
  },
  {
   "cell_type": "code",
   "execution_count": null,
   "metadata": {
    "id": "XiNaGAR2bZEn"
   },
   "outputs": [],
   "source": []
  },
  {
   "cell_type": "code",
   "execution_count": null,
   "metadata": {
    "id": "8WWt3LcDNGgA"
   },
   "outputs": [],
   "source": []
  }
 ],
 "metadata": {
  "colab": {
   "authorship_tag": "ABX9TyMrWzpUXmKVmE6fBNrZwksA",
   "collapsed_sections": [],
   "mount_file_id": "1kKi6TU3lo1GR1XLl90xGR7DFdHc7H81O",
   "name": "Ensemble.ipynb",
   "provenance": []
  },
  "kernelspec": {
   "display_name": "Python 3",
   "language": "python",
   "name": "python3"
  },
  "language_info": {
   "codemirror_mode": {
    "name": "ipython",
    "version": 3
   },
   "file_extension": ".py",
   "mimetype": "text/x-python",
   "name": "python",
   "nbconvert_exporter": "python",
   "pygments_lexer": "ipython3",
   "version": "3.8.5"
  }
 },
 "nbformat": 4,
 "nbformat_minor": 1
}
