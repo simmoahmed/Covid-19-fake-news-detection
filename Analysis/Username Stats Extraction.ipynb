{
 "cells": [
  {
   "cell_type": "code",
   "execution_count": 13,
   "metadata": {
    "executionInfo": {
     "elapsed": 1097,
     "status": "ok",
     "timestamp": 1608316148465,
     "user": {
      "displayName": "Ayan Basak",
      "photoUrl": "",
      "userId": "03457614456337947866"
     },
     "user_tz": -330
    },
    "id": "Rn9c2-eBDeqp"
   },
   "outputs": [],
   "source": [
    "import pandas as pd\n",
    "import re\n",
    "import json\n"
   ]
  },
  {
   "cell_type": "code",
   "execution_count": 2,
   "metadata": {
    "executionInfo": {
     "elapsed": 3618,
     "status": "ok",
     "timestamp": 1608316019612,
     "user": {
      "displayName": "Ayan Basak",
      "photoUrl": "",
      "userId": "03457614456337947866"
     },
     "user_tz": -330
    },
    "id": "V-hqJugmRbE5"
   },
   "outputs": [],
   "source": [
    "train = pd.read_csv('/content/drive/MyDrive/Constraint/data/Constraint_Train.csv')\n",
    "test = pd.read_csv('/content/drive/MyDrive/Constraint/data/Constraint_Test.csv')"
   ]
  },
  {
   "cell_type": "code",
   "execution_count": 3,
   "metadata": {
    "colab": {
     "base_uri": "https://localhost:8080/",
     "height": 111
    },
    "executionInfo": {
     "elapsed": 3608,
     "status": "ok",
     "timestamp": 1608316019613,
     "user": {
      "displayName": "Ayan Basak",
      "photoUrl": "",
      "userId": "03457614456337947866"
     },
     "user_tz": -330
    },
    "id": "Bq9TxBWXRcMM",
    "outputId": "c0a14abf-f68d-47c7-ecab-78f35aa7fd86"
   },
   "outputs": [
    {
     "data": {
      "text/html": [
       "<div>\n",
       "<style scoped>\n",
       "    .dataframe tbody tr th:only-of-type {\n",
       "        vertical-align: middle;\n",
       "    }\n",
       "\n",
       "    .dataframe tbody tr th {\n",
       "        vertical-align: top;\n",
       "    }\n",
       "\n",
       "    .dataframe thead th {\n",
       "        text-align: right;\n",
       "    }\n",
       "</style>\n",
       "<table border=\"1\" class=\"dataframe\">\n",
       "  <thead>\n",
       "    <tr style=\"text-align: right;\">\n",
       "      <th></th>\n",
       "      <th>id</th>\n",
       "      <th>tweet</th>\n",
       "      <th>label</th>\n",
       "    </tr>\n",
       "  </thead>\n",
       "  <tbody>\n",
       "    <tr>\n",
       "      <th>0</th>\n",
       "      <td>1</td>\n",
       "      <td>The CDC currently reports 99031 deaths. In gen...</td>\n",
       "      <td>real</td>\n",
       "    </tr>\n",
       "    <tr>\n",
       "      <th>1</th>\n",
       "      <td>2</td>\n",
       "      <td>States reported 1121 deaths a small rise from ...</td>\n",
       "      <td>real</td>\n",
       "    </tr>\n",
       "  </tbody>\n",
       "</table>\n",
       "</div>"
      ],
      "text/plain": [
       "   id                                              tweet label\n",
       "0   1  The CDC currently reports 99031 deaths. In gen...  real\n",
       "1   2  States reported 1121 deaths a small rise from ...  real"
      ]
     },
     "execution_count": 3,
     "metadata": {
      "tags": []
     },
     "output_type": "execute_result"
    }
   ],
   "source": [
    "train.head(2)"
   ]
  },
  {
   "cell_type": "code",
   "execution_count": 4,
   "metadata": {
    "executionInfo": {
     "elapsed": 3607,
     "status": "ok",
     "timestamp": 1608316019614,
     "user": {
      "displayName": "Ayan Basak",
      "photoUrl": "",
      "userId": "03457614456337947866"
     },
     "user_tz": -330
    },
    "id": "DHw4KdWwRzh_"
   },
   "outputs": [],
   "source": [
    "tweets = list(train['tweet'])\n",
    "labels = list(train['label'])"
   ]
  },
  {
   "cell_type": "code",
   "execution_count": null,
   "metadata": {},
   "outputs": [],
   "source": []
  },
  {
   "cell_type": "markdown",
   "metadata": {},
   "source": [
    "# Getting Unique username Handles from Tweets"
   ]
  },
  {
   "cell_type": "code",
   "execution_count": 5,
   "metadata": {
    "executionInfo": {
     "elapsed": 3605,
     "status": "ok",
     "timestamp": 1608316019614,
     "user": {
      "displayName": "Ayan Basak",
      "photoUrl": "",
      "userId": "03457614456337947866"
     },
     "user_tz": -330
    },
    "id": "xOD82zmZRcPF"
   },
   "outputs": [],
   "source": [
    "usernames = []\n",
    "for t in tweets:\n",
    "  lis = re.findall(\"@([a-z0-9_]+)\", t, re.I)\n",
    "  if len(lis)>0:\n",
    "    usernames.extend(lis)\n",
    "\n",
    "unique_usernames = list(set(usernames))\n"
   ]
  },
  {
   "cell_type": "code",
   "execution_count": null,
   "metadata": {},
   "outputs": [],
   "source": []
  },
  {
   "cell_type": "markdown",
   "metadata": {},
   "source": [
    "# Computing \"Fake\" and \"Real\" probability values for Username Handles"
   ]
  },
  {
   "cell_type": "code",
   "execution_count": 6,
   "metadata": {
    "executionInfo": {
     "elapsed": 3604,
     "status": "ok",
     "timestamp": 1608316019615,
     "user": {
      "displayName": "Ayan Basak",
      "photoUrl": "",
      "userId": "03457614456337947866"
     },
     "user_tz": -330
    },
    "id": "wyjIhtVoR-BZ"
   },
   "outputs": [],
   "source": [
    "freq_dic={}\n",
    "\n",
    "for un in unique_usernames:\n",
    "  freq_dic[un]=0\n",
    "\n",
    "for un in usernames:\n",
    "  freq_dic[un]+=1\n",
    "  "
   ]
  },
  {
   "cell_type": "code",
   "execution_count": 7,
   "metadata": {
    "executionInfo": {
     "elapsed": 3600,
     "status": "ok",
     "timestamp": 1608316019615,
     "user": {
      "displayName": "Ayan Basak",
      "photoUrl": "",
      "userId": "03457614456337947866"
     },
     "user_tz": -330
    },
    "id": "ZPNbJMKgSLAm"
   },
   "outputs": [],
   "source": [
    "# freq_dic"
   ]
  },
  {
   "cell_type": "code",
   "execution_count": 8,
   "metadata": {
    "executionInfo": {
     "elapsed": 3599,
     "status": "ok",
     "timestamp": 1608316019616,
     "user": {
      "displayName": "Ayan Basak",
      "photoUrl": "",
      "userId": "03457614456337947866"
     },
     "user_tz": -330
    },
    "id": "_JMjlA1CTiG1"
   },
   "outputs": [],
   "source": [
    "label_freq_dic = {}\n",
    "for un in unique_usernames:\n",
    "  label_freq_dic[un] = {\"real\": 0, \"fake\": 0}\n",
    "\n",
    "for twt, lab in zip(tweets, labels):\n",
    "  username_list = re.findall(\"@([a-z0-9_]+)\", twt, re.I)\n",
    "  if len(username_list)>0:\n",
    "    for u in username_list:\n",
    "      label_freq_dic[u][lab]+=1\n"
   ]
  },
  {
   "cell_type": "code",
   "execution_count": 9,
   "metadata": {
    "executionInfo": {
     "elapsed": 3599,
     "status": "ok",
     "timestamp": 1608316019617,
     "user": {
      "displayName": "Ayan Basak",
      "photoUrl": "",
      "userId": "03457614456337947866"
     },
     "user_tz": -330
    },
    "id": "lTZJuqzoTzZF"
   },
   "outputs": [],
   "source": [
    "prob_dic = {}\n",
    "\n",
    "for i, j in label_freq_dic.items():\n",
    "  prob_dic[i] = {\"fake_probability\": j[\"fake\"]/(j[\"real\"]+j[\"fake\"]), \"real_probability\": j[\"real\"]/(j[\"real\"]+j[\"fake\"]), \"total_mentions\": j[\"real\"]+j[\"fake\"]}\n"
   ]
  },
  {
   "cell_type": "code",
   "execution_count": 10,
   "metadata": {
    "executionInfo": {
     "elapsed": 3598,
     "status": "ok",
     "timestamp": 1608316019619,
     "user": {
      "displayName": "Ayan Basak",
      "photoUrl": "",
      "userId": "03457614456337947866"
     },
     "user_tz": -330
    },
    "id": "yBIPCO5ATzbS"
   },
   "outputs": [],
   "source": [
    "import collections\n",
    "\n",
    "final_dic = collections.OrderedDict(sorted(prob_dic.items(), key=lambda t:t[1][\"total_mentions\"], reverse=True))\n"
   ]
  },
  {
   "cell_type": "code",
   "execution_count": 16,
   "metadata": {
    "executionInfo": {
     "elapsed": 1588,
     "status": "ok",
     "timestamp": 1608316322446,
     "user": {
      "displayName": "Ayan Basak",
      "photoUrl": "",
      "userId": "03457614456337947866"
     },
     "user_tz": -330
    },
    "id": "esmxtOBYjqV_"
   },
   "outputs": [],
   "source": [
    "final_dic = dict(final_dic)"
   ]
  },
  {
   "cell_type": "code",
   "execution_count": 18,
   "metadata": {
    "executionInfo": {
     "elapsed": 1027,
     "status": "ok",
     "timestamp": 1608316411212,
     "user": {
      "displayName": "Ayan Basak",
      "photoUrl": "",
      "userId": "03457614456337947866"
     },
     "user_tz": -330
    },
    "id": "ybgByL2_jqYe"
   },
   "outputs": [],
   "source": [
    "with open('/content/drive/MyDrive/Constraint/Analysis/train_prob_vectors.json', 'w') as fp:\n",
    "    json.dump(final_dic, fp)"
   ]
  },
  {
   "cell_type": "code",
   "execution_count": null,
   "metadata": {
    "id": "tYg37H-Ejqa-"
   },
   "outputs": [],
   "source": []
  },
  {
   "cell_type": "code",
   "execution_count": null,
   "metadata": {
    "colab": {
     "base_uri": "https://localhost:8080/"
    },
    "executionInfo": {
     "elapsed": 3026,
     "status": "ok",
     "timestamp": 1608273299214,
     "user": {
      "displayName": "Ayan Basak",
      "photoUrl": "",
      "userId": "03457614456337947866"
     },
     "user_tz": -330
    },
    "id": "XTK8j5BnjqdW",
    "outputId": "d9168cea-452f-400d-88d4-269e0bc6f537"
   },
   "outputs": [
    {
     "name": "stdout",
     "output_type": "stream",
     "text": [
      "https://t.co/sIo3fDstNr\n"
     ]
    }
   ],
   "source": [
    "import re\n",
    "\n",
    "myString = \"While farcical disinformation about the coronavirus is easily dismissed by medical professions your patients may get sucked in. https://t.co/sIo3fDstNr https://t.co/EmpQD7QzCU\"\n",
    "\n",
    "print(re.search(\"(?P<url>https?://[^\\s]+)\", myString).group(\"url\"))"
   ]
  },
  {
   "cell_type": "code",
   "execution_count": null,
   "metadata": {
    "colab": {
     "base_uri": "https://localhost:8080/"
    },
    "executionInfo": {
     "elapsed": 1477,
     "status": "ok",
     "timestamp": 1608273915748,
     "user": {
      "displayName": "Ayan Basak",
      "photoUrl": "",
      "userId": "03457614456337947866"
     },
     "user_tz": -330
    },
    "id": "Zu6Duf-RlEDX",
    "outputId": "6843427b-bfcf-412b-cb0a-e5fa2ab03eda"
   },
   "outputs": [
    {
     "name": "stdout",
     "output_type": "stream",
     "text": [
      "The shortened URL forwards to: https://www.medscape.com/viewarticle/935248?src=soc_tw_200806_mscpedt_news_mdscp_conspiracy&faf=1\n",
      "www.medscape.com\n"
     ]
    }
   ],
   "source": [
    "import requests\n",
    "shorturl = 'https://t.co/sIo3fDstNr'\n",
    "r = requests.get(shorturl)\n",
    "expanded_url = r.url\n",
    "print(\"\"\"The shortened URL forwards to: %s\"\"\" % r.url)\n",
    "print(expanded_url.split('/')[2])"
   ]
  },
  {
   "cell_type": "code",
   "execution_count": null,
   "metadata": {
    "id": "mxWc6sfplEGP"
   },
   "outputs": [],
   "source": []
  },
  {
   "cell_type": "code",
   "execution_count": null,
   "metadata": {
    "id": "RCnQtrdYTzfR"
   },
   "outputs": [],
   "source": []
  }
 ],
 "metadata": {
  "colab": {
   "authorship_tag": "ABX9TyP2Kjj+07mqZHup/j7x1dKa",
   "collapsed_sections": [],
   "mount_file_id": "1Qi0a8Hq6vuG559Ijxko0equrBFTDayEj",
   "name": "User Stats Extraction.ipynb",
   "provenance": []
  },
  "kernelspec": {
   "display_name": "Python 3",
   "language": "python",
   "name": "python3"
  },
  "language_info": {
   "codemirror_mode": {
    "name": "ipython",
    "version": 3
   },
   "file_extension": ".py",
   "mimetype": "text/x-python",
   "name": "python",
   "nbconvert_exporter": "python",
   "pygments_lexer": "ipython3",
   "version": "3.8.5"
  }
 },
 "nbformat": 4,
 "nbformat_minor": 1
}
