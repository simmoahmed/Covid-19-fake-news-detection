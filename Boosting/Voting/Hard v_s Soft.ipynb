{
 "cells": [
  {
   "cell_type": "code",
   "execution_count": 1,
   "metadata": {
    "executionInfo": {
     "elapsed": 1316,
     "status": "ok",
     "timestamp": 1608129472717,
     "user": {
      "displayName": "Ayan Basak",
      "photoUrl": "",
      "userId": "03457614456337947866"
     },
     "user_tz": -330
    },
    "id": "ZFlKVQC_5ZVC"
   },
   "outputs": [],
   "source": [
    "from sklearn.ensemble import AdaBoostClassifier, RandomForestClassifier\n",
    "from sklearn.tree import DecisionTreeClassifier\n",
    "from sklearn.datasets import load_breast_cancer\n",
    "import pandas as pd\n",
    "import numpy as np\n",
    "from sklearn.model_selection import train_test_split\n",
    "from sklearn.metrics import confusion_matrix, accuracy_score, f1_score, precision_score, recall_score\n",
    "from sklearn.preprocessing import LabelEncoder\n"
   ]
  },
  {
   "cell_type": "code",
   "execution_count": 2,
   "metadata": {
    "colab": {
     "base_uri": "https://localhost:8080/"
    },
    "executionInfo": {
     "elapsed": 2104,
     "status": "ok",
     "timestamp": 1608129473513,
     "user": {
      "displayName": "Ayan Basak",
      "photoUrl": "",
      "userId": "03457614456337947866"
     },
     "user_tz": -330
    },
    "id": "Fwurh4GzJzfv",
    "outputId": "b43a6442-79ce-42d2-f00f-b7dcd27b39f4"
   },
   "outputs": [
    {
     "name": "stdout",
     "output_type": "stream",
     "text": [
      "Drive already mounted at /content/drive; to attempt to forcibly remount, call drive.mount(\"/content/drive\", force_remount=True).\n"
     ]
    }
   ],
   "source": [
    "from google.colab import drive\n",
    "drive.mount('/content/drive')"
   ]
  },
  {
   "cell_type": "code",
   "execution_count": 3,
   "metadata": {
    "executionInfo": {
     "elapsed": 2100,
     "status": "ok",
     "timestamp": 1608129473514,
     "user": {
      "displayName": "Ayan Basak",
      "photoUrl": "",
      "userId": "03457614456337947866"
     },
     "user_tz": -330
    },
    "id": "NLa-pIwN6MEq"
   },
   "outputs": [],
   "source": [
    "train_boosting_df = pd.read_csv('../Boosting Data/Train_v3.csv')\n",
    "val_boosting_df = pd.read_csv('../Boosting Data/Validation_v3.csv')\n",
    "train_df = pd.read_csv('../../data/Constraint_Train.csv')\n",
    "val_df = pd.read_csv('../../data/Constraint_Val.csv')\n",
    "test_df = pd.read_csv('../../data/Constraint_Test.csv')\n",
    "test_label_df = pd.read_csv('../../data/english_test_with_labels.csv')\n",
    "test_boosting_df = pd.read_csv('../Boosting Data/Test_v3.csv')\n"
   ]
  },
  {
   "cell_type": "code",
   "execution_count": 4,
   "metadata": {
    "colab": {
     "base_uri": "https://localhost:8080/"
    },
    "executionInfo": {
     "elapsed": 2096,
     "status": "ok",
     "timestamp": 1608129473515,
     "user": {
      "displayName": "Ayan Basak",
      "photoUrl": "",
      "userId": "03457614456337947866"
     },
     "user_tz": -330
    },
    "id": "L5nx124ORf6S",
    "outputId": "5d82b4eb-1d40-4e3c-ff5e-06a9f23fb45f"
   },
   "outputs": [
    {
     "data": {
      "text/plain": [
       "((6420, 12), (2140, 12), (2140, 11))"
      ]
     },
     "execution_count": 4,
     "metadata": {
      "tags": []
     },
     "output_type": "execute_result"
    }
   ],
   "source": [
    "train_boosting_df.shape, val_boosting_df.shape, test_boosting_df.shape"
   ]
  },
  {
   "cell_type": "code",
   "execution_count": 5,
   "metadata": {
    "executionInfo": {
     "elapsed": 2091,
     "status": "ok",
     "timestamp": 1608129473515,
     "user": {
      "displayName": "Ayan Basak",
      "photoUrl": "",
      "userId": "03457614456337947866"
     },
     "user_tz": -330
    },
    "id": "rMKcEXaSh2L2"
   },
   "outputs": [],
   "source": [
    "ernie_val = pd.read_csv('../Intermediate ERNIE2.0/ERNIE/val_ernie2.0_results.csv')\n",
    "ernie_val = ernie_val.rename(columns={'Model4_class0': 'Model6_class0', 'Model4_class1': 'Model6_class1'})[[\"Model6_class0\", \"Model6_class1\", \"Label\"]]\n",
    "ernie_test = pd.read_csv('../Intermediate ERNIE2.0/ERNIE/test_ernie2.0_results.csv')\n",
    "ernie_test = ernie_test.rename(columns={'Model4_class0': 'Model6_class0', 'Model4_class1': 'Model6_class1'})[[\"Model6_class0\", \"Model6_class1\"]]\n"
   ]
  },
  {
   "cell_type": "code",
   "execution_count": 6,
   "metadata": {
    "colab": {
     "base_uri": "https://localhost:8080/",
     "height": 142
    },
    "executionInfo": {
     "elapsed": 2085,
     "status": "ok",
     "timestamp": 1608129473516,
     "user": {
      "displayName": "Ayan Basak",
      "photoUrl": "",
      "userId": "03457614456337947866"
     },
     "user_tz": -330
    },
    "id": "sRMiVfP7BecK",
    "outputId": "e1011f9d-744e-44f3-ce12-92901e1a15d8"
   },
   "outputs": [
    {
     "data": {
      "text/html": [
       "<div>\n",
       "<style scoped>\n",
       "    .dataframe tbody tr th:only-of-type {\n",
       "        vertical-align: middle;\n",
       "    }\n",
       "\n",
       "    .dataframe tbody tr th {\n",
       "        vertical-align: top;\n",
       "    }\n",
       "\n",
       "    .dataframe thead th {\n",
       "        text-align: right;\n",
       "    }\n",
       "</style>\n",
       "<table border=\"1\" class=\"dataframe\">\n",
       "  <thead>\n",
       "    <tr style=\"text-align: right;\">\n",
       "      <th></th>\n",
       "      <th>id</th>\n",
       "      <th>model1_Class0</th>\n",
       "      <th>model1_Class1</th>\n",
       "      <th>model2_Class0</th>\n",
       "      <th>model2_Class1</th>\n",
       "      <th>model3_Class0</th>\n",
       "      <th>model3_Class1</th>\n",
       "      <th>model4_Class0</th>\n",
       "      <th>model4_Class1</th>\n",
       "      <th>model5_Class0</th>\n",
       "      <th>model5_Class1</th>\n",
       "    </tr>\n",
       "  </thead>\n",
       "  <tbody>\n",
       "    <tr>\n",
       "      <th>0</th>\n",
       "      <td>1</td>\n",
       "      <td>0.999851</td>\n",
       "      <td>0.000149</td>\n",
       "      <td>0.999063</td>\n",
       "      <td>0.000937</td>\n",
       "      <td>0.999967</td>\n",
       "      <td>0.000033</td>\n",
       "      <td>0.999963</td>\n",
       "      <td>0.000037</td>\n",
       "      <td>0.999984</td>\n",
       "      <td>0.000016</td>\n",
       "    </tr>\n",
       "    <tr>\n",
       "      <th>1</th>\n",
       "      <td>2</td>\n",
       "      <td>0.000422</td>\n",
       "      <td>0.999578</td>\n",
       "      <td>0.000902</td>\n",
       "      <td>0.999098</td>\n",
       "      <td>0.000045</td>\n",
       "      <td>0.999955</td>\n",
       "      <td>0.000112</td>\n",
       "      <td>0.999888</td>\n",
       "      <td>0.000067</td>\n",
       "      <td>0.999933</td>\n",
       "    </tr>\n",
       "    <tr>\n",
       "      <th>2</th>\n",
       "      <td>3</td>\n",
       "      <td>0.000401</td>\n",
       "      <td>0.999600</td>\n",
       "      <td>0.000954</td>\n",
       "      <td>0.999046</td>\n",
       "      <td>0.000033</td>\n",
       "      <td>0.999967</td>\n",
       "      <td>0.000170</td>\n",
       "      <td>0.999830</td>\n",
       "      <td>0.000081</td>\n",
       "      <td>0.999919</td>\n",
       "    </tr>\n",
       "  </tbody>\n",
       "</table>\n",
       "</div>"
      ],
      "text/plain": [
       "   id  model1_Class0  ...  model5_Class0  model5_Class1\n",
       "0   1       0.999851  ...       0.999984       0.000016\n",
       "1   2       0.000422  ...       0.000067       0.999933\n",
       "2   3       0.000401  ...       0.000081       0.999919\n",
       "\n",
       "[3 rows x 11 columns]"
      ]
     },
     "execution_count": 6,
     "metadata": {
      "tags": []
     },
     "output_type": "execute_result"
    }
   ],
   "source": [
    "test_boosting_df.head(3)"
   ]
  },
  {
   "cell_type": "code",
   "execution_count": 7,
   "metadata": {
    "colab": {
     "base_uri": "https://localhost:8080/",
     "height": 224
    },
    "executionInfo": {
     "elapsed": 2079,
     "status": "ok",
     "timestamp": 1608129473517,
     "user": {
      "displayName": "Ayan Basak",
      "photoUrl": "",
      "userId": "03457614456337947866"
     },
     "user_tz": -330
    },
    "id": "NY4NQABoh2Pr",
    "outputId": "a8b9528e-fece-4b62-82c3-a14f6d26a6c4"
   },
   "outputs": [
    {
     "data": {
      "text/html": [
       "<div>\n",
       "<style scoped>\n",
       "    .dataframe tbody tr th:only-of-type {\n",
       "        vertical-align: middle;\n",
       "    }\n",
       "\n",
       "    .dataframe tbody tr th {\n",
       "        vertical-align: top;\n",
       "    }\n",
       "\n",
       "    .dataframe thead th {\n",
       "        text-align: right;\n",
       "    }\n",
       "</style>\n",
       "<table border=\"1\" class=\"dataframe\">\n",
       "  <thead>\n",
       "    <tr style=\"text-align: right;\">\n",
       "      <th></th>\n",
       "      <th>id</th>\n",
       "      <th>model1_Class0</th>\n",
       "      <th>model1_Class1</th>\n",
       "      <th>model2_Class0</th>\n",
       "      <th>model2_Class1</th>\n",
       "      <th>model3_Class0</th>\n",
       "      <th>model3_Class1</th>\n",
       "      <th>model4_Class0</th>\n",
       "      <th>model4_Class1</th>\n",
       "      <th>model5_Class0</th>\n",
       "      <th>model5_Class1</th>\n",
       "      <th>Model6_class0</th>\n",
       "      <th>Model6_class1</th>\n",
       "      <th>Label</th>\n",
       "    </tr>\n",
       "  </thead>\n",
       "  <tbody>\n",
       "    <tr>\n",
       "      <th>0</th>\n",
       "      <td>1</td>\n",
       "      <td>0.001269</td>\n",
       "      <td>0.998731</td>\n",
       "      <td>0.000938</td>\n",
       "      <td>0.999062</td>\n",
       "      <td>0.000179</td>\n",
       "      <td>0.999821</td>\n",
       "      <td>0.028954</td>\n",
       "      <td>0.971046</td>\n",
       "      <td>0.000074</td>\n",
       "      <td>0.999926</td>\n",
       "      <td>0.000250</td>\n",
       "      <td>0.999750</td>\n",
       "      <td>1</td>\n",
       "    </tr>\n",
       "    <tr>\n",
       "      <th>1</th>\n",
       "      <td>2</td>\n",
       "      <td>0.991674</td>\n",
       "      <td>0.008326</td>\n",
       "      <td>0.000884</td>\n",
       "      <td>0.999116</td>\n",
       "      <td>0.010019</td>\n",
       "      <td>0.989981</td>\n",
       "      <td>0.002718</td>\n",
       "      <td>0.997282</td>\n",
       "      <td>0.958628</td>\n",
       "      <td>0.041371</td>\n",
       "      <td>0.005722</td>\n",
       "      <td>0.994278</td>\n",
       "      <td>1</td>\n",
       "    </tr>\n",
       "    <tr>\n",
       "      <th>2</th>\n",
       "      <td>3</td>\n",
       "      <td>0.000385</td>\n",
       "      <td>0.999615</td>\n",
       "      <td>0.000958</td>\n",
       "      <td>0.999042</td>\n",
       "      <td>0.000084</td>\n",
       "      <td>0.999916</td>\n",
       "      <td>0.000053</td>\n",
       "      <td>0.999947</td>\n",
       "      <td>0.000048</td>\n",
       "      <td>0.999952</td>\n",
       "      <td>0.000249</td>\n",
       "      <td>0.999751</td>\n",
       "      <td>1</td>\n",
       "    </tr>\n",
       "    <tr>\n",
       "      <th>3</th>\n",
       "      <td>4</td>\n",
       "      <td>0.000416</td>\n",
       "      <td>0.999584</td>\n",
       "      <td>0.000936</td>\n",
       "      <td>0.999065</td>\n",
       "      <td>0.000109</td>\n",
       "      <td>0.999891</td>\n",
       "      <td>0.001268</td>\n",
       "      <td>0.998732</td>\n",
       "      <td>0.001172</td>\n",
       "      <td>0.998828</td>\n",
       "      <td>0.000251</td>\n",
       "      <td>0.999749</td>\n",
       "      <td>1</td>\n",
       "    </tr>\n",
       "    <tr>\n",
       "      <th>4</th>\n",
       "      <td>5</td>\n",
       "      <td>0.999851</td>\n",
       "      <td>0.000149</td>\n",
       "      <td>0.999052</td>\n",
       "      <td>0.000948</td>\n",
       "      <td>0.999784</td>\n",
       "      <td>0.000216</td>\n",
       "      <td>0.999951</td>\n",
       "      <td>0.000049</td>\n",
       "      <td>0.999972</td>\n",
       "      <td>0.000028</td>\n",
       "      <td>0.999373</td>\n",
       "      <td>0.000627</td>\n",
       "      <td>0</td>\n",
       "    </tr>\n",
       "  </tbody>\n",
       "</table>\n",
       "</div>"
      ],
      "text/plain": [
       "   id  model1_Class0  model1_Class1  ...  Model6_class0  Model6_class1  Label\n",
       "0   1       0.001269       0.998731  ...       0.000250       0.999750      1\n",
       "1   2       0.991674       0.008326  ...       0.005722       0.994278      1\n",
       "2   3       0.000385       0.999615  ...       0.000249       0.999751      1\n",
       "3   4       0.000416       0.999584  ...       0.000251       0.999749      1\n",
       "4   5       0.999851       0.000149  ...       0.999373       0.000627      0\n",
       "\n",
       "[5 rows x 14 columns]"
      ]
     },
     "execution_count": 7,
     "metadata": {
      "tags": []
     },
     "output_type": "execute_result"
    }
   ],
   "source": [
    "val_labels = val_boosting_df['Label'].values\n",
    "val_boosting_df = pd.concat([val_boosting_df.iloc[:, :-1], ernie_val[[\"Model6_class0\", \"Model6_class1\"]]], 1)\n",
    "val_boosting_df[\"Label\"] = val_labels\n",
    "val_boosting_df.head()\n"
   ]
  },
  {
   "cell_type": "code",
   "execution_count": 8,
   "metadata": {
    "colab": {
     "base_uri": "https://localhost:8080/",
     "height": 224
    },
    "executionInfo": {
     "elapsed": 2071,
     "status": "ok",
     "timestamp": 1608129473518,
     "user": {
      "displayName": "Ayan Basak",
      "photoUrl": "",
      "userId": "03457614456337947866"
     },
     "user_tz": -330
    },
    "id": "kpWq53rADpFo",
    "outputId": "e4c23497-ec3e-4445-db4d-42667b8b6507"
   },
   "outputs": [
    {
     "data": {
      "text/html": [
       "<div>\n",
       "<style scoped>\n",
       "    .dataframe tbody tr th:only-of-type {\n",
       "        vertical-align: middle;\n",
       "    }\n",
       "\n",
       "    .dataframe tbody tr th {\n",
       "        vertical-align: top;\n",
       "    }\n",
       "\n",
       "    .dataframe thead th {\n",
       "        text-align: right;\n",
       "    }\n",
       "</style>\n",
       "<table border=\"1\" class=\"dataframe\">\n",
       "  <thead>\n",
       "    <tr style=\"text-align: right;\">\n",
       "      <th></th>\n",
       "      <th>id</th>\n",
       "      <th>model1_Class0</th>\n",
       "      <th>model1_Class1</th>\n",
       "      <th>model2_Class0</th>\n",
       "      <th>model2_Class1</th>\n",
       "      <th>model3_Class0</th>\n",
       "      <th>model3_Class1</th>\n",
       "      <th>model4_Class0</th>\n",
       "      <th>model4_Class1</th>\n",
       "      <th>model5_Class0</th>\n",
       "      <th>model5_Class1</th>\n",
       "      <th>Model6_class0</th>\n",
       "      <th>Model6_class1</th>\n",
       "    </tr>\n",
       "  </thead>\n",
       "  <tbody>\n",
       "    <tr>\n",
       "      <th>0</th>\n",
       "      <td>1</td>\n",
       "      <td>0.999851</td>\n",
       "      <td>0.000149</td>\n",
       "      <td>0.999063</td>\n",
       "      <td>0.000937</td>\n",
       "      <td>0.999967</td>\n",
       "      <td>0.000033</td>\n",
       "      <td>0.999963</td>\n",
       "      <td>0.000037</td>\n",
       "      <td>0.999984</td>\n",
       "      <td>0.000016</td>\n",
       "      <td>0.999371</td>\n",
       "      <td>0.000629</td>\n",
       "    </tr>\n",
       "    <tr>\n",
       "      <th>1</th>\n",
       "      <td>2</td>\n",
       "      <td>0.000422</td>\n",
       "      <td>0.999578</td>\n",
       "      <td>0.000902</td>\n",
       "      <td>0.999098</td>\n",
       "      <td>0.000045</td>\n",
       "      <td>0.999955</td>\n",
       "      <td>0.000112</td>\n",
       "      <td>0.999888</td>\n",
       "      <td>0.000067</td>\n",
       "      <td>0.999933</td>\n",
       "      <td>0.000257</td>\n",
       "      <td>0.999743</td>\n",
       "    </tr>\n",
       "    <tr>\n",
       "      <th>2</th>\n",
       "      <td>3</td>\n",
       "      <td>0.000401</td>\n",
       "      <td>0.999600</td>\n",
       "      <td>0.000954</td>\n",
       "      <td>0.999046</td>\n",
       "      <td>0.000033</td>\n",
       "      <td>0.999967</td>\n",
       "      <td>0.000170</td>\n",
       "      <td>0.999830</td>\n",
       "      <td>0.000081</td>\n",
       "      <td>0.999919</td>\n",
       "      <td>0.000247</td>\n",
       "      <td>0.999753</td>\n",
       "    </tr>\n",
       "    <tr>\n",
       "      <th>3</th>\n",
       "      <td>4</td>\n",
       "      <td>0.999858</td>\n",
       "      <td>0.000142</td>\n",
       "      <td>0.999082</td>\n",
       "      <td>0.000918</td>\n",
       "      <td>0.999967</td>\n",
       "      <td>0.000033</td>\n",
       "      <td>0.999956</td>\n",
       "      <td>0.000044</td>\n",
       "      <td>0.999984</td>\n",
       "      <td>0.000016</td>\n",
       "      <td>0.999376</td>\n",
       "      <td>0.000624</td>\n",
       "    </tr>\n",
       "    <tr>\n",
       "      <th>4</th>\n",
       "      <td>5</td>\n",
       "      <td>0.999852</td>\n",
       "      <td>0.000148</td>\n",
       "      <td>0.999076</td>\n",
       "      <td>0.000924</td>\n",
       "      <td>0.999953</td>\n",
       "      <td>0.000047</td>\n",
       "      <td>0.999912</td>\n",
       "      <td>0.000088</td>\n",
       "      <td>0.999984</td>\n",
       "      <td>0.000016</td>\n",
       "      <td>0.994812</td>\n",
       "      <td>0.005188</td>\n",
       "    </tr>\n",
       "  </tbody>\n",
       "</table>\n",
       "</div>"
      ],
      "text/plain": [
       "   id  model1_Class0  ...  Model6_class0  Model6_class1\n",
       "0   1       0.999851  ...       0.999371       0.000629\n",
       "1   2       0.000422  ...       0.000257       0.999743\n",
       "2   3       0.000401  ...       0.000247       0.999753\n",
       "3   4       0.999858  ...       0.999376       0.000624\n",
       "4   5       0.999852  ...       0.994812       0.005188\n",
       "\n",
       "[5 rows x 13 columns]"
      ]
     },
     "execution_count": 8,
     "metadata": {
      "tags": []
     },
     "output_type": "execute_result"
    }
   ],
   "source": [
    "test_boosting_df = pd.concat([test_boosting_df, ernie_test[[\"Model6_class0\", \"Model6_class1\"]]], 1)\n",
    "test_boosting_df.head()"
   ]
  },
  {
   "cell_type": "code",
   "execution_count": 9,
   "metadata": {
    "colab": {
     "base_uri": "https://localhost:8080/"
    },
    "executionInfo": {
     "elapsed": 2062,
     "status": "ok",
     "timestamp": 1608129473518,
     "user": {
      "displayName": "Ayan Basak",
      "photoUrl": "",
      "userId": "03457614456337947866"
     },
     "user_tz": -330
    },
    "id": "eFmvl4lqL9pZ",
    "outputId": "d4a18d50-b3cc-4ab9-bdc1-54ef648f54dd"
   },
   "outputs": [
    {
     "data": {
      "text/plain": [
       "((2140, 3), (2140, 2))"
      ]
     },
     "execution_count": 9,
     "metadata": {
      "tags": []
     },
     "output_type": "execute_result"
    }
   ],
   "source": [
    "ernie_val.shape, ernie_test.shape"
   ]
  },
  {
   "cell_type": "code",
   "execution_count": 10,
   "metadata": {
    "colab": {
     "base_uri": "https://localhost:8080/"
    },
    "executionInfo": {
     "elapsed": 2055,
     "status": "ok",
     "timestamp": 1608129473519,
     "user": {
      "displayName": "Ayan Basak",
      "photoUrl": "",
      "userId": "03457614456337947866"
     },
     "user_tz": -330
    },
    "id": "VVjWrHVeL9sV",
    "outputId": "24418dde-59c7-4dd7-bd57-bc1e5428c8ca"
   },
   "outputs": [
    {
     "data": {
      "text/plain": [
       "(2140, 13)"
      ]
     },
     "execution_count": 10,
     "metadata": {
      "tags": []
     },
     "output_type": "execute_result"
    }
   ],
   "source": [
    "test_boosting_df.shape"
   ]
  },
  {
   "cell_type": "code",
   "execution_count": 11,
   "metadata": {
    "colab": {
     "base_uri": "https://localhost:8080/",
     "height": 224
    },
    "executionInfo": {
     "elapsed": 2046,
     "status": "ok",
     "timestamp": 1608129473519,
     "user": {
      "displayName": "Ayan Basak",
      "photoUrl": "",
      "userId": "03457614456337947866"
     },
     "user_tz": -330
    },
    "id": "IJkXwyPVDaNA",
    "outputId": "927943c9-90cb-4db6-9029-109e0c4c0190"
   },
   "outputs": [
    {
     "data": {
      "text/html": [
       "<div>\n",
       "<style scoped>\n",
       "    .dataframe tbody tr th:only-of-type {\n",
       "        vertical-align: middle;\n",
       "    }\n",
       "\n",
       "    .dataframe tbody tr th {\n",
       "        vertical-align: top;\n",
       "    }\n",
       "\n",
       "    .dataframe thead th {\n",
       "        text-align: right;\n",
       "    }\n",
       "</style>\n",
       "<table border=\"1\" class=\"dataframe\">\n",
       "  <thead>\n",
       "    <tr style=\"text-align: right;\">\n",
       "      <th></th>\n",
       "      <th>id</th>\n",
       "      <th>model1_Class0</th>\n",
       "      <th>model1_Class1</th>\n",
       "      <th>model2_Class0</th>\n",
       "      <th>model2_Class1</th>\n",
       "      <th>model3_Class0</th>\n",
       "      <th>model3_Class1</th>\n",
       "      <th>model4_Class0</th>\n",
       "      <th>model4_Class1</th>\n",
       "      <th>model5_Class0</th>\n",
       "      <th>model5_Class1</th>\n",
       "      <th>Model6_class0</th>\n",
       "      <th>Model6_class1</th>\n",
       "    </tr>\n",
       "  </thead>\n",
       "  <tbody>\n",
       "    <tr>\n",
       "      <th>0</th>\n",
       "      <td>1</td>\n",
       "      <td>0.999851</td>\n",
       "      <td>0.000149</td>\n",
       "      <td>0.999063</td>\n",
       "      <td>0.000937</td>\n",
       "      <td>0.999967</td>\n",
       "      <td>0.000033</td>\n",
       "      <td>0.999963</td>\n",
       "      <td>0.000037</td>\n",
       "      <td>0.999984</td>\n",
       "      <td>0.000016</td>\n",
       "      <td>0.999371</td>\n",
       "      <td>0.000629</td>\n",
       "    </tr>\n",
       "    <tr>\n",
       "      <th>1</th>\n",
       "      <td>2</td>\n",
       "      <td>0.000422</td>\n",
       "      <td>0.999578</td>\n",
       "      <td>0.000902</td>\n",
       "      <td>0.999098</td>\n",
       "      <td>0.000045</td>\n",
       "      <td>0.999955</td>\n",
       "      <td>0.000112</td>\n",
       "      <td>0.999888</td>\n",
       "      <td>0.000067</td>\n",
       "      <td>0.999933</td>\n",
       "      <td>0.000257</td>\n",
       "      <td>0.999743</td>\n",
       "    </tr>\n",
       "    <tr>\n",
       "      <th>2</th>\n",
       "      <td>3</td>\n",
       "      <td>0.000401</td>\n",
       "      <td>0.999600</td>\n",
       "      <td>0.000954</td>\n",
       "      <td>0.999046</td>\n",
       "      <td>0.000033</td>\n",
       "      <td>0.999967</td>\n",
       "      <td>0.000170</td>\n",
       "      <td>0.999830</td>\n",
       "      <td>0.000081</td>\n",
       "      <td>0.999919</td>\n",
       "      <td>0.000247</td>\n",
       "      <td>0.999753</td>\n",
       "    </tr>\n",
       "    <tr>\n",
       "      <th>3</th>\n",
       "      <td>4</td>\n",
       "      <td>0.999858</td>\n",
       "      <td>0.000142</td>\n",
       "      <td>0.999082</td>\n",
       "      <td>0.000918</td>\n",
       "      <td>0.999967</td>\n",
       "      <td>0.000033</td>\n",
       "      <td>0.999956</td>\n",
       "      <td>0.000044</td>\n",
       "      <td>0.999984</td>\n",
       "      <td>0.000016</td>\n",
       "      <td>0.999376</td>\n",
       "      <td>0.000624</td>\n",
       "    </tr>\n",
       "    <tr>\n",
       "      <th>4</th>\n",
       "      <td>5</td>\n",
       "      <td>0.999852</td>\n",
       "      <td>0.000148</td>\n",
       "      <td>0.999076</td>\n",
       "      <td>0.000924</td>\n",
       "      <td>0.999953</td>\n",
       "      <td>0.000047</td>\n",
       "      <td>0.999912</td>\n",
       "      <td>0.000088</td>\n",
       "      <td>0.999984</td>\n",
       "      <td>0.000016</td>\n",
       "      <td>0.994812</td>\n",
       "      <td>0.005188</td>\n",
       "    </tr>\n",
       "  </tbody>\n",
       "</table>\n",
       "</div>"
      ],
      "text/plain": [
       "   id  model1_Class0  ...  Model6_class0  Model6_class1\n",
       "0   1       0.999851  ...       0.999371       0.000629\n",
       "1   2       0.000422  ...       0.000257       0.999743\n",
       "2   3       0.000401  ...       0.000247       0.999753\n",
       "3   4       0.999858  ...       0.999376       0.000624\n",
       "4   5       0.999852  ...       0.994812       0.005188\n",
       "\n",
       "[5 rows x 13 columns]"
      ]
     },
     "execution_count": 11,
     "metadata": {
      "tags": []
     },
     "output_type": "execute_result"
    }
   ],
   "source": [
    "test_boosting_df.head()"
   ]
  },
  {
   "cell_type": "code",
   "execution_count": null,
   "metadata": {},
   "outputs": [],
   "source": []
  },
  {
   "cell_type": "markdown",
   "metadata": {},
   "source": [
    "# Taking various permutations of models for Soft Voting"
   ]
  },
  {
   "cell_type": "code",
   "execution_count": 12,
   "metadata": {
    "executionInfo": {
     "elapsed": 2039,
     "status": "ok",
     "timestamp": 1608129473519,
     "user": {
      "displayName": "Ayan Basak",
      "photoUrl": "",
      "userId": "03457614456337947866"
     },
     "user_tz": -330
    },
    "id": "tgGHahB4Osu0"
   },
   "outputs": [],
   "source": [
    "def soft_voting(row):\n",
    "  # class0_val = (row['model1_Class0'] + row['model2_Class0'] + row['model3_Class0'] + row['model4_Class0'] + row['Model5_class0'])/5\n",
    "  # class1_val = (row['model1_Class1'] + row['model2_Class1'] + row['model3_Class1'] + row['model4_Class1'] + row['Model5_class1'])/5\n",
    "  class0_val = (row['model1_Class0'] + row['model2_Class0'] + row['model3_Class0'] + row['model5_Class0'] + row['Model6_class0'])/5\n",
    "  class1_val = (row['model1_Class1'] + row['model2_Class1'] + row['model3_Class1'] + row['model5_Class1'] + row['Model6_class1'])/5\n",
    "  return 0 if class0_val > class1_val else 1\n",
    "\n",
    "# train_boosting_df['Soft_Vote'] = train_boosting_df.apply(lambda x: soft_voting(x), 1)\n",
    "val_boosting_df['Soft_Vote'] = val_boosting_df.apply(lambda x: soft_voting(x), 1)\n",
    "test_boosting_df['Soft_Vote'] = test_boosting_df.apply(lambda x: soft_voting(x), 1)\n"
   ]
  },
  {
   "cell_type": "code",
   "execution_count": 13,
   "metadata": {
    "colab": {
     "base_uri": "https://localhost:8080/",
     "height": 131
    },
    "executionInfo": {
     "elapsed": 2034,
     "status": "ok",
     "timestamp": 1608129473520,
     "user": {
      "displayName": "Ayan Basak",
      "photoUrl": "",
      "userId": "03457614456337947866"
     },
     "user_tz": -330
    },
    "id": "J-bBbazXtbmu",
    "outputId": "cd9982ed-8f3a-4ec4-c388-0003d15620b5"
   },
   "outputs": [
    {
     "data": {
      "text/html": [
       "<div>\n",
       "<style scoped>\n",
       "    .dataframe tbody tr th:only-of-type {\n",
       "        vertical-align: middle;\n",
       "    }\n",
       "\n",
       "    .dataframe tbody tr th {\n",
       "        vertical-align: top;\n",
       "    }\n",
       "\n",
       "    .dataframe thead th {\n",
       "        text-align: right;\n",
       "    }\n",
       "</style>\n",
       "<table border=\"1\" class=\"dataframe\">\n",
       "  <thead>\n",
       "    <tr style=\"text-align: right;\">\n",
       "      <th></th>\n",
       "      <th>id</th>\n",
       "      <th>model1_Class0</th>\n",
       "      <th>model1_Class1</th>\n",
       "      <th>model2_Class0</th>\n",
       "      <th>model2_Class1</th>\n",
       "      <th>model3_Class0</th>\n",
       "      <th>model3_Class1</th>\n",
       "      <th>model4_Class0</th>\n",
       "      <th>model4_Class1</th>\n",
       "      <th>model5_Class0</th>\n",
       "      <th>model5_Class1</th>\n",
       "      <th>Model6_class0</th>\n",
       "      <th>Model6_class1</th>\n",
       "      <th>Soft_Vote</th>\n",
       "    </tr>\n",
       "  </thead>\n",
       "  <tbody>\n",
       "    <tr>\n",
       "      <th>0</th>\n",
       "      <td>1</td>\n",
       "      <td>0.999851</td>\n",
       "      <td>0.000149</td>\n",
       "      <td>0.999063</td>\n",
       "      <td>0.000937</td>\n",
       "      <td>0.999967</td>\n",
       "      <td>0.000033</td>\n",
       "      <td>0.999963</td>\n",
       "      <td>0.000037</td>\n",
       "      <td>0.999984</td>\n",
       "      <td>0.000016</td>\n",
       "      <td>0.999371</td>\n",
       "      <td>0.000629</td>\n",
       "      <td>0</td>\n",
       "    </tr>\n",
       "    <tr>\n",
       "      <th>1</th>\n",
       "      <td>2</td>\n",
       "      <td>0.000422</td>\n",
       "      <td>0.999578</td>\n",
       "      <td>0.000902</td>\n",
       "      <td>0.999098</td>\n",
       "      <td>0.000045</td>\n",
       "      <td>0.999955</td>\n",
       "      <td>0.000112</td>\n",
       "      <td>0.999888</td>\n",
       "      <td>0.000067</td>\n",
       "      <td>0.999933</td>\n",
       "      <td>0.000257</td>\n",
       "      <td>0.999743</td>\n",
       "      <td>1</td>\n",
       "    </tr>\n",
       "  </tbody>\n",
       "</table>\n",
       "</div>"
      ],
      "text/plain": [
       "   id  model1_Class0  model1_Class1  ...  Model6_class0  Model6_class1  Soft_Vote\n",
       "0   1       0.999851       0.000149  ...       0.999371       0.000629          0\n",
       "1   2       0.000422       0.999578  ...       0.000257       0.999743          1\n",
       "\n",
       "[2 rows x 14 columns]"
      ]
     },
     "execution_count": 13,
     "metadata": {
      "tags": []
     },
     "output_type": "execute_result"
    }
   ],
   "source": [
    "test_boosting_df.head(2)"
   ]
  },
  {
   "cell_type": "code",
   "execution_count": null,
   "metadata": {},
   "outputs": [],
   "source": []
  },
  {
   "cell_type": "markdown",
   "metadata": {},
   "source": [
    "# Taking various permutations of models for Hard Voting"
   ]
  },
  {
   "cell_type": "code",
   "execution_count": 14,
   "metadata": {
    "executionInfo": {
     "elapsed": 2496,
     "status": "ok",
     "timestamp": 1608129473988,
     "user": {
      "displayName": "Ayan Basak",
      "photoUrl": "",
      "userId": "03457614456337947866"
     },
     "user_tz": -330
    },
    "id": "w1LsKTQAOsxR"
   },
   "outputs": [],
   "source": [
    "def hard_voting(row, l):\n",
    "  a = np.argmax(np.array([[row['model1_Class0'], row['model1_Class1']]]), 1)[0]\n",
    "  b = np.argmax(np.array([[row['model2_Class0'], row['model2_Class1']]]), 1)[0]\n",
    "  c = np.argmax(np.array([[row['model3_Class0'], row['model3_Class1']]]), 1)[0]\n",
    "  d = np.argmax(np.array([[row['model4_Class0'], row['model4_Class1']]]), 1)[0]\n",
    "  e = np.argmax(np.array([[row['model5_Class0'], row['model5_Class0']]]), 1)[0]\n",
    "  f = np.argmax(np.array([[row['Model6_class0'], row['Model6_class1']]]), 1)[0]\n",
    "\n",
    "  # cnt_0 = 0\n",
    "  # for i in [a,b,c,d,e]:\n",
    "  #   if i==0:\n",
    "  #     cnt_0+=1\n",
    "  \n",
    "  # if cnt_0>=3:\n",
    "  #   return 0\n",
    "  # else:\n",
    "  #   return 1\n",
    "  cnt_0 = 0\n",
    "  for i in [a,b,c,e,f]:\n",
    "    if i==0:\n",
    "      cnt_0+=1\n",
    "  \n",
    "  if l%2==0:\n",
    "    if cnt_0==l:\n",
    "      class0_val = (row['model1_Class0'] + row['model2_Class0'] + row['model3_Class0'] + row['model5_Class0'] + row['Model6_class0'])/5\n",
    "      class1_val = (row['model1_Class1'] + row['model2_Class1'] + row['model3_Class1'] + row['model5_Class1'] + row['Model6_class0'])/5\n",
    "      return 0 if class0_val > class1_val else 1\n",
    "    elif cnt_0>l:\n",
    "      return 0\n",
    "    else:\n",
    "      return 1\n",
    "  else:\n",
    "    if cnt_0>l//2:\n",
    "      return 0\n",
    "    else:\n",
    "      return 1\n",
    "\n",
    "no_of_models = 5\n",
    "# train_boosting_df['Hard_Vote'] = train_boosting_df.apply(lambda x: hard_voting(x, no_of_models), 1)\n",
    "val_boosting_df['Hard_Vote'] = val_boosting_df.apply(lambda x: hard_voting(x, no_of_models), 1)\n",
    "test_boosting_df['Hard_Vote'] = test_boosting_df.apply(lambda x: hard_voting(x, no_of_models), 1)\n"
   ]
  },
  {
   "cell_type": "code",
   "execution_count": 15,
   "metadata": {
    "executionInfo": {
     "elapsed": 2492,
     "status": "ok",
     "timestamp": 1608129473988,
     "user": {
      "displayName": "Ayan Basak",
      "photoUrl": "",
      "userId": "03457614456337947866"
     },
     "user_tz": -330
    },
    "id": "SJf3_4gCuMwL"
   },
   "outputs": [],
   "source": [
    "def label_id_to_label(row, col):\n",
    "  return 'real' if row[col]==0 else 'fake'\n",
    "\n",
    "# train_boosting_df['predicted_label_Soft'] = train_boosting_df.apply(lambda x: label_id_to_label(x, 'Soft_Vote'), 1)\n",
    "val_boosting_df['predicted_label_Soft'] = val_boosting_df.apply(lambda x: label_id_to_label(x, 'Soft_Vote'), 1)\n",
    "test_boosting_df['predicted_label_Soft'] = test_boosting_df.apply(lambda x: label_id_to_label(x, 'Soft_Vote'), 1)\n",
    "\n",
    "# train_boosting_df['predicted_label_Hard'] = train_boosting_df.apply(lambda x: label_id_to_label(x, 'Hard_Vote'), 1)\n",
    "val_boosting_df['predicted_label_Hard'] = val_boosting_df.apply(lambda x: label_id_to_label(x, 'Hard_Vote'), 1)\n",
    "test_boosting_df['predicted_label_Hard'] = test_boosting_df.apply(lambda x: label_id_to_label(x, 'Hard_Vote'), 1)\n"
   ]
  },
  {
   "cell_type": "code",
   "execution_count": 16,
   "metadata": {
    "colab": {
     "base_uri": "https://localhost:8080/",
     "height": 204
    },
    "executionInfo": {
     "elapsed": 2488,
     "status": "ok",
     "timestamp": 1608129473989,
     "user": {
      "displayName": "Ayan Basak",
      "photoUrl": "",
      "userId": "03457614456337947866"
     },
     "user_tz": -330
    },
    "id": "Ssmlv6EH0-HB",
    "outputId": "957bd455-9a91-40f5-f7a6-523e6b910cf1"
   },
   "outputs": [
    {
     "data": {
      "text/html": [
       "<div>\n",
       "<style scoped>\n",
       "    .dataframe tbody tr th:only-of-type {\n",
       "        vertical-align: middle;\n",
       "    }\n",
       "\n",
       "    .dataframe tbody tr th {\n",
       "        vertical-align: top;\n",
       "    }\n",
       "\n",
       "    .dataframe thead th {\n",
       "        text-align: right;\n",
       "    }\n",
       "</style>\n",
       "<table border=\"1\" class=\"dataframe\">\n",
       "  <thead>\n",
       "    <tr style=\"text-align: right;\">\n",
       "      <th></th>\n",
       "      <th>id</th>\n",
       "      <th>tweet</th>\n",
       "      <th>label</th>\n",
       "      <th>predicted_label_Soft</th>\n",
       "      <th>predicted_label_Hard</th>\n",
       "    </tr>\n",
       "  </thead>\n",
       "  <tbody>\n",
       "    <tr>\n",
       "      <th>0</th>\n",
       "      <td>1</td>\n",
       "      <td>Chinese converting to Islam after realising th...</td>\n",
       "      <td>fake</td>\n",
       "      <td>fake</td>\n",
       "      <td>fake</td>\n",
       "    </tr>\n",
       "    <tr>\n",
       "      <th>1</th>\n",
       "      <td>2</td>\n",
       "      <td>11 out of 13 people (from the Diamond Princess...</td>\n",
       "      <td>fake</td>\n",
       "      <td>fake</td>\n",
       "      <td>fake</td>\n",
       "    </tr>\n",
       "    <tr>\n",
       "      <th>2</th>\n",
       "      <td>3</td>\n",
       "      <td>COVID-19 Is Caused By A Bacterium, Not Virus A...</td>\n",
       "      <td>fake</td>\n",
       "      <td>fake</td>\n",
       "      <td>fake</td>\n",
       "    </tr>\n",
       "    <tr>\n",
       "      <th>3</th>\n",
       "      <td>4</td>\n",
       "      <td>Mike Pence in RNC speech praises Donald Trump’...</td>\n",
       "      <td>fake</td>\n",
       "      <td>fake</td>\n",
       "      <td>fake</td>\n",
       "    </tr>\n",
       "    <tr>\n",
       "      <th>4</th>\n",
       "      <td>5</td>\n",
       "      <td>6/10 Sky's @EdConwaySky explains the latest #C...</td>\n",
       "      <td>real</td>\n",
       "      <td>real</td>\n",
       "      <td>real</td>\n",
       "    </tr>\n",
       "  </tbody>\n",
       "</table>\n",
       "</div>"
      ],
      "text/plain": [
       "   id  ... predicted_label_Hard\n",
       "0   1  ...                 fake\n",
       "1   2  ...                 fake\n",
       "2   3  ...                 fake\n",
       "3   4  ...                 fake\n",
       "4   5  ...                 real\n",
       "\n",
       "[5 rows x 5 columns]"
      ]
     },
     "execution_count": 16,
     "metadata": {
      "tags": []
     },
     "output_type": "execute_result"
    }
   ],
   "source": [
    "val_boosting_df = val_boosting_df[[\"id\", \"predicted_label_Soft\", \"predicted_label_Hard\"]]\n",
    "temp_val = val_df.merge(val_boosting_df, on='id', how='left')\n",
    "temp_val.head()"
   ]
  },
  {
   "cell_type": "code",
   "execution_count": 17,
   "metadata": {
    "colab": {
     "base_uri": "https://localhost:8080/"
    },
    "executionInfo": {
     "elapsed": 2482,
     "status": "ok",
     "timestamp": 1608129473989,
     "user": {
      "displayName": "Ayan Basak",
      "photoUrl": "",
      "userId": "03457614456337947866"
     },
     "user_tz": -330
    },
    "id": "KOsC09Vf0-Jj",
    "outputId": "1fec9f24-e2a4-465a-b45e-ef908def47bd"
   },
   "outputs": [
    {
     "data": {
      "text/plain": [
       "0.9841121495327103"
      ]
     },
     "execution_count": 17,
     "metadata": {
      "tags": []
     },
     "output_type": "execute_result"
    }
   ],
   "source": [
    "accuracy_score(temp_val['label'].values, temp_val['predicted_label_Soft'].values)"
   ]
  },
  {
   "cell_type": "code",
   "execution_count": 18,
   "metadata": {
    "colab": {
     "base_uri": "https://localhost:8080/"
    },
    "executionInfo": {
     "elapsed": 2477,
     "status": "ok",
     "timestamp": 1608129473990,
     "user": {
      "displayName": "Ayan Basak",
      "photoUrl": "",
      "userId": "03457614456337947866"
     },
     "user_tz": -330
    },
    "id": "O2OgBgFh0-MI",
    "outputId": "17844d21-d889-4dbd-edd6-01ce2481929a"
   },
   "outputs": [
    {
     "data": {
      "text/plain": [
       "0.9841121495327103"
      ]
     },
     "execution_count": 18,
     "metadata": {
      "tags": []
     },
     "output_type": "execute_result"
    }
   ],
   "source": [
    "precision_score(temp_val['label'].values, temp_val['predicted_label_Soft'].values, average='micro')"
   ]
  },
  {
   "cell_type": "code",
   "execution_count": 19,
   "metadata": {
    "colab": {
     "base_uri": "https://localhost:8080/"
    },
    "executionInfo": {
     "elapsed": 2472,
     "status": "ok",
     "timestamp": 1608129473991,
     "user": {
      "displayName": "Ayan Basak",
      "photoUrl": "",
      "userId": "03457614456337947866"
     },
     "user_tz": -330
    },
    "id": "zPILj-kb0-On",
    "outputId": "9154b2e4-b674-4548-c230-0594fd003eb0"
   },
   "outputs": [
    {
     "data": {
      "text/plain": [
       "0.9841121495327103"
      ]
     },
     "execution_count": 19,
     "metadata": {
      "tags": []
     },
     "output_type": "execute_result"
    }
   ],
   "source": [
    "recall_score(temp_val['label'].values, temp_val['predicted_label_Soft'].values, average='micro')"
   ]
  },
  {
   "cell_type": "code",
   "execution_count": 20,
   "metadata": {
    "colab": {
     "base_uri": "https://localhost:8080/"
    },
    "executionInfo": {
     "elapsed": 2467,
     "status": "ok",
     "timestamp": 1608129473991,
     "user": {
      "displayName": "Ayan Basak",
      "photoUrl": "",
      "userId": "03457614456337947866"
     },
     "user_tz": -330
    },
    "id": "IzHYmx0K0-Qi",
    "outputId": "dfdcf91b-5be8-4ca8-de2a-e970921173cd"
   },
   "outputs": [
    {
     "data": {
      "text/plain": [
       "0.9841121495327103"
      ]
     },
     "execution_count": 20,
     "metadata": {
      "tags": []
     },
     "output_type": "execute_result"
    }
   ],
   "source": [
    "f1_score(temp_val['label'].values, temp_val['predicted_label_Soft'].values, average='micro')"
   ]
  },
  {
   "cell_type": "code",
   "execution_count": 21,
   "metadata": {
    "colab": {
     "base_uri": "https://localhost:8080/"
    },
    "executionInfo": {
     "elapsed": 2463,
     "status": "ok",
     "timestamp": 1608129473992,
     "user": {
      "displayName": "Ayan Basak",
      "photoUrl": "",
      "userId": "03457614456337947866"
     },
     "user_tz": -330
    },
    "id": "2OOOFLQ41yoA",
    "outputId": "e8c596b6-d7a2-4e4d-aa47-b385ed789648"
   },
   "outputs": [
    {
     "data": {
      "text/plain": [
       "0.9822429906542056"
      ]
     },
     "execution_count": 21,
     "metadata": {
      "tags": []
     },
     "output_type": "execute_result"
    }
   ],
   "source": [
    "accuracy_score(temp_val['label'].values, temp_val['predicted_label_Hard'].values)"
   ]
  },
  {
   "cell_type": "code",
   "execution_count": 22,
   "metadata": {
    "colab": {
     "base_uri": "https://localhost:8080/"
    },
    "executionInfo": {
     "elapsed": 2457,
     "status": "ok",
     "timestamp": 1608129473992,
     "user": {
      "displayName": "Ayan Basak",
      "photoUrl": "",
      "userId": "03457614456337947866"
     },
     "user_tz": -330
    },
    "id": "8IC2mafd1yrg",
    "outputId": "f9baa688-ded0-4fea-b59c-1a02f05e8ebb"
   },
   "outputs": [
    {
     "data": {
      "text/plain": [
       "0.9822429906542056"
      ]
     },
     "execution_count": 22,
     "metadata": {
      "tags": []
     },
     "output_type": "execute_result"
    }
   ],
   "source": [
    "precision_score(temp_val['label'].values, temp_val['predicted_label_Hard'].values, average='micro')"
   ]
  },
  {
   "cell_type": "code",
   "execution_count": 23,
   "metadata": {
    "colab": {
     "base_uri": "https://localhost:8080/"
    },
    "executionInfo": {
     "elapsed": 2991,
     "status": "ok",
     "timestamp": 1608129474531,
     "user": {
      "displayName": "Ayan Basak",
      "photoUrl": "",
      "userId": "03457614456337947866"
     },
     "user_tz": -330
    },
    "id": "d1_8abjo1yup",
    "outputId": "054197d5-7a40-41aa-d4bd-04053c3e78d8"
   },
   "outputs": [
    {
     "data": {
      "text/plain": [
       "0.9822429906542056"
      ]
     },
     "execution_count": 23,
     "metadata": {
      "tags": []
     },
     "output_type": "execute_result"
    }
   ],
   "source": [
    "recall_score(temp_val['label'].values, temp_val['predicted_label_Hard'].values, average='micro')"
   ]
  },
  {
   "cell_type": "code",
   "execution_count": 24,
   "metadata": {
    "colab": {
     "base_uri": "https://localhost:8080/"
    },
    "executionInfo": {
     "elapsed": 2984,
     "status": "ok",
     "timestamp": 1608129474532,
     "user": {
      "displayName": "Ayan Basak",
      "photoUrl": "",
      "userId": "03457614456337947866"
     },
     "user_tz": -330
    },
    "id": "_AL89o491yxz",
    "outputId": "fdd27725-4759-40d2-df21-ebd6e450b2f5"
   },
   "outputs": [
    {
     "data": {
      "text/plain": [
       "0.9822429906542056"
      ]
     },
     "execution_count": 24,
     "metadata": {
      "tags": []
     },
     "output_type": "execute_result"
    }
   ],
   "source": [
    "f1_score(temp_val['label'].values, temp_val['predicted_label_Hard'].values, average='micro')"
   ]
  },
  {
   "cell_type": "code",
   "execution_count": 24,
   "metadata": {
    "executionInfo": {
     "elapsed": 2981,
     "status": "ok",
     "timestamp": 1608129474534,
     "user": {
      "displayName": "Ayan Basak",
      "photoUrl": "",
      "userId": "03457614456337947866"
     },
     "user_tz": -330
    },
    "id": "DaGK83XI0-Sw"
   },
   "outputs": [],
   "source": []
  },
  {
   "cell_type": "code",
   "execution_count": 25,
   "metadata": {
    "colab": {
     "base_uri": "https://localhost:8080/",
     "height": 204
    },
    "executionInfo": {
     "elapsed": 2978,
     "status": "ok",
     "timestamp": 1608129474535,
     "user": {
      "displayName": "Ayan Basak",
      "photoUrl": "",
      "userId": "03457614456337947866"
     },
     "user_tz": -330
    },
    "id": "wo8p7cMkOs-z",
    "outputId": "41982e63-d440-480f-ddb9-ba98c88f01b2"
   },
   "outputs": [
    {
     "data": {
      "text/html": [
       "<div>\n",
       "<style scoped>\n",
       "    .dataframe tbody tr th:only-of-type {\n",
       "        vertical-align: middle;\n",
       "    }\n",
       "\n",
       "    .dataframe tbody tr th {\n",
       "        vertical-align: top;\n",
       "    }\n",
       "\n",
       "    .dataframe thead th {\n",
       "        text-align: right;\n",
       "    }\n",
       "</style>\n",
       "<table border=\"1\" class=\"dataframe\">\n",
       "  <thead>\n",
       "    <tr style=\"text-align: right;\">\n",
       "      <th></th>\n",
       "      <th>id</th>\n",
       "      <th>tweet</th>\n",
       "      <th>label</th>\n",
       "      <th>predicted_label_Soft</th>\n",
       "      <th>predicted_label_Hard</th>\n",
       "    </tr>\n",
       "  </thead>\n",
       "  <tbody>\n",
       "    <tr>\n",
       "      <th>0</th>\n",
       "      <td>1</td>\n",
       "      <td>Our daily update is published. States reported...</td>\n",
       "      <td>real</td>\n",
       "      <td>real</td>\n",
       "      <td>real</td>\n",
       "    </tr>\n",
       "    <tr>\n",
       "      <th>1</th>\n",
       "      <td>2</td>\n",
       "      <td>Alfalfa is the only cure for COVID-19.</td>\n",
       "      <td>fake</td>\n",
       "      <td>fake</td>\n",
       "      <td>fake</td>\n",
       "    </tr>\n",
       "    <tr>\n",
       "      <th>2</th>\n",
       "      <td>3</td>\n",
       "      <td>President Trump Asked What He Would Do If He W...</td>\n",
       "      <td>fake</td>\n",
       "      <td>fake</td>\n",
       "      <td>fake</td>\n",
       "    </tr>\n",
       "    <tr>\n",
       "      <th>3</th>\n",
       "      <td>4</td>\n",
       "      <td>States reported 630 deaths. We are still seein...</td>\n",
       "      <td>real</td>\n",
       "      <td>real</td>\n",
       "      <td>real</td>\n",
       "    </tr>\n",
       "    <tr>\n",
       "      <th>4</th>\n",
       "      <td>5</td>\n",
       "      <td>This is the sixth time a global health emergen...</td>\n",
       "      <td>real</td>\n",
       "      <td>real</td>\n",
       "      <td>real</td>\n",
       "    </tr>\n",
       "  </tbody>\n",
       "</table>\n",
       "</div>"
      ],
      "text/plain": [
       "   id  ... predicted_label_Hard\n",
       "0   1  ...                 real\n",
       "1   2  ...                 fake\n",
       "2   3  ...                 fake\n",
       "3   4  ...                 real\n",
       "4   5  ...                 real\n",
       "\n",
       "[5 rows x 5 columns]"
      ]
     },
     "execution_count": 25,
     "metadata": {
      "tags": []
     },
     "output_type": "execute_result"
    }
   ],
   "source": [
    "test_boosting_df = test_boosting_df[[\"id\", \"predicted_label_Soft\", \"predicted_label_Hard\"]]\n",
    "temp = test_label_df.merge(test_boosting_df, on='id', how='left')\n",
    "temp.head()"
   ]
  },
  {
   "cell_type": "code",
   "execution_count": 25,
   "metadata": {
    "executionInfo": {
     "elapsed": 2970,
     "status": "ok",
     "timestamp": 1608129474535,
     "user": {
      "displayName": "Ayan Basak",
      "photoUrl": "",
      "userId": "03457614456337947866"
     },
     "user_tz": -330
    },
    "id": "LQ6kC8lbtPMa"
   },
   "outputs": [],
   "source": []
  },
  {
   "cell_type": "markdown",
   "metadata": {},
   "source": [
    "# Results"
   ]
  },
  {
   "cell_type": "code",
   "execution_count": 26,
   "metadata": {
    "colab": {
     "base_uri": "https://localhost:8080/"
    },
    "executionInfo": {
     "elapsed": 2967,
     "status": "ok",
     "timestamp": 1608129474536,
     "user": {
      "displayName": "Ayan Basak",
      "photoUrl": "",
      "userId": "03457614456337947866"
     },
     "user_tz": -330
    },
    "id": "UNW53W296GnX",
    "outputId": "e24ee10d-9a9c-4ce7-c8e9-1053ccd37206"
   },
   "outputs": [
    {
     "data": {
      "text/plain": [
       "0.9808411214953271"
      ]
     },
     "execution_count": 26,
     "metadata": {
      "tags": []
     },
     "output_type": "execute_result"
    }
   ],
   "source": [
    "accuracy_score(temp['label'].values, temp['predicted_label_Soft'].values)"
   ]
  },
  {
   "cell_type": "code",
   "execution_count": 27,
   "metadata": {
    "colab": {
     "base_uri": "https://localhost:8080/"
    },
    "executionInfo": {
     "elapsed": 2962,
     "status": "ok",
     "timestamp": 1608129474537,
     "user": {
      "displayName": "Ayan Basak",
      "photoUrl": "",
      "userId": "03457614456337947866"
     },
     "user_tz": -330
    },
    "id": "5GPxA-B46GqN",
    "outputId": "ac13b53e-d93e-47bc-b555-e782342ebd2e"
   },
   "outputs": [
    {
     "data": {
      "text/plain": [
       "0.9808411214953271"
      ]
     },
     "execution_count": 27,
     "metadata": {
      "tags": []
     },
     "output_type": "execute_result"
    }
   ],
   "source": [
    "precision_score(temp['label'].values, temp['predicted_label_Soft'].values, average='micro')"
   ]
  },
  {
   "cell_type": "code",
   "execution_count": 28,
   "metadata": {
    "colab": {
     "base_uri": "https://localhost:8080/"
    },
    "executionInfo": {
     "elapsed": 2955,
     "status": "ok",
     "timestamp": 1608129474537,
     "user": {
      "displayName": "Ayan Basak",
      "photoUrl": "",
      "userId": "03457614456337947866"
     },
     "user_tz": -330
    },
    "id": "tYHie1Sf3C5S",
    "outputId": "b12663ee-b01c-40ef-99b2-d910bcec5d3e"
   },
   "outputs": [
    {
     "data": {
      "text/plain": [
       "0.9808411214953271"
      ]
     },
     "execution_count": 28,
     "metadata": {
      "tags": []
     },
     "output_type": "execute_result"
    }
   ],
   "source": [
    "recall_score(temp['label'].values, temp['predicted_label_Soft'].values, average='micro')"
   ]
  },
  {
   "cell_type": "code",
   "execution_count": 29,
   "metadata": {
    "colab": {
     "base_uri": "https://localhost:8080/"
    },
    "executionInfo": {
     "elapsed": 2951,
     "status": "ok",
     "timestamp": 1608129474538,
     "user": {
      "displayName": "Ayan Basak",
      "photoUrl": "",
      "userId": "03457614456337947866"
     },
     "user_tz": -330
    },
    "id": "qbGeNwUR3C7i",
    "outputId": "16d0237c-7ba8-48be-9562-8958728edec4"
   },
   "outputs": [
    {
     "data": {
      "text/plain": [
       "0.9808411214953271"
      ]
     },
     "execution_count": 29,
     "metadata": {
      "tags": []
     },
     "output_type": "execute_result"
    }
   ],
   "source": [
    "f1_score(temp['label'].values, temp['predicted_label_Soft'].values, average='micro')"
   ]
  },
  {
   "cell_type": "code",
   "execution_count": 30,
   "metadata": {
    "colab": {
     "base_uri": "https://localhost:8080/"
    },
    "executionInfo": {
     "elapsed": 2946,
     "status": "ok",
     "timestamp": 1608129474539,
     "user": {
      "displayName": "Ayan Basak",
      "photoUrl": "",
      "userId": "03457614456337947866"
     },
     "user_tz": -330
    },
    "id": "2dR0hAcD7gUs",
    "outputId": "8f406b10-a2d3-4c95-eb5d-6271caf89efa"
   },
   "outputs": [
    {
     "data": {
      "text/plain": [
       "0.9766355140186916"
      ]
     },
     "execution_count": 30,
     "metadata": {
      "tags": []
     },
     "output_type": "execute_result"
    }
   ],
   "source": [
    "accuracy_score(temp['label'].values, temp['predicted_label_Hard'].values)"
   ]
  },
  {
   "cell_type": "code",
   "execution_count": 31,
   "metadata": {
    "colab": {
     "base_uri": "https://localhost:8080/"
    },
    "executionInfo": {
     "elapsed": 2940,
     "status": "ok",
     "timestamp": 1608129474539,
     "user": {
      "displayName": "Ayan Basak",
      "photoUrl": "",
      "userId": "03457614456337947866"
     },
     "user_tz": -330
    },
    "id": "vNx590yk7gXH",
    "outputId": "b7568dee-1e8f-4b43-aafc-8a461237a7fa"
   },
   "outputs": [
    {
     "data": {
      "text/plain": [
       "0.9766355140186916"
      ]
     },
     "execution_count": 31,
     "metadata": {
      "tags": []
     },
     "output_type": "execute_result"
    }
   ],
   "source": [
    "precision_score(temp['label'].values, temp['predicted_label_Hard'].values, average='micro')"
   ]
  },
  {
   "cell_type": "code",
   "execution_count": 32,
   "metadata": {
    "colab": {
     "base_uri": "https://localhost:8080/"
    },
    "executionInfo": {
     "elapsed": 2935,
     "status": "ok",
     "timestamp": 1608129474540,
     "user": {
      "displayName": "Ayan Basak",
      "photoUrl": "",
      "userId": "03457614456337947866"
     },
     "user_tz": -330
    },
    "id": "QGfVNC023LEY",
    "outputId": "26fb8d54-6396-4a7b-e362-68c5d649a1ad"
   },
   "outputs": [
    {
     "data": {
      "text/plain": [
       "0.9766355140186916"
      ]
     },
     "execution_count": 32,
     "metadata": {
      "tags": []
     },
     "output_type": "execute_result"
    }
   ],
   "source": [
    "recall_score(temp['label'].values, temp['predicted_label_Hard'].values, average='micro')"
   ]
  },
  {
   "cell_type": "code",
   "execution_count": 33,
   "metadata": {
    "colab": {
     "base_uri": "https://localhost:8080/"
    },
    "executionInfo": {
     "elapsed": 2928,
     "status": "ok",
     "timestamp": 1608129474540,
     "user": {
      "displayName": "Ayan Basak",
      "photoUrl": "",
      "userId": "03457614456337947866"
     },
     "user_tz": -330
    },
    "id": "id4OznUaRu0Y",
    "outputId": "92ef767c-c5f0-4d30-b01f-a68bdf26f623"
   },
   "outputs": [
    {
     "data": {
      "text/plain": [
       "0.9766355140186916"
      ]
     },
     "execution_count": 33,
     "metadata": {
      "tags": []
     },
     "output_type": "execute_result"
    }
   ],
   "source": [
    "f1_score(temp['label'].values, temp['predicted_label_Hard'].values, average='micro')"
   ]
  },
  {
   "cell_type": "code",
   "execution_count": 33,
   "metadata": {
    "executionInfo": {
     "elapsed": 2924,
     "status": "ok",
     "timestamp": 1608129474541,
     "user": {
      "displayName": "Ayan Basak",
      "photoUrl": "",
      "userId": "03457614456337947866"
     },
     "user_tz": -330
    },
    "id": "Dgic456KUrd1"
   },
   "outputs": [],
   "source": []
  },
  {
   "cell_type": "code",
   "execution_count": 33,
   "metadata": {
    "executionInfo": {
     "elapsed": 2921,
     "status": "ok",
     "timestamp": 1608129474542,
     "user": {
      "displayName": "Ayan Basak",
      "photoUrl": "",
      "userId": "03457614456337947866"
     },
     "user_tz": -330
    },
    "id": "gTApYr_CUeAg"
   },
   "outputs": [],
   "source": []
  }
 ],
 "metadata": {
  "colab": {
   "collapsed_sections": [],
   "name": "Hard v/s Soft.ipynb",
   "provenance": [
    {
     "file_id": "1M_-vXF56_lRScx2kNMBlinCWVHqBk6cs",
     "timestamp": 1607433779834
    },
    {
     "file_id": "1bLOtzT0KnTp6g0XOKb2XLIPkvfSTGvIt",
     "timestamp": 1607344916520
    }
   ]
  },
  "kernelspec": {
   "display_name": "Python 3",
   "language": "python",
   "name": "python3"
  },
  "language_info": {
   "codemirror_mode": {
    "name": "ipython",
    "version": 3
   },
   "file_extension": ".py",
   "mimetype": "text/x-python",
   "name": "python",
   "nbconvert_exporter": "python",
   "pygments_lexer": "ipython3",
   "version": "3.8.5"
  }
 },
 "nbformat": 4,
 "nbformat_minor": 1
}
