{
 "cells": [
  {
   "cell_type": "code",
   "execution_count": 1,
   "metadata": {
    "executionInfo": {
     "elapsed": 1536,
     "status": "ok",
     "timestamp": 1607460064233,
     "user": {
      "displayName": "ai projects",
      "photoUrl": "",
      "userId": "06097692587330186651"
     },
     "user_tz": -330
    },
    "id": "ZFlKVQC_5ZVC"
   },
   "outputs": [],
   "source": [
    "from sklearn.ensemble import AdaBoostClassifier, RandomForestClassifier\n",
    "from sklearn.tree import DecisionTreeClassifier\n",
    "from sklearn.datasets import load_breast_cancer\n",
    "import pandas as pd\n",
    "import numpy as np\n",
    "from sklearn.model_selection import train_test_split\n",
    "from sklearn.metrics import confusion_matrix, accuracy_score\n",
    "from sklearn.preprocessing import LabelEncoder\n"
   ]
  },
  {
   "cell_type": "code",
   "execution_count": 2,
   "metadata": {
    "colab": {
     "base_uri": "https://localhost:8080/",
     "height": 204
    },
    "executionInfo": {
     "elapsed": 2264,
     "status": "ok",
     "timestamp": 1607460064968,
     "user": {
      "displayName": "ai projects",
      "photoUrl": "",
      "userId": "06097692587330186651"
     },
     "user_tz": -330
    },
    "id": "NLa-pIwN6MEq",
    "outputId": "594043c1-b83a-4789-9c3f-a2b29ad2ca8c"
   },
   "outputs": [
    {
     "data": {
      "text/html": [
       "<div>\n",
       "<style scoped>\n",
       "    .dataframe tbody tr th:only-of-type {\n",
       "        vertical-align: middle;\n",
       "    }\n",
       "\n",
       "    .dataframe tbody tr th {\n",
       "        vertical-align: top;\n",
       "    }\n",
       "\n",
       "    .dataframe thead th {\n",
       "        text-align: right;\n",
       "    }\n",
       "</style>\n",
       "<table border=\"1\" class=\"dataframe\">\n",
       "  <thead>\n",
       "    <tr style=\"text-align: right;\">\n",
       "      <th></th>\n",
       "      <th>id</th>\n",
       "      <th>tweet</th>\n",
       "    </tr>\n",
       "  </thead>\n",
       "  <tbody>\n",
       "    <tr>\n",
       "      <th>0</th>\n",
       "      <td>1</td>\n",
       "      <td>Our daily update is published. States reported...</td>\n",
       "    </tr>\n",
       "    <tr>\n",
       "      <th>1</th>\n",
       "      <td>2</td>\n",
       "      <td>Alfalfa is the only cure for COVID-19.</td>\n",
       "    </tr>\n",
       "    <tr>\n",
       "      <th>2</th>\n",
       "      <td>3</td>\n",
       "      <td>President Trump Asked What He Would Do If He W...</td>\n",
       "    </tr>\n",
       "    <tr>\n",
       "      <th>3</th>\n",
       "      <td>4</td>\n",
       "      <td>States reported 630 deaths. We are still seein...</td>\n",
       "    </tr>\n",
       "    <tr>\n",
       "      <th>4</th>\n",
       "      <td>5</td>\n",
       "      <td>This is the sixth time a global health emergen...</td>\n",
       "    </tr>\n",
       "  </tbody>\n",
       "</table>\n",
       "</div>"
      ],
      "text/plain": [
       "   id                                              tweet\n",
       "0   1  Our daily update is published. States reported...\n",
       "1   2             Alfalfa is the only cure for COVID-19.\n",
       "2   3  President Trump Asked What He Would Do If He W...\n",
       "3   4  States reported 630 deaths. We are still seein...\n",
       "4   5  This is the sixth time a global health emergen..."
      ]
     },
     "execution_count": 2,
     "metadata": {
      "tags": []
     },
     "output_type": "execute_result"
    }
   ],
   "source": [
    "train_boosting_df = pd.read_csv('../Boosting Data/Train_v1.csv')\n",
    "val_boosting_df = pd.read_csv('../Boosting Data/Validation_v1.csv')\n",
    "test_df = pd.read_csv('../../data/Constraint_Test.csv')\n",
    "test_boosting_df = pd.read_csv('../../data/Boosting Data/Test_v1.csv')\n",
    "test_df.head()"
   ]
  },
  {
   "cell_type": "code",
   "execution_count": 3,
   "metadata": {
    "executionInfo": {
     "elapsed": 2260,
     "status": "ok",
     "timestamp": 1607460064969,
     "user": {
      "displayName": "ai projects",
      "photoUrl": "",
      "userId": "06097692587330186651"
     },
     "user_tz": -330
    },
    "id": "tgGHahB4Osu0"
   },
   "outputs": [],
   "source": [
    "def soft_voting(row):\n",
    "  # class0_val = (row['model1_Class0'] + row['model2_Class0'] + row['model3_Class0'] + row['model4_Class0'])/4\n",
    "  class0_val = (row['model1_Class0'] + row['model2_Class0'] + row['model3_Class0'])/3\n",
    "  # class1_val = (row['model1_Class1'] + row['model2_Class1'] + row['model3_Class1'] + row['model4_Class1'])/4\n",
    "  class1_val = (row['model1_Class1'] + row['model2_Class1'] + row['model3_Class1'])/3\n",
    "  return 0 if class0_val > class1_val else 1\n",
    "\n",
    "val_boosting_df['Soft_Vote'] = val_boosting_df.apply(lambda x: soft_voting(x), 1)\n",
    "test_boosting_df['Soft_Vote'] = test_boosting_df.apply(lambda x: soft_voting(x), 1)\n"
   ]
  },
  {
   "cell_type": "code",
   "execution_count": 4,
   "metadata": {
    "colab": {
     "base_uri": "https://localhost:8080/",
     "height": 131
    },
    "executionInfo": {
     "elapsed": 2251,
     "status": "ok",
     "timestamp": 1607460064969,
     "user": {
      "displayName": "ai projects",
      "photoUrl": "",
      "userId": "06097692587330186651"
     },
     "user_tz": -330
    },
    "id": "J-bBbazXtbmu",
    "outputId": "9dae7585-0a2a-4e3c-89af-e8305fa83e1c"
   },
   "outputs": [
    {
     "data": {
      "text/html": [
       "<div>\n",
       "<style scoped>\n",
       "    .dataframe tbody tr th:only-of-type {\n",
       "        vertical-align: middle;\n",
       "    }\n",
       "\n",
       "    .dataframe tbody tr th {\n",
       "        vertical-align: top;\n",
       "    }\n",
       "\n",
       "    .dataframe thead th {\n",
       "        text-align: right;\n",
       "    }\n",
       "</style>\n",
       "<table border=\"1\" class=\"dataframe\">\n",
       "  <thead>\n",
       "    <tr style=\"text-align: right;\">\n",
       "      <th></th>\n",
       "      <th>id</th>\n",
       "      <th>model1_Class0</th>\n",
       "      <th>model1_Class1</th>\n",
       "      <th>model2_Class0</th>\n",
       "      <th>model2_Class1</th>\n",
       "      <th>model3_Class0</th>\n",
       "      <th>model3_Class1</th>\n",
       "      <th>model4_Class0</th>\n",
       "      <th>model4_Class1</th>\n",
       "      <th>Soft_Vote</th>\n",
       "    </tr>\n",
       "  </thead>\n",
       "  <tbody>\n",
       "    <tr>\n",
       "      <th>0</th>\n",
       "      <td>1</td>\n",
       "      <td>0.999851</td>\n",
       "      <td>0.000149</td>\n",
       "      <td>0.999063</td>\n",
       "      <td>0.000937</td>\n",
       "      <td>0.999967</td>\n",
       "      <td>0.000033</td>\n",
       "      <td>0.999963</td>\n",
       "      <td>0.000037</td>\n",
       "      <td>0</td>\n",
       "    </tr>\n",
       "    <tr>\n",
       "      <th>1</th>\n",
       "      <td>2</td>\n",
       "      <td>0.000422</td>\n",
       "      <td>0.999578</td>\n",
       "      <td>0.000902</td>\n",
       "      <td>0.999098</td>\n",
       "      <td>0.000045</td>\n",
       "      <td>0.999955</td>\n",
       "      <td>0.000112</td>\n",
       "      <td>0.999888</td>\n",
       "      <td>1</td>\n",
       "    </tr>\n",
       "  </tbody>\n",
       "</table>\n",
       "</div>"
      ],
      "text/plain": [
       "   id  model1_Class0  model1_Class1  ...  model4_Class0  model4_Class1  Soft_Vote\n",
       "0   1       0.999851       0.000149  ...       0.999963       0.000037          0\n",
       "1   2       0.000422       0.999578  ...       0.000112       0.999888          1\n",
       "\n",
       "[2 rows x 10 columns]"
      ]
     },
     "execution_count": 4,
     "metadata": {
      "tags": []
     },
     "output_type": "execute_result"
    }
   ],
   "source": [
    "test_boosting_df.head(2)"
   ]
  },
  {
   "cell_type": "code",
   "execution_count": 5,
   "metadata": {
    "executionInfo": {
     "elapsed": 2242,
     "status": "ok",
     "timestamp": 1607460064970,
     "user": {
      "displayName": "ai projects",
      "photoUrl": "",
      "userId": "06097692587330186651"
     },
     "user_tz": -330
    },
    "id": "w1LsKTQAOsxR"
   },
   "outputs": [],
   "source": [
    "def hard_voting(row):\n",
    "  a = np.argmax(np.array([[row['model1_Class0'], row['model1_Class1']]]), 1)[0]\n",
    "  b = np.argmax(np.array([[row['model2_Class0'], row['model2_Class1']]]), 1)[0]\n",
    "  c = np.argmax(np.array([[row['model3_Class0'], row['model3_Class1']]]), 1)[0]\n",
    "  # d = np.argmax(np.array([[row['model4_Class0'], row['model4_Class1']]]), 1)[0]\n",
    "\n",
    "  cnt_0 = 0\n",
    "  # for i in [a,b,c,d]:\n",
    "  for i in [a,b,c]:\n",
    "    if i==0:\n",
    "      cnt_0+=1\n",
    "  \n",
    "  if cnt_0>=2:\n",
    "    return 0\n",
    "  else:\n",
    "    return 1\n",
    "\n",
    "val_boosting_df['Hard_Vote'] = val_boosting_df.apply(lambda x: hard_voting(x), 1)\n",
    "test_boosting_df['Hard_Vote'] = test_boosting_df.apply(lambda x: hard_voting(x), 1)\n"
   ]
  },
  {
   "cell_type": "code",
   "execution_count": 6,
   "metadata": {
    "executionInfo": {
     "elapsed": 2238,
     "status": "ok",
     "timestamp": 1607460064971,
     "user": {
      "displayName": "ai projects",
      "photoUrl": "",
      "userId": "06097692587330186651"
     },
     "user_tz": -330
    },
    "id": "SJf3_4gCuMwL"
   },
   "outputs": [],
   "source": [
    "def label_id_to_label(row):\n",
    "  return 'real' if row['Soft_Vote']==0 else 'fake'\n",
    "\n",
    "val_boosting_df['label'] = val_boosting_df.apply(lambda x: label_id_to_label(x), 1)\n",
    "test_boosting_df['label'] = test_boosting_df.apply(lambda x: label_id_to_label(x), 1)\n"
   ]
  },
  {
   "cell_type": "code",
   "execution_count": 7,
   "metadata": {
    "executionInfo": {
     "elapsed": 2234,
     "status": "ok",
     "timestamp": 1607460064971,
     "user": {
      "displayName": "ai projects",
      "photoUrl": "",
      "userId": "06097692587330186651"
     },
     "user_tz": -330
    },
    "id": "wo8p7cMkOs-z"
   },
   "outputs": [],
   "source": [
    "test_df = pd.concat([test_df[[\"id\"]], test_boosting_df[[\"label\"]]], 1)"
   ]
  },
  {
   "cell_type": "code",
   "execution_count": 8,
   "metadata": {
    "colab": {
     "base_uri": "https://localhost:8080/",
     "height": 204
    },
    "executionInfo": {
     "elapsed": 2230,
     "status": "ok",
     "timestamp": 1607460064972,
     "user": {
      "displayName": "ai projects",
      "photoUrl": "",
      "userId": "06097692587330186651"
     },
     "user_tz": -330
    },
    "id": "FHXSrtXStPH4",
    "outputId": "d02a76e1-9e1b-42f1-cdf5-8fe0fb2a31be"
   },
   "outputs": [
    {
     "data": {
      "text/html": [
       "<div>\n",
       "<style scoped>\n",
       "    .dataframe tbody tr th:only-of-type {\n",
       "        vertical-align: middle;\n",
       "    }\n",
       "\n",
       "    .dataframe tbody tr th {\n",
       "        vertical-align: top;\n",
       "    }\n",
       "\n",
       "    .dataframe thead th {\n",
       "        text-align: right;\n",
       "    }\n",
       "</style>\n",
       "<table border=\"1\" class=\"dataframe\">\n",
       "  <thead>\n",
       "    <tr style=\"text-align: right;\">\n",
       "      <th></th>\n",
       "      <th>id</th>\n",
       "      <th>label</th>\n",
       "    </tr>\n",
       "  </thead>\n",
       "  <tbody>\n",
       "    <tr>\n",
       "      <th>0</th>\n",
       "      <td>1</td>\n",
       "      <td>real</td>\n",
       "    </tr>\n",
       "    <tr>\n",
       "      <th>1</th>\n",
       "      <td>2</td>\n",
       "      <td>fake</td>\n",
       "    </tr>\n",
       "    <tr>\n",
       "      <th>2</th>\n",
       "      <td>3</td>\n",
       "      <td>fake</td>\n",
       "    </tr>\n",
       "    <tr>\n",
       "      <th>3</th>\n",
       "      <td>4</td>\n",
       "      <td>real</td>\n",
       "    </tr>\n",
       "    <tr>\n",
       "      <th>4</th>\n",
       "      <td>5</td>\n",
       "      <td>real</td>\n",
       "    </tr>\n",
       "  </tbody>\n",
       "</table>\n",
       "</div>"
      ],
      "text/plain": [
       "   id label\n",
       "0   1  real\n",
       "1   2  fake\n",
       "2   3  fake\n",
       "3   4  real\n",
       "4   5  real"
      ]
     },
     "execution_count": 8,
     "metadata": {
      "tags": []
     },
     "output_type": "execute_result"
    }
   ],
   "source": [
    "test_df.head()"
   ]
  },
  {
   "cell_type": "code",
   "execution_count": 9,
   "metadata": {
    "executionInfo": {
     "elapsed": 2669,
     "status": "ok",
     "timestamp": 1607460065416,
     "user": {
      "displayName": "ai projects",
      "photoUrl": "",
      "userId": "06097692587330186651"
     },
     "user_tz": -330
    },
    "id": "4t3qXe63tPKS"
   },
   "outputs": [],
   "source": [
    "test_df.to_csv('../../Submission_v1.csv', index=False)"
   ]
  },
  {
   "cell_type": "code",
   "execution_count": 9,
   "metadata": {
    "executionInfo": {
     "elapsed": 2666,
     "status": "ok",
     "timestamp": 1607460065417,
     "user": {
      "displayName": "ai projects",
      "photoUrl": "",
      "userId": "06097692587330186651"
     },
     "user_tz": -330
    },
    "id": "TXdn4Ljubr5e"
   },
   "outputs": [],
   "source": []
  },
  {
   "cell_type": "code",
   "execution_count": 9,
   "metadata": {
    "executionInfo": {
     "elapsed": 2662,
     "status": "ok",
     "timestamp": 1607460065418,
     "user": {
      "displayName": "ai projects",
      "photoUrl": "",
      "userId": "06097692587330186651"
     },
     "user_tz": -330
    },
    "id": "LQ6kC8lbtPMa"
   },
   "outputs": [],
   "source": []
  },
  {
   "cell_type": "code",
   "execution_count": 10,
   "metadata": {
    "colab": {
     "base_uri": "https://localhost:8080/"
    },
    "executionInfo": {
     "elapsed": 2658,
     "status": "ok",
     "timestamp": 1607460065418,
     "user": {
      "displayName": "ai projects",
      "photoUrl": "",
      "userId": "06097692587330186651"
     },
     "user_tz": -330
    },
    "id": "UNW53W296GnX",
    "outputId": "70bba00a-437f-42f9-8b0f-76c44d366a6c"
   },
   "outputs": [
    {
     "data": {
      "text/plain": [
       "array([[1109,   11],\n",
       "       [  26,  994]])"
      ]
     },
     "execution_count": 10,
     "metadata": {
      "tags": []
     },
     "output_type": "execute_result"
    }
   ],
   "source": [
    "confusion_matrix(val_boosting_df['Label'].values, val_boosting_df['Soft_Vote'].values)"
   ]
  },
  {
   "cell_type": "code",
   "execution_count": 11,
   "metadata": {
    "colab": {
     "base_uri": "https://localhost:8080/"
    },
    "executionInfo": {
     "elapsed": 3250,
     "status": "ok",
     "timestamp": 1607460066016,
     "user": {
      "displayName": "ai projects",
      "photoUrl": "",
      "userId": "06097692587330186651"
     },
     "user_tz": -330
    },
    "id": "5GPxA-B46GqN",
    "outputId": "6fe127b6-28cd-477d-d7b5-114258611dcf"
   },
   "outputs": [
    {
     "data": {
      "text/plain": [
       "0.9827102803738318"
      ]
     },
     "execution_count": 11,
     "metadata": {
      "tags": []
     },
     "output_type": "execute_result"
    }
   ],
   "source": [
    "accuracy_score(val_boosting_df['Label'].values, val_boosting_df['Soft_Vote'].values)"
   ]
  },
  {
   "cell_type": "code",
   "execution_count": 12,
   "metadata": {
    "colab": {
     "base_uri": "https://localhost:8080/"
    },
    "executionInfo": {
     "elapsed": 3244,
     "status": "ok",
     "timestamp": 1607460066016,
     "user": {
      "displayName": "ai projects",
      "photoUrl": "",
      "userId": "06097692587330186651"
     },
     "user_tz": -330
    },
    "id": "2dR0hAcD7gUs",
    "outputId": "4a8f8863-6740-4538-db63-7f772ab40d52"
   },
   "outputs": [
    {
     "data": {
      "text/plain": [
       "array([[1109,   11],\n",
       "       [  28,  992]])"
      ]
     },
     "execution_count": 12,
     "metadata": {
      "tags": []
     },
     "output_type": "execute_result"
    }
   ],
   "source": [
    "confusion_matrix(val_boosting_df['Label'].values, val_boosting_df['Hard_Vote'].values)"
   ]
  },
  {
   "cell_type": "code",
   "execution_count": 13,
   "metadata": {
    "colab": {
     "base_uri": "https://localhost:8080/"
    },
    "executionInfo": {
     "elapsed": 3239,
     "status": "ok",
     "timestamp": 1607460066017,
     "user": {
      "displayName": "ai projects",
      "photoUrl": "",
      "userId": "06097692587330186651"
     },
     "user_tz": -330
    },
    "id": "vNx590yk7gXH",
    "outputId": "8743ba9e-40f3-4adf-a1cd-97b538e6428a"
   },
   "outputs": [
    {
     "data": {
      "text/plain": [
       "0.9817757009345794"
      ]
     },
     "execution_count": 13,
     "metadata": {
      "tags": []
     },
     "output_type": "execute_result"
    }
   ],
   "source": [
    "accuracy_score(val_boosting_df['Label'].values, val_boosting_df['Hard_Vote'].values)"
   ]
  },
  {
   "cell_type": "code",
   "execution_count": 13,
   "metadata": {
    "executionInfo": {
     "elapsed": 3234,
     "status": "ok",
     "timestamp": 1607460066017,
     "user": {
      "displayName": "ai projects",
      "photoUrl": "",
      "userId": "06097692587330186651"
     },
     "user_tz": -330
    },
    "id": "id4OznUaRu0Y"
   },
   "outputs": [],
   "source": []
  },
  {
   "cell_type": "code",
   "execution_count": 13,
   "metadata": {
    "executionInfo": {
     "elapsed": 3233,
     "status": "ok",
     "timestamp": 1607460066018,
     "user": {
      "displayName": "ai projects",
      "photoUrl": "",
      "userId": "06097692587330186651"
     },
     "user_tz": -330
    },
    "id": "amvtfH2URu2o"
   },
   "outputs": [],
   "source": []
  }
 ],
 "metadata": {
  "colab": {
   "authorship_tag": "ABX9TyMFQOgpOwWP+NX/BWVRgfKq",
   "collapsed_sections": [],
   "mount_file_id": "1M_-vXF56_lRScx2kNMBlinCWVHqBk6cs",
   "name": "Voting.ipynb",
   "provenance": [
    {
     "file_id": "1bLOtzT0KnTp6g0XOKb2XLIPkvfSTGvIt",
     "timestamp": 1607344916520
    }
   ]
  },
  "kernelspec": {
   "display_name": "Python 3",
   "language": "python",
   "name": "python3"
  },
  "language_info": {
   "codemirror_mode": {
    "name": "ipython",
    "version": 3
   },
   "file_extension": ".py",
   "mimetype": "text/x-python",
   "name": "python",
   "nbconvert_exporter": "python",
   "pygments_lexer": "ipython3",
   "version": "3.8.5"
  }
 },
 "nbformat": 4,
 "nbformat_minor": 1
}
