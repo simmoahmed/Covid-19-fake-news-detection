{
 "cells": [
  {
   "cell_type": "code",
   "execution_count": 2,
   "metadata": {
    "executionInfo": {
     "elapsed": 1829,
     "status": "ok",
     "timestamp": 1608102663705,
     "user": {
      "displayName": "Ayan Basak",
      "photoUrl": "",
      "userId": "03457614456337947866"
     },
     "user_tz": -330
    },
    "id": "ZFlKVQC_5ZVC"
   },
   "outputs": [],
   "source": [
    "from sklearn.ensemble import AdaBoostClassifier, RandomForestClassifier\n",
    "from sklearn.tree import DecisionTreeClassifier\n",
    "from sklearn.datasets import load_breast_cancer\n",
    "import pandas as pd\n",
    "import numpy as np\n",
    "from sklearn.model_selection import train_test_split\n",
    "from sklearn.metrics import confusion_matrix, accuracy_score, f1_score\n",
    "from sklearn.preprocessing import LabelEncoder\n"
   ]
  },
  {
   "cell_type": "code",
   "execution_count": 3,
   "metadata": {
    "colab": {
     "base_uri": "https://localhost:8080/"
    },
    "executionInfo": {
     "elapsed": 703,
     "status": "ok",
     "timestamp": 1608102665160,
     "user": {
      "displayName": "Ayan Basak",
      "photoUrl": "",
      "userId": "03457614456337947866"
     },
     "user_tz": -330
    },
    "id": "Fwurh4GzJzfv",
    "outputId": "50f45816-f235-4459-ea02-7a66afdf80dd"
   },
   "outputs": [
    {
     "name": "stdout",
     "output_type": "stream",
     "text": [
      "Drive already mounted at /content/drive; to attempt to forcibly remount, call drive.mount(\"/content/drive\", force_remount=True).\n"
     ]
    }
   ],
   "source": [
    "from google.colab import drive\n",
    "drive.mount('/content/drive')"
   ]
  },
  {
   "cell_type": "code",
   "execution_count": 4,
   "metadata": {
    "executionInfo": {
     "elapsed": 6372,
     "status": "ok",
     "timestamp": 1608102673429,
     "user": {
      "displayName": "Ayan Basak",
      "photoUrl": "",
      "userId": "03457614456337947866"
     },
     "user_tz": -330
    },
    "id": "NLa-pIwN6MEq"
   },
   "outputs": [],
   "source": [
    "train_boosting_df = pd.read_csv('../Boosting Data/Train_v2.csv')\n",
    "val_boosting_df = pd.read_csv('../Boosting Data/Validation_v2.csv')\n",
    "train_df = pd.read_csv('../../data/Constraint_Train.csv')\n",
    "val_df = pd.read_csv('../../data/Constraint_Val.csv')\n",
    "test_df = pd.read_csv('../../data/Constraint_Test.csv')\n",
    "test_label_df = pd.read_csv('/../../data/english_test_with_labels.csv')\n",
    "test_boosting_df = pd.read_csv('../Boosting Data/Test_v2.csv')\n"
   ]
  },
  {
   "cell_type": "code",
   "execution_count": 5,
   "metadata": {
    "colab": {
     "base_uri": "https://localhost:8080/"
    },
    "executionInfo": {
     "elapsed": 972,
     "status": "ok",
     "timestamp": 1608102676709,
     "user": {
      "displayName": "Ayan Basak",
      "photoUrl": "",
      "userId": "03457614456337947866"
     },
     "user_tz": -330
    },
    "id": "L5nx124ORf6S",
    "outputId": "a7cd886a-c5fe-4479-d965-0402d0deef41"
   },
   "outputs": [
    {
     "data": {
      "text/plain": [
       "((6420, 10), (2140, 10), (2140, 9))"
      ]
     },
     "execution_count": 5,
     "metadata": {
      "tags": []
     },
     "output_type": "execute_result"
    }
   ],
   "source": [
    "train_boosting_df.shape, val_boosting_df.shape, test_boosting_df.shape"
   ]
  },
  {
   "cell_type": "code",
   "execution_count": 10,
   "metadata": {
    "executionInfo": {
     "elapsed": 944,
     "status": "ok",
     "timestamp": 1608102050968,
     "user": {
      "displayName": "Ayan Basak",
      "photoUrl": "",
      "userId": "03457614456337947866"
     },
     "user_tz": -330
    },
    "id": "rMKcEXaSh2L2"
   },
   "outputs": [],
   "source": [
    "ernie_val = pd.read_csv('../Intermediate ERNIE2.0/ERNIE/val_ernie2.0_results.csv')\n",
    "ernie_val = ernie_val.rename(columns={'Model4_class0': 'Model5_class0', 'Model4_class1': 'Model5_class1'})[[\"Model5_class0\", \"Model5_class1\", \"Label\"]]\n",
    "ernie_test = pd.read_csv('../Intermediate ERNIE2.0/ERNIE/test_ernie2.0_results.csv')\n",
    "ernie_test = ernie_test.rename(columns={'Model4_class0': 'Model5_class0', 'Model4_class1': 'Model5_class1'})[[\"Model5_class0\", \"Model5_class1\"]]\n"
   ]
  },
  {
   "cell_type": "code",
   "execution_count": 11,
   "metadata": {
    "colab": {
     "base_uri": "https://localhost:8080/",
     "height": 162
    },
    "executionInfo": {
     "elapsed": 1006,
     "status": "ok",
     "timestamp": 1608102053975,
     "user": {
      "displayName": "Ayan Basak",
      "photoUrl": "",
      "userId": "03457614456337947866"
     },
     "user_tz": -330
    },
    "id": "sRMiVfP7BecK",
    "outputId": "9c6008dd-1280-4604-8044-1c5257755abe"
   },
   "outputs": [
    {
     "data": {
      "text/html": [
       "<div>\n",
       "<style scoped>\n",
       "    .dataframe tbody tr th:only-of-type {\n",
       "        vertical-align: middle;\n",
       "    }\n",
       "\n",
       "    .dataframe tbody tr th {\n",
       "        vertical-align: top;\n",
       "    }\n",
       "\n",
       "    .dataframe thead th {\n",
       "        text-align: right;\n",
       "    }\n",
       "</style>\n",
       "<table border=\"1\" class=\"dataframe\">\n",
       "  <thead>\n",
       "    <tr style=\"text-align: right;\">\n",
       "      <th></th>\n",
       "      <th>id</th>\n",
       "      <th>model1_Class0</th>\n",
       "      <th>model1_Class1</th>\n",
       "      <th>model2_Class0</th>\n",
       "      <th>model2_Class1</th>\n",
       "      <th>model3_Class0</th>\n",
       "      <th>model3_Class1</th>\n",
       "      <th>model4_Class0</th>\n",
       "      <th>model4_Class1</th>\n",
       "    </tr>\n",
       "  </thead>\n",
       "  <tbody>\n",
       "    <tr>\n",
       "      <th>0</th>\n",
       "      <td>1</td>\n",
       "      <td>0.999851</td>\n",
       "      <td>0.000149</td>\n",
       "      <td>0.999063</td>\n",
       "      <td>0.000937</td>\n",
       "      <td>0.999967</td>\n",
       "      <td>0.000033</td>\n",
       "      <td>0.999963</td>\n",
       "      <td>0.000037</td>\n",
       "    </tr>\n",
       "    <tr>\n",
       "      <th>1</th>\n",
       "      <td>2</td>\n",
       "      <td>0.000422</td>\n",
       "      <td>0.999578</td>\n",
       "      <td>0.000902</td>\n",
       "      <td>0.999098</td>\n",
       "      <td>0.000045</td>\n",
       "      <td>0.999955</td>\n",
       "      <td>0.000112</td>\n",
       "      <td>0.999888</td>\n",
       "    </tr>\n",
       "    <tr>\n",
       "      <th>2</th>\n",
       "      <td>3</td>\n",
       "      <td>0.000401</td>\n",
       "      <td>0.999600</td>\n",
       "      <td>0.000954</td>\n",
       "      <td>0.999046</td>\n",
       "      <td>0.000033</td>\n",
       "      <td>0.999967</td>\n",
       "      <td>0.000170</td>\n",
       "      <td>0.999830</td>\n",
       "    </tr>\n",
       "  </tbody>\n",
       "</table>\n",
       "</div>"
      ],
      "text/plain": [
       "   id  model1_Class0  ...  model4_Class0  model4_Class1\n",
       "0   1       0.999851  ...       0.999963       0.000037\n",
       "1   2       0.000422  ...       0.000112       0.999888\n",
       "2   3       0.000401  ...       0.000170       0.999830\n",
       "\n",
       "[3 rows x 9 columns]"
      ]
     },
     "execution_count": 11,
     "metadata": {
      "tags": []
     },
     "output_type": "execute_result"
    }
   ],
   "source": [
    "test_boosting_df.head(3)"
   ]
  },
  {
   "cell_type": "code",
   "execution_count": null,
   "metadata": {
    "colab": {
     "base_uri": "https://localhost:8080/",
     "height": 224
    },
    "executionInfo": {
     "elapsed": 2057,
     "status": "ok",
     "timestamp": 1607581715294,
     "user": {
      "displayName": "Ayan Basak",
      "photoUrl": "",
      "userId": "03457614456337947866"
     },
     "user_tz": -330
    },
    "id": "NY4NQABoh2Pr",
    "outputId": "433308af-d2e5-4024-9ed6-c562bebbbef7"
   },
   "outputs": [
    {
     "data": {
      "text/html": [
       "<div>\n",
       "<style scoped>\n",
       "    .dataframe tbody tr th:only-of-type {\n",
       "        vertical-align: middle;\n",
       "    }\n",
       "\n",
       "    .dataframe tbody tr th {\n",
       "        vertical-align: top;\n",
       "    }\n",
       "\n",
       "    .dataframe thead th {\n",
       "        text-align: right;\n",
       "    }\n",
       "</style>\n",
       "<table border=\"1\" class=\"dataframe\">\n",
       "  <thead>\n",
       "    <tr style=\"text-align: right;\">\n",
       "      <th></th>\n",
       "      <th>id</th>\n",
       "      <th>model1_Class0</th>\n",
       "      <th>model1_Class1</th>\n",
       "      <th>model2_Class0</th>\n",
       "      <th>model2_Class1</th>\n",
       "      <th>model3_Class0</th>\n",
       "      <th>model3_Class1</th>\n",
       "      <th>model4_Class0</th>\n",
       "      <th>model4_Class1</th>\n",
       "      <th>Model5_class0</th>\n",
       "      <th>Model5_class1</th>\n",
       "      <th>Label</th>\n",
       "    </tr>\n",
       "  </thead>\n",
       "  <tbody>\n",
       "    <tr>\n",
       "      <th>0</th>\n",
       "      <td>1</td>\n",
       "      <td>0.001269</td>\n",
       "      <td>0.998731</td>\n",
       "      <td>0.000938</td>\n",
       "      <td>0.999062</td>\n",
       "      <td>0.000179</td>\n",
       "      <td>0.999821</td>\n",
       "      <td>0.028954</td>\n",
       "      <td>0.971046</td>\n",
       "      <td>0.000250</td>\n",
       "      <td>0.999750</td>\n",
       "      <td>1</td>\n",
       "    </tr>\n",
       "    <tr>\n",
       "      <th>1</th>\n",
       "      <td>2</td>\n",
       "      <td>0.991674</td>\n",
       "      <td>0.008326</td>\n",
       "      <td>0.000884</td>\n",
       "      <td>0.999116</td>\n",
       "      <td>0.010019</td>\n",
       "      <td>0.989981</td>\n",
       "      <td>0.002718</td>\n",
       "      <td>0.997282</td>\n",
       "      <td>0.005722</td>\n",
       "      <td>0.994278</td>\n",
       "      <td>1</td>\n",
       "    </tr>\n",
       "    <tr>\n",
       "      <th>2</th>\n",
       "      <td>3</td>\n",
       "      <td>0.000385</td>\n",
       "      <td>0.999615</td>\n",
       "      <td>0.000958</td>\n",
       "      <td>0.999042</td>\n",
       "      <td>0.000084</td>\n",
       "      <td>0.999916</td>\n",
       "      <td>0.000053</td>\n",
       "      <td>0.999947</td>\n",
       "      <td>0.000249</td>\n",
       "      <td>0.999751</td>\n",
       "      <td>1</td>\n",
       "    </tr>\n",
       "    <tr>\n",
       "      <th>3</th>\n",
       "      <td>4</td>\n",
       "      <td>0.000416</td>\n",
       "      <td>0.999584</td>\n",
       "      <td>0.000936</td>\n",
       "      <td>0.999065</td>\n",
       "      <td>0.000109</td>\n",
       "      <td>0.999891</td>\n",
       "      <td>0.001268</td>\n",
       "      <td>0.998732</td>\n",
       "      <td>0.000251</td>\n",
       "      <td>0.999749</td>\n",
       "      <td>1</td>\n",
       "    </tr>\n",
       "    <tr>\n",
       "      <th>4</th>\n",
       "      <td>5</td>\n",
       "      <td>0.999851</td>\n",
       "      <td>0.000149</td>\n",
       "      <td>0.999052</td>\n",
       "      <td>0.000948</td>\n",
       "      <td>0.999784</td>\n",
       "      <td>0.000216</td>\n",
       "      <td>0.999951</td>\n",
       "      <td>0.000049</td>\n",
       "      <td>0.999373</td>\n",
       "      <td>0.000627</td>\n",
       "      <td>0</td>\n",
       "    </tr>\n",
       "  </tbody>\n",
       "</table>\n",
       "</div>"
      ],
      "text/plain": [
       "   id  model1_Class0  model1_Class1  ...  Model5_class0  Model5_class1  Label\n",
       "0   1       0.001269       0.998731  ...       0.000250       0.999750      1\n",
       "1   2       0.991674       0.008326  ...       0.005722       0.994278      1\n",
       "2   3       0.000385       0.999615  ...       0.000249       0.999751      1\n",
       "3   4       0.000416       0.999584  ...       0.000251       0.999749      1\n",
       "4   5       0.999851       0.000149  ...       0.999373       0.000627      0\n",
       "\n",
       "[5 rows x 12 columns]"
      ]
     },
     "execution_count": 7,
     "metadata": {
      "tags": []
     },
     "output_type": "execute_result"
    }
   ],
   "source": [
    "val_labels = val_boosting_df['Label'].values\n",
    "val_boosting_df = pd.concat([val_boosting_df.iloc[:, :-1], ernie_val[[\"Model5_class0\", \"Model5_class1\"]]], 1)\n",
    "val_boosting_df[\"Label\"] = val_labels\n",
    "val_boosting_df.head()\n"
   ]
  },
  {
   "cell_type": "code",
   "execution_count": null,
   "metadata": {
    "colab": {
     "base_uri": "https://localhost:8080/",
     "height": 224
    },
    "executionInfo": {
     "elapsed": 2051,
     "status": "ok",
     "timestamp": 1607581715295,
     "user": {
      "displayName": "Ayan Basak",
      "photoUrl": "",
      "userId": "03457614456337947866"
     },
     "user_tz": -330
    },
    "id": "kpWq53rADpFo",
    "outputId": "af46227c-86e1-49c9-8fec-65b4f9fb941c"
   },
   "outputs": [
    {
     "data": {
      "text/html": [
       "<div>\n",
       "<style scoped>\n",
       "    .dataframe tbody tr th:only-of-type {\n",
       "        vertical-align: middle;\n",
       "    }\n",
       "\n",
       "    .dataframe tbody tr th {\n",
       "        vertical-align: top;\n",
       "    }\n",
       "\n",
       "    .dataframe thead th {\n",
       "        text-align: right;\n",
       "    }\n",
       "</style>\n",
       "<table border=\"1\" class=\"dataframe\">\n",
       "  <thead>\n",
       "    <tr style=\"text-align: right;\">\n",
       "      <th></th>\n",
       "      <th>id</th>\n",
       "      <th>model1_Class0</th>\n",
       "      <th>model1_Class1</th>\n",
       "      <th>model2_Class0</th>\n",
       "      <th>model2_Class1</th>\n",
       "      <th>model3_Class0</th>\n",
       "      <th>model3_Class1</th>\n",
       "      <th>model4_Class0</th>\n",
       "      <th>model4_Class1</th>\n",
       "      <th>Model5_class0</th>\n",
       "      <th>Model5_class1</th>\n",
       "    </tr>\n",
       "  </thead>\n",
       "  <tbody>\n",
       "    <tr>\n",
       "      <th>0</th>\n",
       "      <td>1</td>\n",
       "      <td>0.999851</td>\n",
       "      <td>0.000149</td>\n",
       "      <td>0.999063</td>\n",
       "      <td>0.000937</td>\n",
       "      <td>0.999967</td>\n",
       "      <td>0.000033</td>\n",
       "      <td>0.999963</td>\n",
       "      <td>0.000037</td>\n",
       "      <td>0.999371</td>\n",
       "      <td>0.000629</td>\n",
       "    </tr>\n",
       "    <tr>\n",
       "      <th>1</th>\n",
       "      <td>2</td>\n",
       "      <td>0.000422</td>\n",
       "      <td>0.999578</td>\n",
       "      <td>0.000902</td>\n",
       "      <td>0.999098</td>\n",
       "      <td>0.000045</td>\n",
       "      <td>0.999955</td>\n",
       "      <td>0.000112</td>\n",
       "      <td>0.999888</td>\n",
       "      <td>0.000257</td>\n",
       "      <td>0.999743</td>\n",
       "    </tr>\n",
       "    <tr>\n",
       "      <th>2</th>\n",
       "      <td>3</td>\n",
       "      <td>0.000401</td>\n",
       "      <td>0.999600</td>\n",
       "      <td>0.000954</td>\n",
       "      <td>0.999046</td>\n",
       "      <td>0.000033</td>\n",
       "      <td>0.999967</td>\n",
       "      <td>0.000170</td>\n",
       "      <td>0.999830</td>\n",
       "      <td>0.000247</td>\n",
       "      <td>0.999753</td>\n",
       "    </tr>\n",
       "    <tr>\n",
       "      <th>3</th>\n",
       "      <td>4</td>\n",
       "      <td>0.999858</td>\n",
       "      <td>0.000142</td>\n",
       "      <td>0.999082</td>\n",
       "      <td>0.000918</td>\n",
       "      <td>0.999967</td>\n",
       "      <td>0.000033</td>\n",
       "      <td>0.999956</td>\n",
       "      <td>0.000044</td>\n",
       "      <td>0.999376</td>\n",
       "      <td>0.000624</td>\n",
       "    </tr>\n",
       "    <tr>\n",
       "      <th>4</th>\n",
       "      <td>5</td>\n",
       "      <td>0.999852</td>\n",
       "      <td>0.000148</td>\n",
       "      <td>0.999076</td>\n",
       "      <td>0.000924</td>\n",
       "      <td>0.999953</td>\n",
       "      <td>0.000047</td>\n",
       "      <td>0.999912</td>\n",
       "      <td>0.000088</td>\n",
       "      <td>0.994812</td>\n",
       "      <td>0.005188</td>\n",
       "    </tr>\n",
       "  </tbody>\n",
       "</table>\n",
       "</div>"
      ],
      "text/plain": [
       "   id  model1_Class0  ...  Model5_class0  Model5_class1\n",
       "0   1       0.999851  ...       0.999371       0.000629\n",
       "1   2       0.000422  ...       0.000257       0.999743\n",
       "2   3       0.000401  ...       0.000247       0.999753\n",
       "3   4       0.999858  ...       0.999376       0.000624\n",
       "4   5       0.999852  ...       0.994812       0.005188\n",
       "\n",
       "[5 rows x 11 columns]"
      ]
     },
     "execution_count": 8,
     "metadata": {
      "tags": []
     },
     "output_type": "execute_result"
    }
   ],
   "source": [
    "test_boosting_df = pd.concat([test_boosting_df, ernie_test[[\"Model5_class0\", \"Model5_class1\"]]], 1)\n",
    "test_boosting_df.head()"
   ]
  },
  {
   "cell_type": "code",
   "execution_count": null,
   "metadata": {
    "colab": {
     "base_uri": "https://localhost:8080/"
    },
    "executionInfo": {
     "elapsed": 2045,
     "status": "ok",
     "timestamp": 1607581715295,
     "user": {
      "displayName": "Ayan Basak",
      "photoUrl": "",
      "userId": "03457614456337947866"
     },
     "user_tz": -330
    },
    "id": "eFmvl4lqL9pZ",
    "outputId": "a13ba529-b06a-4210-a93b-89f8dac79dd9"
   },
   "outputs": [
    {
     "data": {
      "text/plain": [
       "((2140, 3), (2140, 2))"
      ]
     },
     "execution_count": 9,
     "metadata": {
      "tags": []
     },
     "output_type": "execute_result"
    }
   ],
   "source": [
    "ernie_val.shape, ernie_test.shape"
   ]
  },
  {
   "cell_type": "code",
   "execution_count": null,
   "metadata": {
    "colab": {
     "base_uri": "https://localhost:8080/"
    },
    "executionInfo": {
     "elapsed": 2038,
     "status": "ok",
     "timestamp": 1607581715295,
     "user": {
      "displayName": "Ayan Basak",
      "photoUrl": "",
      "userId": "03457614456337947866"
     },
     "user_tz": -330
    },
    "id": "VVjWrHVeL9sV",
    "outputId": "8a1ddc30-c135-424c-c50d-b7252a01516c"
   },
   "outputs": [
    {
     "data": {
      "text/plain": [
       "(2140, 11)"
      ]
     },
     "execution_count": 10,
     "metadata": {
      "tags": []
     },
     "output_type": "execute_result"
    }
   ],
   "source": [
    "test_boosting_df.shape"
   ]
  },
  {
   "cell_type": "code",
   "execution_count": null,
   "metadata": {
    "colab": {
     "base_uri": "https://localhost:8080/",
     "height": 224
    },
    "executionInfo": {
     "elapsed": 2030,
     "status": "ok",
     "timestamp": 1607581715296,
     "user": {
      "displayName": "Ayan Basak",
      "photoUrl": "",
      "userId": "03457614456337947866"
     },
     "user_tz": -330
    },
    "id": "IJkXwyPVDaNA",
    "outputId": "8616d00b-a853-4662-c288-6e656a36b539"
   },
   "outputs": [
    {
     "data": {
      "text/html": [
       "<div>\n",
       "<style scoped>\n",
       "    .dataframe tbody tr th:only-of-type {\n",
       "        vertical-align: middle;\n",
       "    }\n",
       "\n",
       "    .dataframe tbody tr th {\n",
       "        vertical-align: top;\n",
       "    }\n",
       "\n",
       "    .dataframe thead th {\n",
       "        text-align: right;\n",
       "    }\n",
       "</style>\n",
       "<table border=\"1\" class=\"dataframe\">\n",
       "  <thead>\n",
       "    <tr style=\"text-align: right;\">\n",
       "      <th></th>\n",
       "      <th>id</th>\n",
       "      <th>model1_Class0</th>\n",
       "      <th>model1_Class1</th>\n",
       "      <th>model2_Class0</th>\n",
       "      <th>model2_Class1</th>\n",
       "      <th>model3_Class0</th>\n",
       "      <th>model3_Class1</th>\n",
       "      <th>model4_Class0</th>\n",
       "      <th>model4_Class1</th>\n",
       "      <th>Model5_class0</th>\n",
       "      <th>Model5_class1</th>\n",
       "    </tr>\n",
       "  </thead>\n",
       "  <tbody>\n",
       "    <tr>\n",
       "      <th>0</th>\n",
       "      <td>1</td>\n",
       "      <td>0.999851</td>\n",
       "      <td>0.000149</td>\n",
       "      <td>0.999063</td>\n",
       "      <td>0.000937</td>\n",
       "      <td>0.999967</td>\n",
       "      <td>0.000033</td>\n",
       "      <td>0.999963</td>\n",
       "      <td>0.000037</td>\n",
       "      <td>0.999371</td>\n",
       "      <td>0.000629</td>\n",
       "    </tr>\n",
       "    <tr>\n",
       "      <th>1</th>\n",
       "      <td>2</td>\n",
       "      <td>0.000422</td>\n",
       "      <td>0.999578</td>\n",
       "      <td>0.000902</td>\n",
       "      <td>0.999098</td>\n",
       "      <td>0.000045</td>\n",
       "      <td>0.999955</td>\n",
       "      <td>0.000112</td>\n",
       "      <td>0.999888</td>\n",
       "      <td>0.000257</td>\n",
       "      <td>0.999743</td>\n",
       "    </tr>\n",
       "    <tr>\n",
       "      <th>2</th>\n",
       "      <td>3</td>\n",
       "      <td>0.000401</td>\n",
       "      <td>0.999600</td>\n",
       "      <td>0.000954</td>\n",
       "      <td>0.999046</td>\n",
       "      <td>0.000033</td>\n",
       "      <td>0.999967</td>\n",
       "      <td>0.000170</td>\n",
       "      <td>0.999830</td>\n",
       "      <td>0.000247</td>\n",
       "      <td>0.999753</td>\n",
       "    </tr>\n",
       "    <tr>\n",
       "      <th>3</th>\n",
       "      <td>4</td>\n",
       "      <td>0.999858</td>\n",
       "      <td>0.000142</td>\n",
       "      <td>0.999082</td>\n",
       "      <td>0.000918</td>\n",
       "      <td>0.999967</td>\n",
       "      <td>0.000033</td>\n",
       "      <td>0.999956</td>\n",
       "      <td>0.000044</td>\n",
       "      <td>0.999376</td>\n",
       "      <td>0.000624</td>\n",
       "    </tr>\n",
       "    <tr>\n",
       "      <th>4</th>\n",
       "      <td>5</td>\n",
       "      <td>0.999852</td>\n",
       "      <td>0.000148</td>\n",
       "      <td>0.999076</td>\n",
       "      <td>0.000924</td>\n",
       "      <td>0.999953</td>\n",
       "      <td>0.000047</td>\n",
       "      <td>0.999912</td>\n",
       "      <td>0.000088</td>\n",
       "      <td>0.994812</td>\n",
       "      <td>0.005188</td>\n",
       "    </tr>\n",
       "  </tbody>\n",
       "</table>\n",
       "</div>"
      ],
      "text/plain": [
       "   id  model1_Class0  ...  Model5_class0  Model5_class1\n",
       "0   1       0.999851  ...       0.999371       0.000629\n",
       "1   2       0.000422  ...       0.000257       0.999743\n",
       "2   3       0.000401  ...       0.000247       0.999753\n",
       "3   4       0.999858  ...       0.999376       0.000624\n",
       "4   5       0.999852  ...       0.994812       0.005188\n",
       "\n",
       "[5 rows x 11 columns]"
      ]
     },
     "execution_count": 11,
     "metadata": {
      "tags": []
     },
     "output_type": "execute_result"
    }
   ],
   "source": [
    "test_boosting_df.head()"
   ]
  },
  {
   "cell_type": "code",
   "execution_count": 6,
   "metadata": {
    "executionInfo": {
     "elapsed": 1051,
     "status": "ok",
     "timestamp": 1608102769929,
     "user": {
      "displayName": "Ayan Basak",
      "photoUrl": "",
      "userId": "03457614456337947866"
     },
     "user_tz": -330
    },
    "id": "tgGHahB4Osu0"
   },
   "outputs": [],
   "source": [
    "def soft_voting(row):\n",
    "  # class0_val = (row['model1_Class0'] + row['model2_Class0'] + row['model3_Class0'] + row['model4_Class0'] + row['Model5_class0'])/5\n",
    "  # class1_val = (row['model1_Class1'] + row['model2_Class1'] + row['model3_Class1'] + row['model4_Class1'] + row['Model5_class1'])/5\n",
    "  class0_val = (row['model1_Class0'] + row['model2_Class0'] + row['model3_Class0'] + row['model4_Class0'])/4\n",
    "  class1_val = (row['model1_Class1'] + row['model2_Class1'] + row['model3_Class1'] + row['model4_Class1'])/4\n",
    "  return 0 if class0_val > class1_val else 1\n",
    "\n",
    "train_boosting_df['Soft_Vote'] = train_boosting_df.apply(lambda x: soft_voting(x), 1)\n",
    "val_boosting_df['Soft_Vote'] = val_boosting_df.apply(lambda x: soft_voting(x), 1)\n",
    "test_boosting_df['Soft_Vote'] = test_boosting_df.apply(lambda x: soft_voting(x), 1)\n"
   ]
  },
  {
   "cell_type": "code",
   "execution_count": 7,
   "metadata": {
    "colab": {
     "base_uri": "https://localhost:8080/",
     "height": 131
    },
    "executionInfo": {
     "elapsed": 1042,
     "status": "ok",
     "timestamp": 1608102772290,
     "user": {
      "displayName": "Ayan Basak",
      "photoUrl": "",
      "userId": "03457614456337947866"
     },
     "user_tz": -330
    },
    "id": "J-bBbazXtbmu",
    "outputId": "5d50af7c-7ec4-42c3-9849-9c5ace7071cb"
   },
   "outputs": [
    {
     "data": {
      "text/html": [
       "<div>\n",
       "<style scoped>\n",
       "    .dataframe tbody tr th:only-of-type {\n",
       "        vertical-align: middle;\n",
       "    }\n",
       "\n",
       "    .dataframe tbody tr th {\n",
       "        vertical-align: top;\n",
       "    }\n",
       "\n",
       "    .dataframe thead th {\n",
       "        text-align: right;\n",
       "    }\n",
       "</style>\n",
       "<table border=\"1\" class=\"dataframe\">\n",
       "  <thead>\n",
       "    <tr style=\"text-align: right;\">\n",
       "      <th></th>\n",
       "      <th>id</th>\n",
       "      <th>model1_Class0</th>\n",
       "      <th>model1_Class1</th>\n",
       "      <th>model2_Class0</th>\n",
       "      <th>model2_Class1</th>\n",
       "      <th>model3_Class0</th>\n",
       "      <th>model3_Class1</th>\n",
       "      <th>model4_Class0</th>\n",
       "      <th>model4_Class1</th>\n",
       "      <th>Soft_Vote</th>\n",
       "    </tr>\n",
       "  </thead>\n",
       "  <tbody>\n",
       "    <tr>\n",
       "      <th>0</th>\n",
       "      <td>1</td>\n",
       "      <td>0.999851</td>\n",
       "      <td>0.000149</td>\n",
       "      <td>0.999063</td>\n",
       "      <td>0.000937</td>\n",
       "      <td>0.999967</td>\n",
       "      <td>0.000033</td>\n",
       "      <td>0.999963</td>\n",
       "      <td>0.000037</td>\n",
       "      <td>0</td>\n",
       "    </tr>\n",
       "    <tr>\n",
       "      <th>1</th>\n",
       "      <td>2</td>\n",
       "      <td>0.000422</td>\n",
       "      <td>0.999578</td>\n",
       "      <td>0.000902</td>\n",
       "      <td>0.999098</td>\n",
       "      <td>0.000045</td>\n",
       "      <td>0.999955</td>\n",
       "      <td>0.000112</td>\n",
       "      <td>0.999888</td>\n",
       "      <td>1</td>\n",
       "    </tr>\n",
       "  </tbody>\n",
       "</table>\n",
       "</div>"
      ],
      "text/plain": [
       "   id  model1_Class0  model1_Class1  ...  model4_Class0  model4_Class1  Soft_Vote\n",
       "0   1       0.999851       0.000149  ...       0.999963       0.000037          0\n",
       "1   2       0.000422       0.999578  ...       0.000112       0.999888          1\n",
       "\n",
       "[2 rows x 10 columns]"
      ]
     },
     "execution_count": 7,
     "metadata": {
      "tags": []
     },
     "output_type": "execute_result"
    }
   ],
   "source": [
    "test_boosting_df.head(2)"
   ]
  },
  {
   "cell_type": "code",
   "execution_count": 8,
   "metadata": {
    "executionInfo": {
     "elapsed": 1525,
     "status": "ok",
     "timestamp": 1608102787753,
     "user": {
      "displayName": "Ayan Basak",
      "photoUrl": "",
      "userId": "03457614456337947866"
     },
     "user_tz": -330
    },
    "id": "w1LsKTQAOsxR"
   },
   "outputs": [],
   "source": [
    "def hard_voting(row):\n",
    "  a = np.argmax(np.array([[row['model1_Class0'], row['model1_Class1']]]), 1)[0]\n",
    "  b = np.argmax(np.array([[row['model2_Class0'], row['model2_Class1']]]), 1)[0]\n",
    "  c = np.argmax(np.array([[row['model3_Class0'], row['model3_Class1']]]), 1)[0]\n",
    "  d = np.argmax(np.array([[row['model4_Class0'], row['model4_Class1']]]), 1)[0]\n",
    "  # e = np.argmax(np.array([[row['Model5_class0'], row['Model5_class1']]]), 1)[0]\n",
    "\n",
    "  # cnt_0 = 0\n",
    "  # for i in [a,b,c,d,e]:\n",
    "  #   if i==0:\n",
    "  #     cnt_0+=1\n",
    "  \n",
    "  # if cnt_0>=3:\n",
    "  #   return 0\n",
    "  # else:\n",
    "  #   return 1\n",
    "  cnt_0 = 0\n",
    "  for i in [a,b,c,d]:\n",
    "    if i==0:\n",
    "      cnt_0+=1\n",
    "  \n",
    "  if cnt_0==2:\n",
    "    class0_val = (row['model1_Class0'] + row['model2_Class0'] + row['model3_Class0'] + row['model4_Class0'])/4\n",
    "    class1_val = (row['model1_Class1'] + row['model2_Class1'] + row['model3_Class1'] + row['model4_Class1'])/4\n",
    "    return 0 if class0_val > class1_val else 1\n",
    "  elif cnt_0>2:\n",
    "    return 0\n",
    "  else:\n",
    "    return 1\n",
    "\n",
    "train_boosting_df['Hard_Vote'] = train_boosting_df.apply(lambda x: hard_voting(x), 1)\n",
    "val_boosting_df['Hard_Vote'] = val_boosting_df.apply(lambda x: hard_voting(x), 1)\n",
    "test_boosting_df['Hard_Vote'] = test_boosting_df.apply(lambda x: hard_voting(x), 1)\n"
   ]
  },
  {
   "cell_type": "code",
   "execution_count": null,
   "metadata": {
    "id": "lWAvtYzaClJI"
   },
   "outputs": [],
   "source": [
    "# def hard_voting(row):\n",
    "#   a = np.argmax(np.array([[row['model1_Class0'], row['model1_Class1']]]), 1)[0]\n",
    "#   b = np.argmax(np.array([[row['model2_Class0'], row['model2_Class1']]]), 1)[0]\n",
    "#   c = np.argmax(np.array([[row['model3_Class0'], row['model3_Class1']]]), 1)[0]\n",
    "#   d = np.argmax(np.array([[row['model4_Class0'], row['model4_Class1']]]), 1)[0]\n",
    "\n",
    "#   cnt_0 = 0\n",
    "#   for i in [a,b,c,d]:\n",
    "#     if i==0:\n",
    "#       cnt_0+=1\n",
    "  \n",
    "#   if cnt_0>2:\n",
    "#     return 0\n",
    "#   elif cnt_0==2:\n",
    "#     class0_val = (row['model1_Class0'] + row['model2_Class0'] + row['model3_Class0'] + row['model4_Class0'])/4\n",
    "#     class1_val = (row['model1_Class1'] + row['model2_Class1'] + row['model3_Class1'] + row['model4_Class1'])/4\n",
    "#     return 0 if class0_val > class1_val else 1                                                                                                              \n",
    "#   else:\n",
    "#     return 1\n",
    "\n",
    "# val_boosting_df['Hard_Vote'] = val_boosting_df.apply(lambda x: hard_voting(x), 1)\n",
    "# test_boosting_df['Hard_Vote'] = test_boosting_df.apply(lambda x: hard_voting(x), 1)\n"
   ]
  },
  {
   "cell_type": "code",
   "execution_count": 9,
   "metadata": {
    "executionInfo": {
     "elapsed": 1157,
     "status": "ok",
     "timestamp": 1608102845093,
     "user": {
      "displayName": "Ayan Basak",
      "photoUrl": "",
      "userId": "03457614456337947866"
     },
     "user_tz": -330
    },
    "id": "SJf3_4gCuMwL"
   },
   "outputs": [],
   "source": [
    "def label_id_to_label(row, col):\n",
    "  return 'real' if row[col]==0 else 'fake'\n",
    "\n",
    "train_boosting_df['label'] = train_boosting_df.apply(lambda x: label_id_to_label(x, 'Soft_Vote'), 1)\n",
    "val_boosting_df['label'] = val_boosting_df.apply(lambda x: label_id_to_label(x, 'Soft_Vote'), 1)\n",
    "test_boosting_df['label'] = test_boosting_df.apply(lambda x: label_id_to_label(x, 'Soft_Vote'), 1)\n"
   ]
  },
  {
   "cell_type": "code",
   "execution_count": 18,
   "metadata": {
    "colab": {
     "base_uri": "https://localhost:8080/",
     "height": 204
    },
    "executionInfo": {
     "elapsed": 1095,
     "status": "ok",
     "timestamp": 1608103295865,
     "user": {
      "displayName": "Ayan Basak",
      "photoUrl": "",
      "userId": "03457614456337947866"
     },
     "user_tz": -330
    },
    "id": "wo8p7cMkOs-z",
    "outputId": "5a70802e-a666-4919-80e8-2bc53171d28f"
   },
   "outputs": [
    {
     "data": {
      "text/html": [
       "<div>\n",
       "<style scoped>\n",
       "    .dataframe tbody tr th:only-of-type {\n",
       "        vertical-align: middle;\n",
       "    }\n",
       "\n",
       "    .dataframe tbody tr th {\n",
       "        vertical-align: top;\n",
       "    }\n",
       "\n",
       "    .dataframe thead th {\n",
       "        text-align: right;\n",
       "    }\n",
       "</style>\n",
       "<table border=\"1\" class=\"dataframe\">\n",
       "  <thead>\n",
       "    <tr style=\"text-align: right;\">\n",
       "      <th></th>\n",
       "      <th>id</th>\n",
       "      <th>label</th>\n",
       "    </tr>\n",
       "  </thead>\n",
       "  <tbody>\n",
       "    <tr>\n",
       "      <th>0</th>\n",
       "      <td>1</td>\n",
       "      <td>real</td>\n",
       "    </tr>\n",
       "    <tr>\n",
       "      <th>1</th>\n",
       "      <td>2</td>\n",
       "      <td>fake</td>\n",
       "    </tr>\n",
       "    <tr>\n",
       "      <th>2</th>\n",
       "      <td>3</td>\n",
       "      <td>fake</td>\n",
       "    </tr>\n",
       "    <tr>\n",
       "      <th>3</th>\n",
       "      <td>4</td>\n",
       "      <td>real</td>\n",
       "    </tr>\n",
       "    <tr>\n",
       "      <th>4</th>\n",
       "      <td>5</td>\n",
       "      <td>real</td>\n",
       "    </tr>\n",
       "  </tbody>\n",
       "</table>\n",
       "</div>"
      ],
      "text/plain": [
       "   id label\n",
       "0   1  real\n",
       "1   2  fake\n",
       "2   3  fake\n",
       "3   4  real\n",
       "4   5  real"
      ]
     },
     "execution_count": 18,
     "metadata": {
      "tags": []
     },
     "output_type": "execute_result"
    }
   ],
   "source": [
    "test_boosting_df = test_boosting_df[[\"id\", \"label\"]]\n",
    "test_boosting_df.head()"
   ]
  },
  {
   "cell_type": "code",
   "execution_count": null,
   "metadata": {
    "id": "4t3qXe63tPKS"
   },
   "outputs": [],
   "source": [
    "# test_df.to_csv('/content/drive/MyDrive/Constraint/Submission_v3.csv', index=False)"
   ]
  },
  {
   "cell_type": "code",
   "execution_count": null,
   "metadata": {
    "id": "LQ6kC8lbtPMa"
   },
   "outputs": [],
   "source": []
  },
  {
   "cell_type": "code",
   "execution_count": null,
   "metadata": {
    "colab": {
     "base_uri": "https://localhost:8080/"
    },
    "executionInfo": {
     "elapsed": 2459,
     "status": "ok",
     "timestamp": 1607581715777,
     "user": {
      "displayName": "Ayan Basak",
      "photoUrl": "",
      "userId": "03457614456337947866"
     },
     "user_tz": -330
    },
    "id": "UNW53W296GnX",
    "outputId": "1de14083-e439-47f5-d426-a82846203068"
   },
   "outputs": [
    {
     "data": {
      "text/plain": [
       "array([[1109,   11],\n",
       "       [  26,  994]])"
      ]
     },
     "execution_count": 20,
     "metadata": {
      "tags": []
     },
     "output_type": "execute_result"
    }
   ],
   "source": [
    "confusion_matrix(val_boosting_df['Label'].values, val_boosting_df['Soft_Vote'].values)"
   ]
  },
  {
   "cell_type": "code",
   "execution_count": null,
   "metadata": {
    "colab": {
     "base_uri": "https://localhost:8080/"
    },
    "executionInfo": {
     "elapsed": 2454,
     "status": "ok",
     "timestamp": 1607581715778,
     "user": {
      "displayName": "Ayan Basak",
      "photoUrl": "",
      "userId": "03457614456337947866"
     },
     "user_tz": -330
    },
    "id": "5GPxA-B46GqN",
    "outputId": "ef4727f3-e2c2-4f03-c52a-a1be9f3a359e"
   },
   "outputs": [
    {
     "data": {
      "text/plain": [
       "0.9827102803738318"
      ]
     },
     "execution_count": 21,
     "metadata": {
      "tags": []
     },
     "output_type": "execute_result"
    }
   ],
   "source": [
    "accuracy_score(val_boosting_df['Label'].values, val_boosting_df['Soft_Vote'].values)"
   ]
  },
  {
   "cell_type": "code",
   "execution_count": null,
   "metadata": {
    "colab": {
     "base_uri": "https://localhost:8080/"
    },
    "executionInfo": {
     "elapsed": 2447,
     "status": "ok",
     "timestamp": 1607581715778,
     "user": {
      "displayName": "Ayan Basak",
      "photoUrl": "",
      "userId": "03457614456337947866"
     },
     "user_tz": -330
    },
    "id": "2dR0hAcD7gUs",
    "outputId": "d1e0776c-b780-4ff6-fba7-67b277196f62"
   },
   "outputs": [
    {
     "data": {
      "text/plain": [
       "array([[1111,    9],\n",
       "       [  27,  993]])"
      ]
     },
     "execution_count": 22,
     "metadata": {
      "tags": []
     },
     "output_type": "execute_result"
    }
   ],
   "source": [
    "confusion_matrix(val_boosting_df['Label'].values, val_boosting_df['Hard_Vote'].values)"
   ]
  },
  {
   "cell_type": "code",
   "execution_count": null,
   "metadata": {
    "colab": {
     "base_uri": "https://localhost:8080/"
    },
    "executionInfo": {
     "elapsed": 2441,
     "status": "ok",
     "timestamp": 1607581715779,
     "user": {
      "displayName": "Ayan Basak",
      "photoUrl": "",
      "userId": "03457614456337947866"
     },
     "user_tz": -330
    },
    "id": "vNx590yk7gXH",
    "outputId": "4c8d5303-c07f-47d1-cc8a-5e0af6ed851e"
   },
   "outputs": [
    {
     "data": {
      "text/plain": [
       "0.983177570093458"
      ]
     },
     "execution_count": 23,
     "metadata": {
      "tags": []
     },
     "output_type": "execute_result"
    }
   ],
   "source": [
    "accuracy_score(val_boosting_df['Label'].values, val_boosting_df['Hard_Vote'].values)"
   ]
  },
  {
   "cell_type": "code",
   "execution_count": null,
   "metadata": {
    "colab": {
     "base_uri": "https://localhost:8080/"
    },
    "executionInfo": {
     "elapsed": 2432,
     "status": "ok",
     "timestamp": 1607581715779,
     "user": {
      "displayName": "Ayan Basak",
      "photoUrl": "",
      "userId": "03457614456337947866"
     },
     "user_tz": -330
    },
    "id": "id4OznUaRu0Y",
    "outputId": "c48f06b0-b93b-484f-94e5-04013a09ad33"
   },
   "outputs": [
    {
     "data": {
      "text/plain": [
       "0.9817283950617283"
      ]
     },
     "execution_count": 24,
     "metadata": {
      "tags": []
     },
     "output_type": "execute_result"
    }
   ],
   "source": [
    "f1_score(val_boosting_df['Label'].values, val_boosting_df['Soft_Vote'].values)"
   ]
  },
  {
   "cell_type": "code",
   "execution_count": null,
   "metadata": {
    "id": "amvtfH2URu2o"
   },
   "outputs": [],
   "source": [
    "def get_label(row):\n",
    "  return 'real' if row[\"Label\"]==0 else 'fake'\n",
    "\n",
    "val_boosting_df[\"Actual_Label\"] = val_boosting_df.apply(lambda x: get_label(x), 1)"
   ]
  },
  {
   "cell_type": "code",
   "execution_count": null,
   "metadata": {
    "colab": {
     "base_uri": "https://localhost:8080/",
     "height": 224
    },
    "executionInfo": {
     "elapsed": 3193,
     "status": "ok",
     "timestamp": 1607581716552,
     "user": {
      "displayName": "Ayan Basak",
      "photoUrl": "",
      "userId": "03457614456337947866"
     },
     "user_tz": -330
    },
    "id": "9DOJ3klWUd29",
    "outputId": "19ee56f4-1ebb-4c1f-a686-b9803e23596d"
   },
   "outputs": [
    {
     "data": {
      "text/html": [
       "<div>\n",
       "<style scoped>\n",
       "    .dataframe tbody tr th:only-of-type {\n",
       "        vertical-align: middle;\n",
       "    }\n",
       "\n",
       "    .dataframe tbody tr th {\n",
       "        vertical-align: top;\n",
       "    }\n",
       "\n",
       "    .dataframe thead th {\n",
       "        text-align: right;\n",
       "    }\n",
       "</style>\n",
       "<table border=\"1\" class=\"dataframe\">\n",
       "  <thead>\n",
       "    <tr style=\"text-align: right;\">\n",
       "      <th></th>\n",
       "      <th>id</th>\n",
       "      <th>model1_Class0</th>\n",
       "      <th>model1_Class1</th>\n",
       "      <th>model2_Class0</th>\n",
       "      <th>model2_Class1</th>\n",
       "      <th>model3_Class0</th>\n",
       "      <th>model3_Class1</th>\n",
       "      <th>model4_Class0</th>\n",
       "      <th>model4_Class1</th>\n",
       "      <th>Model5_class0</th>\n",
       "      <th>Model5_class1</th>\n",
       "      <th>Label</th>\n",
       "      <th>Soft_Vote</th>\n",
       "      <th>Hard_Vote</th>\n",
       "      <th>label</th>\n",
       "      <th>Actual_Label</th>\n",
       "    </tr>\n",
       "  </thead>\n",
       "  <tbody>\n",
       "    <tr>\n",
       "      <th>0</th>\n",
       "      <td>1</td>\n",
       "      <td>0.001269</td>\n",
       "      <td>0.998731</td>\n",
       "      <td>0.000938</td>\n",
       "      <td>0.999062</td>\n",
       "      <td>0.000179</td>\n",
       "      <td>0.999821</td>\n",
       "      <td>0.028954</td>\n",
       "      <td>0.971046</td>\n",
       "      <td>0.000250</td>\n",
       "      <td>0.999750</td>\n",
       "      <td>1</td>\n",
       "      <td>1</td>\n",
       "      <td>1</td>\n",
       "      <td>fake</td>\n",
       "      <td>fake</td>\n",
       "    </tr>\n",
       "    <tr>\n",
       "      <th>1</th>\n",
       "      <td>2</td>\n",
       "      <td>0.991674</td>\n",
       "      <td>0.008326</td>\n",
       "      <td>0.000884</td>\n",
       "      <td>0.999116</td>\n",
       "      <td>0.010019</td>\n",
       "      <td>0.989981</td>\n",
       "      <td>0.002718</td>\n",
       "      <td>0.997282</td>\n",
       "      <td>0.005722</td>\n",
       "      <td>0.994278</td>\n",
       "      <td>1</td>\n",
       "      <td>1</td>\n",
       "      <td>1</td>\n",
       "      <td>fake</td>\n",
       "      <td>fake</td>\n",
       "    </tr>\n",
       "    <tr>\n",
       "      <th>2</th>\n",
       "      <td>3</td>\n",
       "      <td>0.000385</td>\n",
       "      <td>0.999615</td>\n",
       "      <td>0.000958</td>\n",
       "      <td>0.999042</td>\n",
       "      <td>0.000084</td>\n",
       "      <td>0.999916</td>\n",
       "      <td>0.000053</td>\n",
       "      <td>0.999947</td>\n",
       "      <td>0.000249</td>\n",
       "      <td>0.999751</td>\n",
       "      <td>1</td>\n",
       "      <td>1</td>\n",
       "      <td>1</td>\n",
       "      <td>fake</td>\n",
       "      <td>fake</td>\n",
       "    </tr>\n",
       "    <tr>\n",
       "      <th>3</th>\n",
       "      <td>4</td>\n",
       "      <td>0.000416</td>\n",
       "      <td>0.999584</td>\n",
       "      <td>0.000936</td>\n",
       "      <td>0.999065</td>\n",
       "      <td>0.000109</td>\n",
       "      <td>0.999891</td>\n",
       "      <td>0.001268</td>\n",
       "      <td>0.998732</td>\n",
       "      <td>0.000251</td>\n",
       "      <td>0.999749</td>\n",
       "      <td>1</td>\n",
       "      <td>1</td>\n",
       "      <td>1</td>\n",
       "      <td>fake</td>\n",
       "      <td>fake</td>\n",
       "    </tr>\n",
       "    <tr>\n",
       "      <th>4</th>\n",
       "      <td>5</td>\n",
       "      <td>0.999851</td>\n",
       "      <td>0.000149</td>\n",
       "      <td>0.999052</td>\n",
       "      <td>0.000948</td>\n",
       "      <td>0.999784</td>\n",
       "      <td>0.000216</td>\n",
       "      <td>0.999951</td>\n",
       "      <td>0.000049</td>\n",
       "      <td>0.999373</td>\n",
       "      <td>0.000627</td>\n",
       "      <td>0</td>\n",
       "      <td>0</td>\n",
       "      <td>0</td>\n",
       "      <td>real</td>\n",
       "      <td>real</td>\n",
       "    </tr>\n",
       "  </tbody>\n",
       "</table>\n",
       "</div>"
      ],
      "text/plain": [
       "   id  model1_Class0  model1_Class1  ...  Hard_Vote  label  Actual_Label\n",
       "0   1       0.001269       0.998731  ...          1   fake          fake\n",
       "1   2       0.991674       0.008326  ...          1   fake          fake\n",
       "2   3       0.000385       0.999615  ...          1   fake          fake\n",
       "3   4       0.000416       0.999584  ...          1   fake          fake\n",
       "4   5       0.999851       0.000149  ...          0   real          real\n",
       "\n",
       "[5 rows x 16 columns]"
      ]
     },
     "execution_count": 26,
     "metadata": {
      "tags": []
     },
     "output_type": "execute_result"
    }
   ],
   "source": [
    "val_boosting_df.head()"
   ]
  },
  {
   "cell_type": "code",
   "execution_count": 14,
   "metadata": {
    "colab": {
     "base_uri": "https://localhost:8080/",
     "height": 204
    },
    "executionInfo": {
     "elapsed": 801,
     "status": "ok",
     "timestamp": 1608103024864,
     "user": {
      "displayName": "Ayan Basak",
      "photoUrl": "",
      "userId": "03457614456337947866"
     },
     "user_tz": -330
    },
    "id": "7NVTIfcTZ8xl",
    "outputId": "2fd97518-ff0a-4790-dfb2-a45fe013c6af"
   },
   "outputs": [
    {
     "data": {
      "text/html": [
       "<div>\n",
       "<style scoped>\n",
       "    .dataframe tbody tr th:only-of-type {\n",
       "        vertical-align: middle;\n",
       "    }\n",
       "\n",
       "    .dataframe tbody tr th {\n",
       "        vertical-align: top;\n",
       "    }\n",
       "\n",
       "    .dataframe thead th {\n",
       "        text-align: right;\n",
       "    }\n",
       "</style>\n",
       "<table border=\"1\" class=\"dataframe\">\n",
       "  <thead>\n",
       "    <tr style=\"text-align: right;\">\n",
       "      <th></th>\n",
       "      <th>id</th>\n",
       "      <th>tweet</th>\n",
       "      <th>Actual_Label</th>\n",
       "    </tr>\n",
       "  </thead>\n",
       "  <tbody>\n",
       "    <tr>\n",
       "      <th>0</th>\n",
       "      <td>1</td>\n",
       "      <td>Our daily update is published. States reported...</td>\n",
       "      <td>real</td>\n",
       "    </tr>\n",
       "    <tr>\n",
       "      <th>1</th>\n",
       "      <td>2</td>\n",
       "      <td>Alfalfa is the only cure for COVID-19.</td>\n",
       "      <td>fake</td>\n",
       "    </tr>\n",
       "    <tr>\n",
       "      <th>2</th>\n",
       "      <td>3</td>\n",
       "      <td>President Trump Asked What He Would Do If He W...</td>\n",
       "      <td>fake</td>\n",
       "    </tr>\n",
       "    <tr>\n",
       "      <th>3</th>\n",
       "      <td>4</td>\n",
       "      <td>States reported 630 deaths. We are still seein...</td>\n",
       "      <td>real</td>\n",
       "    </tr>\n",
       "    <tr>\n",
       "      <th>4</th>\n",
       "      <td>5</td>\n",
       "      <td>This is the sixth time a global health emergen...</td>\n",
       "      <td>real</td>\n",
       "    </tr>\n",
       "  </tbody>\n",
       "</table>\n",
       "</div>"
      ],
      "text/plain": [
       "   id                                              tweet Actual_Label\n",
       "0   1  Our daily update is published. States reported...         real\n",
       "1   2             Alfalfa is the only cure for COVID-19.         fake\n",
       "2   3  President Trump Asked What He Would Do If He W...         fake\n",
       "3   4  States reported 630 deaths. We are still seein...         real\n",
       "4   5  This is the sixth time a global health emergen...         real"
      ]
     },
     "execution_count": 14,
     "metadata": {
      "tags": []
     },
     "output_type": "execute_result"
    }
   ],
   "source": [
    "test_label_df = test_label_df.rename(columns={'label': 'Actual_Label'})\n",
    "test_label_df.head()"
   ]
  },
  {
   "cell_type": "code",
   "execution_count": 23,
   "metadata": {
    "colab": {
     "base_uri": "https://localhost:8080/",
     "height": 204
    },
    "executionInfo": {
     "elapsed": 961,
     "status": "ok",
     "timestamp": 1608103447824,
     "user": {
      "displayName": "Ayan Basak",
      "photoUrl": "",
      "userId": "03457614456337947866"
     },
     "user_tz": -330
    },
    "id": "O0MzNJdaaS1K",
    "outputId": "3d51740f-eeae-4d23-fad8-1b7f0bfb33f2"
   },
   "outputs": [
    {
     "data": {
      "text/html": [
       "<div>\n",
       "<style scoped>\n",
       "    .dataframe tbody tr th:only-of-type {\n",
       "        vertical-align: middle;\n",
       "    }\n",
       "\n",
       "    .dataframe tbody tr th {\n",
       "        vertical-align: top;\n",
       "    }\n",
       "\n",
       "    .dataframe thead th {\n",
       "        text-align: right;\n",
       "    }\n",
       "</style>\n",
       "<table border=\"1\" class=\"dataframe\">\n",
       "  <thead>\n",
       "    <tr style=\"text-align: right;\">\n",
       "      <th></th>\n",
       "      <th>id</th>\n",
       "      <th>tweet</th>\n",
       "      <th>Actual_Label</th>\n",
       "      <th>label</th>\n",
       "    </tr>\n",
       "  </thead>\n",
       "  <tbody>\n",
       "    <tr>\n",
       "      <th>0</th>\n",
       "      <td>11</td>\n",
       "      <td>Two interesting correlations:\\n\\n1) Children t...</td>\n",
       "      <td>fake</td>\n",
       "      <td>real</td>\n",
       "    </tr>\n",
       "    <tr>\n",
       "      <th>1</th>\n",
       "      <td>28</td>\n",
       "      <td>Govt has added #Corona disease in all existing...</td>\n",
       "      <td>fake</td>\n",
       "      <td>real</td>\n",
       "    </tr>\n",
       "    <tr>\n",
       "      <th>2</th>\n",
       "      <td>182</td>\n",
       "      <td>In response to the pandemic Pennsylvania Gover...</td>\n",
       "      <td>real</td>\n",
       "      <td>fake</td>\n",
       "    </tr>\n",
       "    <tr>\n",
       "      <th>3</th>\n",
       "      <td>185</td>\n",
       "      <td>*DNA Vaccine: injecting genetic material into ...</td>\n",
       "      <td>real</td>\n",
       "      <td>fake</td>\n",
       "    </tr>\n",
       "    <tr>\n",
       "      <th>4</th>\n",
       "      <td>268</td>\n",
       "      <td>Keep your newborn more than 6 feet away from y...</td>\n",
       "      <td>fake</td>\n",
       "      <td>real</td>\n",
       "    </tr>\n",
       "  </tbody>\n",
       "</table>\n",
       "</div>"
      ],
      "text/plain": [
       "    id                                              tweet Actual_Label label\n",
       "0   11  Two interesting correlations:\\n\\n1) Children t...         fake  real\n",
       "1   28  Govt has added #Corona disease in all existing...         fake  real\n",
       "2  182  In response to the pandemic Pennsylvania Gover...         real  fake\n",
       "3  185  *DNA Vaccine: injecting genetic material into ...         real  fake\n",
       "4  268  Keep your newborn more than 6 feet away from y...         fake  real"
      ]
     },
     "execution_count": 23,
     "metadata": {
      "tags": []
     },
     "output_type": "execute_result"
    }
   ],
   "source": [
    "# temp = test_label_df.merge(test_boosting_df, on='id', how='left')\n",
    "# temp = temp[temp[\"Actual_Label\"]!=temp[\"label\"]].reset_index(drop=True)\n",
    "# temp.head()"
   ]
  },
  {
   "cell_type": "code",
   "execution_count": 24,
   "metadata": {
    "colab": {
     "base_uri": "https://localhost:8080/"
    },
    "executionInfo": {
     "elapsed": 1298,
     "status": "ok",
     "timestamp": 1608103452065,
     "user": {
      "displayName": "Ayan Basak",
      "photoUrl": "",
      "userId": "03457614456337947866"
     },
     "user_tz": -330
    },
    "id": "s02IYzxobtt1",
    "outputId": "0c87c258-9b8c-4d5f-f687-77be98e054ea"
   },
   "outputs": [
    {
     "data": {
      "text/plain": [
       "(36, 4)"
      ]
     },
     "execution_count": 24,
     "metadata": {
      "tags": []
     },
     "output_type": "execute_result"
    }
   ],
   "source": [
    "# temp.shape"
   ]
  },
  {
   "cell_type": "code",
   "execution_count": null,
   "metadata": {
    "id": "cLq0YEo7Ud5D"
   },
   "outputs": [],
   "source": [
    "temp = val_boosting_df[val_boosting_df[\"Actual_Label\"]!=val_boosting_df[\"label\"]].reset_index(drop=True)[[\"id\", \"label\"]]\n",
    "temp = temp.rename(columns={\"label\": \"predicted_label\"})"
   ]
  },
  {
   "cell_type": "code",
   "execution_count": null,
   "metadata": {
    "colab": {
     "base_uri": "https://localhost:8080/",
     "height": 1000
    },
    "executionInfo": {
     "elapsed": 3183,
     "status": "ok",
     "timestamp": 1607581716554,
     "user": {
      "displayName": "Ayan Basak",
      "photoUrl": "",
      "userId": "03457614456337947866"
     },
     "user_tz": -330
    },
    "id": "meekdoTPUd7n",
    "outputId": "c965dcec-4856-43b3-c040-c3db959534cb"
   },
   "outputs": [
    {
     "data": {
      "text/html": [
       "<div>\n",
       "<style scoped>\n",
       "    .dataframe tbody tr th:only-of-type {\n",
       "        vertical-align: middle;\n",
       "    }\n",
       "\n",
       "    .dataframe tbody tr th {\n",
       "        vertical-align: top;\n",
       "    }\n",
       "\n",
       "    .dataframe thead th {\n",
       "        text-align: right;\n",
       "    }\n",
       "</style>\n",
       "<table border=\"1\" class=\"dataframe\">\n",
       "  <thead>\n",
       "    <tr style=\"text-align: right;\">\n",
       "      <th></th>\n",
       "      <th>id</th>\n",
       "      <th>predicted_label</th>\n",
       "      <th>tweet</th>\n",
       "      <th>label</th>\n",
       "    </tr>\n",
       "  </thead>\n",
       "  <tbody>\n",
       "    <tr>\n",
       "      <th>0</th>\n",
       "      <td>14</td>\n",
       "      <td>fake</td>\n",
       "      <td>Tomorrow April 6 we will pass 10000 coronaviru...</td>\n",
       "      <td>real</td>\n",
       "    </tr>\n",
       "    <tr>\n",
       "      <th>1</th>\n",
       "      <td>62</td>\n",
       "      <td>real</td>\n",
       "      <td>The Global #dietarysupplements market is antic...</td>\n",
       "      <td>fake</td>\n",
       "    </tr>\n",
       "    <tr>\n",
       "      <th>2</th>\n",
       "      <td>139</td>\n",
       "      <td>real</td>\n",
       "      <td>.@realdonaldtrump cherry-picked one stat to pr...</td>\n",
       "      <td>fake</td>\n",
       "    </tr>\n",
       "    <tr>\n",
       "      <th>3</th>\n",
       "      <td>146</td>\n",
       "      <td>real</td>\n",
       "      <td>There is no evidence that children have died b...</td>\n",
       "      <td>fake</td>\n",
       "    </tr>\n",
       "    <tr>\n",
       "      <th>4</th>\n",
       "      <td>149</td>\n",
       "      <td>real</td>\n",
       "      <td>The 2005 study found that chloroquine was effe...</td>\n",
       "      <td>fake</td>\n",
       "    </tr>\n",
       "    <tr>\n",
       "      <th>5</th>\n",
       "      <td>439</td>\n",
       "      <td>real</td>\n",
       "      <td>The N95 respirator offers the most protection ...</td>\n",
       "      <td>fake</td>\n",
       "    </tr>\n",
       "    <tr>\n",
       "      <th>6</th>\n",
       "      <td>497</td>\n",
       "      <td>real</td>\n",
       "      <td>In objection to WA's border closures @CliveFPa...</td>\n",
       "      <td>fake</td>\n",
       "    </tr>\n",
       "    <tr>\n",
       "      <th>7</th>\n",
       "      <td>610</td>\n",
       "      <td>fake</td>\n",
       "      <td>How deadly is the coronavirus #COVID19? Scient...</td>\n",
       "      <td>real</td>\n",
       "    </tr>\n",
       "    <tr>\n",
       "      <th>8</th>\n",
       "      <td>735</td>\n",
       "      <td>real</td>\n",
       "      <td>Health officials caution against the use of ch...</td>\n",
       "      <td>fake</td>\n",
       "    </tr>\n",
       "    <tr>\n",
       "      <th>9</th>\n",
       "      <td>758</td>\n",
       "      <td>real</td>\n",
       "      <td>How has alcohol consumption changed during loc...</td>\n",
       "      <td>fake</td>\n",
       "    </tr>\n",
       "    <tr>\n",
       "      <th>10</th>\n",
       "      <td>770</td>\n",
       "      <td>fake</td>\n",
       "      <td>As for the Russian COVID vaccine Fauci is amon...</td>\n",
       "      <td>real</td>\n",
       "    </tr>\n",
       "    <tr>\n",
       "      <th>11</th>\n",
       "      <td>839</td>\n",
       "      <td>real</td>\n",
       "      <td>#VitaminD is now in focus to prevent #Coronavi...</td>\n",
       "      <td>fake</td>\n",
       "    </tr>\n",
       "    <tr>\n",
       "      <th>12</th>\n",
       "      <td>922</td>\n",
       "      <td>real</td>\n",
       "      <td>RT @dpfunke: A data table from the World Bank ...</td>\n",
       "      <td>fake</td>\n",
       "    </tr>\n",
       "    <tr>\n",
       "      <th>13</th>\n",
       "      <td>966</td>\n",
       "      <td>real</td>\n",
       "      <td>We're still a long way away from herd immunity...</td>\n",
       "      <td>fake</td>\n",
       "    </tr>\n",
       "    <tr>\n",
       "      <th>14</th>\n",
       "      <td>1062</td>\n",
       "      <td>fake</td>\n",
       "      <td>#ZuckOff #TakeItFromADoctor and a video with f...</td>\n",
       "      <td>real</td>\n",
       "    </tr>\n",
       "    <tr>\n",
       "      <th>15</th>\n",
       "      <td>1064</td>\n",
       "      <td>fake</td>\n",
       "      <td>Hollywood actor Paul Rudd has encouraged young...</td>\n",
       "      <td>real</td>\n",
       "    </tr>\n",
       "    <tr>\n",
       "      <th>16</th>\n",
       "      <td>1182</td>\n",
       "      <td>real</td>\n",
       "      <td>Says if you're refused service at a store for ...</td>\n",
       "      <td>fake</td>\n",
       "    </tr>\n",
       "    <tr>\n",
       "      <th>17</th>\n",
       "      <td>1214</td>\n",
       "      <td>fake</td>\n",
       "      <td>Black Americans are hospitalized for coronavir...</td>\n",
       "      <td>real</td>\n",
       "    </tr>\n",
       "    <tr>\n",
       "      <th>18</th>\n",
       "      <td>1219</td>\n",
       "      <td>fake</td>\n",
       "      <td>The U.S. has surpassed over 1 million confirme...</td>\n",
       "      <td>real</td>\n",
       "    </tr>\n",
       "    <tr>\n",
       "      <th>19</th>\n",
       "      <td>1441</td>\n",
       "      <td>real</td>\n",
       "      <td>Children do contract the coronavirus but curre...</td>\n",
       "      <td>fake</td>\n",
       "    </tr>\n",
       "    <tr>\n",
       "      <th>20</th>\n",
       "      <td>1465</td>\n",
       "      <td>real</td>\n",
       "      <td>No wearing a mask to guard against spreading t...</td>\n",
       "      <td>fake</td>\n",
       "    </tr>\n",
       "    <tr>\n",
       "      <th>21</th>\n",
       "      <td>1508</td>\n",
       "      <td>real</td>\n",
       "      <td>PM @ScottMorrisonMP recently said a #COVID19 v...</td>\n",
       "      <td>fake</td>\n",
       "    </tr>\n",
       "    <tr>\n",
       "      <th>22</th>\n",
       "      <td>1519</td>\n",
       "      <td>real</td>\n",
       "      <td>process has asked sbi and business oil prices ...</td>\n",
       "      <td>fake</td>\n",
       "    </tr>\n",
       "    <tr>\n",
       "      <th>23</th>\n",
       "      <td>1522</td>\n",
       "      <td>fake</td>\n",
       "      <td>The fight against Covid takes warriors. Each a...</td>\n",
       "      <td>real</td>\n",
       "    </tr>\n",
       "    <tr>\n",
       "      <th>24</th>\n",
       "      <td>1567</td>\n",
       "      <td>fake</td>\n",
       "      <td>There is no one in New Zealand receiving hospi...</td>\n",
       "      <td>real</td>\n",
       "    </tr>\n",
       "    <tr>\n",
       "      <th>25</th>\n",
       "      <td>1587</td>\n",
       "      <td>real</td>\n",
       "      <td>A @Target spokesperson said the company plans ...</td>\n",
       "      <td>fake</td>\n",
       "    </tr>\n",
       "    <tr>\n",
       "      <th>26</th>\n",
       "      <td>1592</td>\n",
       "      <td>real</td>\n",
       "      <td>At this Critical Scenario We need full fledged...</td>\n",
       "      <td>fake</td>\n",
       "    </tr>\n",
       "    <tr>\n",
       "      <th>27</th>\n",
       "      <td>1770</td>\n",
       "      <td>fake</td>\n",
       "      <td>@CAALKESHKASLIWA @ICMRDELHI #COVID_19 treatmen...</td>\n",
       "      <td>real</td>\n",
       "    </tr>\n",
       "    <tr>\n",
       "      <th>28</th>\n",
       "      <td>1791</td>\n",
       "      <td>real</td>\n",
       "      <td>3/3 ... at the start was reasonably necessary\"...</td>\n",
       "      <td>fake</td>\n",
       "    </tr>\n",
       "    <tr>\n",
       "      <th>29</th>\n",
       "      <td>1851</td>\n",
       "      <td>real</td>\n",
       "      <td>@hapelensrob #Fauci as head of #NIH in 2005 pu...</td>\n",
       "      <td>fake</td>\n",
       "    </tr>\n",
       "    <tr>\n",
       "      <th>30</th>\n",
       "      <td>1867</td>\n",
       "      <td>fake</td>\n",
       "      <td>@CryptoWalter_ There is a provision Rs. 50 lak...</td>\n",
       "      <td>real</td>\n",
       "    </tr>\n",
       "    <tr>\n",
       "      <th>31</th>\n",
       "      <td>1871</td>\n",
       "      <td>real</td>\n",
       "      <td>Have you wanted to make a difference during th...</td>\n",
       "      <td>fake</td>\n",
       "    </tr>\n",
       "    <tr>\n",
       "      <th>32</th>\n",
       "      <td>1909</td>\n",
       "      <td>real</td>\n",
       "      <td>While uncomfortable there no evidence that get...</td>\n",
       "      <td>fake</td>\n",
       "    </tr>\n",
       "    <tr>\n",
       "      <th>33</th>\n",
       "      <td>1921</td>\n",
       "      <td>real</td>\n",
       "      <td>Angiotensin-converting enzyme 2 (ACE2): COVID ...</td>\n",
       "      <td>fake</td>\n",
       "    </tr>\n",
       "    <tr>\n",
       "      <th>34</th>\n",
       "      <td>1963</td>\n",
       "      <td>real</td>\n",
       "      <td>WHO expands coronavirus guidance after pressur...</td>\n",
       "      <td>fake</td>\n",
       "    </tr>\n",
       "    <tr>\n",
       "      <th>35</th>\n",
       "      <td>1995</td>\n",
       "      <td>real</td>\n",
       "      <td>#covid19 #coronavirus #coronavirusupdate NYC i...</td>\n",
       "      <td>fake</td>\n",
       "    </tr>\n",
       "    <tr>\n",
       "      <th>36</th>\n",
       "      <td>2052</td>\n",
       "      <td>real</td>\n",
       "      <td>All Missouri businesses can open Monday May 4 ...</td>\n",
       "      <td>fake</td>\n",
       "    </tr>\n",
       "  </tbody>\n",
       "</table>\n",
       "</div>"
      ],
      "text/plain": [
       "      id  ... label\n",
       "0     14  ...  real\n",
       "1     62  ...  fake\n",
       "2    139  ...  fake\n",
       "3    146  ...  fake\n",
       "4    149  ...  fake\n",
       "5    439  ...  fake\n",
       "6    497  ...  fake\n",
       "7    610  ...  real\n",
       "8    735  ...  fake\n",
       "9    758  ...  fake\n",
       "10   770  ...  real\n",
       "11   839  ...  fake\n",
       "12   922  ...  fake\n",
       "13   966  ...  fake\n",
       "14  1062  ...  real\n",
       "15  1064  ...  real\n",
       "16  1182  ...  fake\n",
       "17  1214  ...  real\n",
       "18  1219  ...  real\n",
       "19  1441  ...  fake\n",
       "20  1465  ...  fake\n",
       "21  1508  ...  fake\n",
       "22  1519  ...  fake\n",
       "23  1522  ...  real\n",
       "24  1567  ...  real\n",
       "25  1587  ...  fake\n",
       "26  1592  ...  fake\n",
       "27  1770  ...  real\n",
       "28  1791  ...  fake\n",
       "29  1851  ...  fake\n",
       "30  1867  ...  real\n",
       "31  1871  ...  fake\n",
       "32  1909  ...  fake\n",
       "33  1921  ...  fake\n",
       "34  1963  ...  fake\n",
       "35  1995  ...  fake\n",
       "36  2052  ...  fake\n",
       "\n",
       "[37 rows x 4 columns]"
      ]
     },
     "execution_count": 28,
     "metadata": {
      "tags": []
     },
     "output_type": "execute_result"
    }
   ],
   "source": [
    "wrong_df = temp.merge(val_df, on='id', how='inner')\n",
    "wrong_df"
   ]
  },
  {
   "cell_type": "code",
   "execution_count": 25,
   "metadata": {
    "executionInfo": {
     "elapsed": 1647,
     "status": "ok",
     "timestamp": 1608103468570,
     "user": {
      "displayName": "Ayan Basak",
      "photoUrl": "",
      "userId": "03457614456337947866"
     },
     "user_tz": -330
    },
    "id": "6iyB8sVyUd-I"
   },
   "outputs": [],
   "source": [
    "wrong_df.to_csv('../../Submissions/Wrong results/wrong_results_best_submission.csv', index=False)"
   ]
  },
  {
   "cell_type": "code",
   "execution_count": null,
   "metadata": {
    "id": "Dgic456KUrd1"
   },
   "outputs": [],
   "source": []
  },
  {
   "cell_type": "code",
   "execution_count": null,
   "metadata": {
    "id": "gTApYr_CUeAg"
   },
   "outputs": [],
   "source": []
  }
 ],
 "metadata": {
  "colab": {
   "collapsed_sections": [],
   "name": "Voting_with_ERNIE.ipynb",
   "provenance": [
    {
     "file_id": "1M_-vXF56_lRScx2kNMBlinCWVHqBk6cs",
     "timestamp": 1607433779834
    },
    {
     "file_id": "1bLOtzT0KnTp6g0XOKb2XLIPkvfSTGvIt",
     "timestamp": 1607344916520
    }
   ]
  },
  "kernelspec": {
   "display_name": "Python 3",
   "language": "python",
   "name": "python3"
  },
  "language_info": {
   "codemirror_mode": {
    "name": "ipython",
    "version": 3
   },
   "file_extension": ".py",
   "mimetype": "text/x-python",
   "name": "python",
   "nbconvert_exporter": "python",
   "pygments_lexer": "ipython3",
   "version": "3.8.5"
  }
 },
 "nbformat": 4,
 "nbformat_minor": 1
}
