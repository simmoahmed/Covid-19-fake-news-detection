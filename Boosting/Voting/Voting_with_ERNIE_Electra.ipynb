{
 "cells": [
  {
   "cell_type": "code",
   "execution_count": null,
   "metadata": {
    "id": "ZFlKVQC_5ZVC"
   },
   "outputs": [],
   "source": [
    "from sklearn.datasets import load_breast_cancer\n",
    "import pandas as pd\n",
    "import numpy as np\n",
    "from sklearn.model_selection import train_test_split\n",
    "from sklearn.metrics import confusion_matrix, accuracy_score, f1_score\n",
    "from sklearn.preprocessing import LabelEncoder\n"
   ]
  },
  {
   "cell_type": "code",
   "execution_count": null,
   "metadata": {
    "colab": {
     "base_uri": "https://localhost:8080/"
    },
    "executionInfo": {
     "elapsed": 22940,
     "status": "ok",
     "timestamp": 1607580666376,
     "user": {
      "displayName": "Ayan Basak",
      "photoUrl": "",
      "userId": "03457614456337947866"
     },
     "user_tz": -330
    },
    "id": "Fwurh4GzJzfv",
    "outputId": "7fa655fc-c925-4ab0-ce22-7322eeac2e94"
   },
   "outputs": [
    {
     "name": "stdout",
     "output_type": "stream",
     "text": [
      "Mounted at /content/drive\n"
     ]
    }
   ],
   "source": [
    "from google.colab import drive\n",
    "drive.mount('/content/drive')"
   ]
  },
  {
   "cell_type": "code",
   "execution_count": null,
   "metadata": {
    "id": "NLa-pIwN6MEq"
   },
   "outputs": [],
   "source": [
    "train_boosting_df = pd.read_csv('../Boosting Data/Train_v3.csv')\n",
    "# train_df = train_df.rename(columns={'model1_Class1.1': 'model2_Class1', 'model1_Class1.2': 'model3_Class1'})\n",
    "val_boosting_df = pd.read_csv('../Boosting Data/Validation_v3.csv')\n",
    "# val_df = val_df.rename(columns={'model1_Class1.1': 'model2_Class1', 'model1_Class1.2': 'model3_Class1'})\n",
    "test_df = pd.read_csv('../../data/Constraint_Test.csv')\n",
    "val_df = pd.read_csv('../../data/Constraint_Val.csv')\n",
    "test_boosting_df = pd.read_csv('../Boosting Data/Test_v3.csv')\n"
   ]
  },
  {
   "cell_type": "code",
   "execution_count": null,
   "metadata": {
    "colab": {
     "base_uri": "https://localhost:8080/"
    },
    "executionInfo": {
     "elapsed": 1610,
     "status": "ok",
     "timestamp": 1607541683333,
     "user": {
      "displayName": "Ayan Basak",
      "photoUrl": "",
      "userId": "03457614456337947866"
     },
     "user_tz": -330
    },
    "id": "L5nx124ORf6S",
    "outputId": "b86b2c88-853d-458a-fe56-32d9646d6293"
   },
   "outputs": [
    {
     "data": {
      "text/plain": [
       "((6420, 12), (2140, 12), (2140, 11))"
      ]
     },
     "execution_count": 36,
     "metadata": {
      "tags": []
     },
     "output_type": "execute_result"
    }
   ],
   "source": [
    "train_boosting_df.shape, val_boosting_df.shape, test_boosting_df.shape"
   ]
  },
  {
   "cell_type": "code",
   "execution_count": null,
   "metadata": {
    "id": "rMKcEXaSh2L2"
   },
   "outputs": [],
   "source": [
    "ernie_val = pd.read_csv('../Intermediate ERNIE2.0/ERNIE/val_ernie2.0_results.csv')\n",
    "ernie_val = ernie_val.rename(columns={'Model4_class0': 'model6_Class0', 'Model4_class1': 'model6_Class1'})[[\"model6_Class0\", \"model6_Class1\", \"Label\"]]\n",
    "ernie_test = pd.read_csv('../Intermediate ERNIE2.0/ERNIE/test_ernie2.0_results.csv')\n",
    "ernie_test = ernie_test.rename(columns={'Model4_class0': 'model6_Class0', 'Model4_class1': 'model6_Class1'})[[\"model6_Class0\", \"model6_Class1\"]]\n"
   ]
  },
  {
   "cell_type": "code",
   "execution_count": null,
   "metadata": {
    "colab": {
     "base_uri": "https://localhost:8080/",
     "height": 162
    },
    "executionInfo": {
     "elapsed": 2522,
     "status": "ok",
     "timestamp": 1607541684258,
     "user": {
      "displayName": "Ayan Basak",
      "photoUrl": "",
      "userId": "03457614456337947866"
     },
     "user_tz": -330
    },
    "id": "sRMiVfP7BecK",
    "outputId": "cd591172-cfd9-47c1-a4de-45aa86cc39b4"
   },
   "outputs": [
    {
     "data": {
      "text/html": [
       "<div>\n",
       "<style scoped>\n",
       "    .dataframe tbody tr th:only-of-type {\n",
       "        vertical-align: middle;\n",
       "    }\n",
       "\n",
       "    .dataframe tbody tr th {\n",
       "        vertical-align: top;\n",
       "    }\n",
       "\n",
       "    .dataframe thead th {\n",
       "        text-align: right;\n",
       "    }\n",
       "</style>\n",
       "<table border=\"1\" class=\"dataframe\">\n",
       "  <thead>\n",
       "    <tr style=\"text-align: right;\">\n",
       "      <th></th>\n",
       "      <th>id</th>\n",
       "      <th>model1_Class0</th>\n",
       "      <th>model1_Class1</th>\n",
       "      <th>model2_Class0</th>\n",
       "      <th>model2_Class1</th>\n",
       "      <th>model3_Class0</th>\n",
       "      <th>model3_Class1</th>\n",
       "      <th>model4_Class0</th>\n",
       "      <th>model4_Class1</th>\n",
       "      <th>model5_Class0</th>\n",
       "      <th>model5_Class1</th>\n",
       "    </tr>\n",
       "  </thead>\n",
       "  <tbody>\n",
       "    <tr>\n",
       "      <th>0</th>\n",
       "      <td>1</td>\n",
       "      <td>0.999851</td>\n",
       "      <td>0.000149</td>\n",
       "      <td>0.999063</td>\n",
       "      <td>0.000937</td>\n",
       "      <td>0.999967</td>\n",
       "      <td>0.000033</td>\n",
       "      <td>0.999963</td>\n",
       "      <td>0.000037</td>\n",
       "      <td>0.999984</td>\n",
       "      <td>0.000016</td>\n",
       "    </tr>\n",
       "    <tr>\n",
       "      <th>1</th>\n",
       "      <td>2</td>\n",
       "      <td>0.000422</td>\n",
       "      <td>0.999578</td>\n",
       "      <td>0.000902</td>\n",
       "      <td>0.999098</td>\n",
       "      <td>0.000045</td>\n",
       "      <td>0.999955</td>\n",
       "      <td>0.000112</td>\n",
       "      <td>0.999888</td>\n",
       "      <td>0.000067</td>\n",
       "      <td>0.999933</td>\n",
       "    </tr>\n",
       "    <tr>\n",
       "      <th>2</th>\n",
       "      <td>3</td>\n",
       "      <td>0.000401</td>\n",
       "      <td>0.999600</td>\n",
       "      <td>0.000954</td>\n",
       "      <td>0.999046</td>\n",
       "      <td>0.000033</td>\n",
       "      <td>0.999967</td>\n",
       "      <td>0.000170</td>\n",
       "      <td>0.999830</td>\n",
       "      <td>0.000081</td>\n",
       "      <td>0.999919</td>\n",
       "    </tr>\n",
       "  </tbody>\n",
       "</table>\n",
       "</div>"
      ],
      "text/plain": [
       "   id  model1_Class0  ...  model5_Class0  model5_Class1\n",
       "0   1       0.999851  ...       0.999984       0.000016\n",
       "1   2       0.000422  ...       0.000067       0.999933\n",
       "2   3       0.000401  ...       0.000081       0.999919\n",
       "\n",
       "[3 rows x 11 columns]"
      ]
     },
     "execution_count": 38,
     "metadata": {
      "tags": []
     },
     "output_type": "execute_result"
    }
   ],
   "source": [
    "test_boosting_df.head(3)"
   ]
  },
  {
   "cell_type": "code",
   "execution_count": null,
   "metadata": {
    "colab": {
     "base_uri": "https://localhost:8080/",
     "height": 224
    },
    "executionInfo": {
     "elapsed": 2514,
     "status": "ok",
     "timestamp": 1607541684258,
     "user": {
      "displayName": "Ayan Basak",
      "photoUrl": "",
      "userId": "03457614456337947866"
     },
     "user_tz": -330
    },
    "id": "NY4NQABoh2Pr",
    "outputId": "d2873f6f-1c2d-448d-bfc4-e434a7feff90"
   },
   "outputs": [
    {
     "data": {
      "text/html": [
       "<div>\n",
       "<style scoped>\n",
       "    .dataframe tbody tr th:only-of-type {\n",
       "        vertical-align: middle;\n",
       "    }\n",
       "\n",
       "    .dataframe tbody tr th {\n",
       "        vertical-align: top;\n",
       "    }\n",
       "\n",
       "    .dataframe thead th {\n",
       "        text-align: right;\n",
       "    }\n",
       "</style>\n",
       "<table border=\"1\" class=\"dataframe\">\n",
       "  <thead>\n",
       "    <tr style=\"text-align: right;\">\n",
       "      <th></th>\n",
       "      <th>id</th>\n",
       "      <th>model1_Class0</th>\n",
       "      <th>model1_Class1</th>\n",
       "      <th>model2_Class0</th>\n",
       "      <th>model2_Class1</th>\n",
       "      <th>model3_Class0</th>\n",
       "      <th>model3_Class1</th>\n",
       "      <th>model4_Class0</th>\n",
       "      <th>model4_Class1</th>\n",
       "      <th>model5_Class0</th>\n",
       "      <th>model5_Class1</th>\n",
       "      <th>model6_Class0</th>\n",
       "      <th>model6_Class1</th>\n",
       "      <th>Label</th>\n",
       "    </tr>\n",
       "  </thead>\n",
       "  <tbody>\n",
       "    <tr>\n",
       "      <th>0</th>\n",
       "      <td>1</td>\n",
       "      <td>0.001269</td>\n",
       "      <td>0.998731</td>\n",
       "      <td>0.000938</td>\n",
       "      <td>0.999062</td>\n",
       "      <td>0.000179</td>\n",
       "      <td>0.999821</td>\n",
       "      <td>0.028954</td>\n",
       "      <td>0.971046</td>\n",
       "      <td>0.000074</td>\n",
       "      <td>0.999926</td>\n",
       "      <td>0.000250</td>\n",
       "      <td>0.999750</td>\n",
       "      <td>1</td>\n",
       "    </tr>\n",
       "    <tr>\n",
       "      <th>1</th>\n",
       "      <td>2</td>\n",
       "      <td>0.991674</td>\n",
       "      <td>0.008326</td>\n",
       "      <td>0.000884</td>\n",
       "      <td>0.999116</td>\n",
       "      <td>0.010019</td>\n",
       "      <td>0.989981</td>\n",
       "      <td>0.002718</td>\n",
       "      <td>0.997282</td>\n",
       "      <td>0.958628</td>\n",
       "      <td>0.041371</td>\n",
       "      <td>0.005722</td>\n",
       "      <td>0.994278</td>\n",
       "      <td>1</td>\n",
       "    </tr>\n",
       "    <tr>\n",
       "      <th>2</th>\n",
       "      <td>3</td>\n",
       "      <td>0.000385</td>\n",
       "      <td>0.999615</td>\n",
       "      <td>0.000958</td>\n",
       "      <td>0.999042</td>\n",
       "      <td>0.000084</td>\n",
       "      <td>0.999916</td>\n",
       "      <td>0.000053</td>\n",
       "      <td>0.999947</td>\n",
       "      <td>0.000048</td>\n",
       "      <td>0.999952</td>\n",
       "      <td>0.000249</td>\n",
       "      <td>0.999751</td>\n",
       "      <td>1</td>\n",
       "    </tr>\n",
       "    <tr>\n",
       "      <th>3</th>\n",
       "      <td>4</td>\n",
       "      <td>0.000416</td>\n",
       "      <td>0.999584</td>\n",
       "      <td>0.000936</td>\n",
       "      <td>0.999065</td>\n",
       "      <td>0.000109</td>\n",
       "      <td>0.999891</td>\n",
       "      <td>0.001268</td>\n",
       "      <td>0.998732</td>\n",
       "      <td>0.001172</td>\n",
       "      <td>0.998828</td>\n",
       "      <td>0.000251</td>\n",
       "      <td>0.999749</td>\n",
       "      <td>1</td>\n",
       "    </tr>\n",
       "    <tr>\n",
       "      <th>4</th>\n",
       "      <td>5</td>\n",
       "      <td>0.999851</td>\n",
       "      <td>0.000149</td>\n",
       "      <td>0.999052</td>\n",
       "      <td>0.000948</td>\n",
       "      <td>0.999784</td>\n",
       "      <td>0.000216</td>\n",
       "      <td>0.999951</td>\n",
       "      <td>0.000049</td>\n",
       "      <td>0.999972</td>\n",
       "      <td>0.000028</td>\n",
       "      <td>0.999373</td>\n",
       "      <td>0.000627</td>\n",
       "      <td>0</td>\n",
       "    </tr>\n",
       "  </tbody>\n",
       "</table>\n",
       "</div>"
      ],
      "text/plain": [
       "   id  model1_Class0  model1_Class1  ...  model6_Class0  model6_Class1  Label\n",
       "0   1       0.001269       0.998731  ...       0.000250       0.999750      1\n",
       "1   2       0.991674       0.008326  ...       0.005722       0.994278      1\n",
       "2   3       0.000385       0.999615  ...       0.000249       0.999751      1\n",
       "3   4       0.000416       0.999584  ...       0.000251       0.999749      1\n",
       "4   5       0.999851       0.000149  ...       0.999373       0.000627      0\n",
       "\n",
       "[5 rows x 14 columns]"
      ]
     },
     "execution_count": 39,
     "metadata": {
      "tags": []
     },
     "output_type": "execute_result"
    }
   ],
   "source": [
    "val_labels = val_boosting_df['Label'].values\n",
    "val_boosting_df = pd.concat([val_boosting_df.iloc[:, :-1], ernie_val[[\"model6_Class0\", \"model6_Class1\"]]], 1)\n",
    "val_boosting_df[\"Label\"] = val_labels\n",
    "val_boosting_df.head()\n"
   ]
  },
  {
   "cell_type": "code",
   "execution_count": null,
   "metadata": {
    "colab": {
     "base_uri": "https://localhost:8080/",
     "height": 224
    },
    "executionInfo": {
     "elapsed": 2508,
     "status": "ok",
     "timestamp": 1607541684259,
     "user": {
      "displayName": "Ayan Basak",
      "photoUrl": "",
      "userId": "03457614456337947866"
     },
     "user_tz": -330
    },
    "id": "kpWq53rADpFo",
    "outputId": "8c6babcb-ad0a-49c9-86d2-7cc62efda31a"
   },
   "outputs": [
    {
     "data": {
      "text/html": [
       "<div>\n",
       "<style scoped>\n",
       "    .dataframe tbody tr th:only-of-type {\n",
       "        vertical-align: middle;\n",
       "    }\n",
       "\n",
       "    .dataframe tbody tr th {\n",
       "        vertical-align: top;\n",
       "    }\n",
       "\n",
       "    .dataframe thead th {\n",
       "        text-align: right;\n",
       "    }\n",
       "</style>\n",
       "<table border=\"1\" class=\"dataframe\">\n",
       "  <thead>\n",
       "    <tr style=\"text-align: right;\">\n",
       "      <th></th>\n",
       "      <th>id</th>\n",
       "      <th>model1_Class0</th>\n",
       "      <th>model1_Class1</th>\n",
       "      <th>model2_Class0</th>\n",
       "      <th>model2_Class1</th>\n",
       "      <th>model3_Class0</th>\n",
       "      <th>model3_Class1</th>\n",
       "      <th>model4_Class0</th>\n",
       "      <th>model4_Class1</th>\n",
       "      <th>model5_Class0</th>\n",
       "      <th>model5_Class1</th>\n",
       "      <th>model6_Class0</th>\n",
       "      <th>model6_Class1</th>\n",
       "    </tr>\n",
       "  </thead>\n",
       "  <tbody>\n",
       "    <tr>\n",
       "      <th>0</th>\n",
       "      <td>1</td>\n",
       "      <td>0.999851</td>\n",
       "      <td>0.000149</td>\n",
       "      <td>0.999063</td>\n",
       "      <td>0.000937</td>\n",
       "      <td>0.999967</td>\n",
       "      <td>0.000033</td>\n",
       "      <td>0.999963</td>\n",
       "      <td>0.000037</td>\n",
       "      <td>0.999984</td>\n",
       "      <td>0.000016</td>\n",
       "      <td>0.999371</td>\n",
       "      <td>0.000629</td>\n",
       "    </tr>\n",
       "    <tr>\n",
       "      <th>1</th>\n",
       "      <td>2</td>\n",
       "      <td>0.000422</td>\n",
       "      <td>0.999578</td>\n",
       "      <td>0.000902</td>\n",
       "      <td>0.999098</td>\n",
       "      <td>0.000045</td>\n",
       "      <td>0.999955</td>\n",
       "      <td>0.000112</td>\n",
       "      <td>0.999888</td>\n",
       "      <td>0.000067</td>\n",
       "      <td>0.999933</td>\n",
       "      <td>0.000257</td>\n",
       "      <td>0.999743</td>\n",
       "    </tr>\n",
       "    <tr>\n",
       "      <th>2</th>\n",
       "      <td>3</td>\n",
       "      <td>0.000401</td>\n",
       "      <td>0.999600</td>\n",
       "      <td>0.000954</td>\n",
       "      <td>0.999046</td>\n",
       "      <td>0.000033</td>\n",
       "      <td>0.999967</td>\n",
       "      <td>0.000170</td>\n",
       "      <td>0.999830</td>\n",
       "      <td>0.000081</td>\n",
       "      <td>0.999919</td>\n",
       "      <td>0.000247</td>\n",
       "      <td>0.999753</td>\n",
       "    </tr>\n",
       "    <tr>\n",
       "      <th>3</th>\n",
       "      <td>4</td>\n",
       "      <td>0.999858</td>\n",
       "      <td>0.000142</td>\n",
       "      <td>0.999082</td>\n",
       "      <td>0.000918</td>\n",
       "      <td>0.999967</td>\n",
       "      <td>0.000033</td>\n",
       "      <td>0.999956</td>\n",
       "      <td>0.000044</td>\n",
       "      <td>0.999984</td>\n",
       "      <td>0.000016</td>\n",
       "      <td>0.999376</td>\n",
       "      <td>0.000624</td>\n",
       "    </tr>\n",
       "    <tr>\n",
       "      <th>4</th>\n",
       "      <td>5</td>\n",
       "      <td>0.999852</td>\n",
       "      <td>0.000148</td>\n",
       "      <td>0.999076</td>\n",
       "      <td>0.000924</td>\n",
       "      <td>0.999953</td>\n",
       "      <td>0.000047</td>\n",
       "      <td>0.999912</td>\n",
       "      <td>0.000088</td>\n",
       "      <td>0.999984</td>\n",
       "      <td>0.000016</td>\n",
       "      <td>0.994812</td>\n",
       "      <td>0.005188</td>\n",
       "    </tr>\n",
       "  </tbody>\n",
       "</table>\n",
       "</div>"
      ],
      "text/plain": [
       "   id  model1_Class0  ...  model6_Class0  model6_Class1\n",
       "0   1       0.999851  ...       0.999371       0.000629\n",
       "1   2       0.000422  ...       0.000257       0.999743\n",
       "2   3       0.000401  ...       0.000247       0.999753\n",
       "3   4       0.999858  ...       0.999376       0.000624\n",
       "4   5       0.999852  ...       0.994812       0.005188\n",
       "\n",
       "[5 rows x 13 columns]"
      ]
     },
     "execution_count": 40,
     "metadata": {
      "tags": []
     },
     "output_type": "execute_result"
    }
   ],
   "source": [
    "test_boosting_df = pd.concat([test_boosting_df, ernie_test[[\"model6_Class0\", \"model6_Class1\"]]], 1)\n",
    "test_boosting_df.head()"
   ]
  },
  {
   "cell_type": "code",
   "execution_count": null,
   "metadata": {
    "colab": {
     "base_uri": "https://localhost:8080/"
    },
    "executionInfo": {
     "elapsed": 2497,
     "status": "ok",
     "timestamp": 1607541684259,
     "user": {
      "displayName": "Ayan Basak",
      "photoUrl": "",
      "userId": "03457614456337947866"
     },
     "user_tz": -330
    },
    "id": "eFmvl4lqL9pZ",
    "outputId": "dc859f3f-a7fb-4b1a-832d-50c63cdaec5d"
   },
   "outputs": [
    {
     "data": {
      "text/plain": [
       "((2140, 3), (2140, 2))"
      ]
     },
     "execution_count": 41,
     "metadata": {
      "tags": []
     },
     "output_type": "execute_result"
    }
   ],
   "source": [
    "ernie_val.shape, ernie_test.shape"
   ]
  },
  {
   "cell_type": "code",
   "execution_count": null,
   "metadata": {
    "colab": {
     "base_uri": "https://localhost:8080/"
    },
    "executionInfo": {
     "elapsed": 2489,
     "status": "ok",
     "timestamp": 1607541684260,
     "user": {
      "displayName": "Ayan Basak",
      "photoUrl": "",
      "userId": "03457614456337947866"
     },
     "user_tz": -330
    },
    "id": "VVjWrHVeL9sV",
    "outputId": "3881423f-53f7-4cde-c948-9cbc2b6fe6eb"
   },
   "outputs": [
    {
     "data": {
      "text/plain": [
       "(2140, 13)"
      ]
     },
     "execution_count": 42,
     "metadata": {
      "tags": []
     },
     "output_type": "execute_result"
    }
   ],
   "source": [
    "test_boosting_df.shape"
   ]
  },
  {
   "cell_type": "code",
   "execution_count": null,
   "metadata": {
    "colab": {
     "base_uri": "https://localhost:8080/",
     "height": 224
    },
    "executionInfo": {
     "elapsed": 2482,
     "status": "ok",
     "timestamp": 1607541684260,
     "user": {
      "displayName": "Ayan Basak",
      "photoUrl": "",
      "userId": "03457614456337947866"
     },
     "user_tz": -330
    },
    "id": "IJkXwyPVDaNA",
    "outputId": "c7aeedc2-1678-4f9c-ce78-db121c50ede3"
   },
   "outputs": [
    {
     "data": {
      "text/html": [
       "<div>\n",
       "<style scoped>\n",
       "    .dataframe tbody tr th:only-of-type {\n",
       "        vertical-align: middle;\n",
       "    }\n",
       "\n",
       "    .dataframe tbody tr th {\n",
       "        vertical-align: top;\n",
       "    }\n",
       "\n",
       "    .dataframe thead th {\n",
       "        text-align: right;\n",
       "    }\n",
       "</style>\n",
       "<table border=\"1\" class=\"dataframe\">\n",
       "  <thead>\n",
       "    <tr style=\"text-align: right;\">\n",
       "      <th></th>\n",
       "      <th>id</th>\n",
       "      <th>model1_Class0</th>\n",
       "      <th>model1_Class1</th>\n",
       "      <th>model2_Class0</th>\n",
       "      <th>model2_Class1</th>\n",
       "      <th>model3_Class0</th>\n",
       "      <th>model3_Class1</th>\n",
       "      <th>model4_Class0</th>\n",
       "      <th>model4_Class1</th>\n",
       "      <th>model5_Class0</th>\n",
       "      <th>model5_Class1</th>\n",
       "      <th>model6_Class0</th>\n",
       "      <th>model6_Class1</th>\n",
       "    </tr>\n",
       "  </thead>\n",
       "  <tbody>\n",
       "    <tr>\n",
       "      <th>0</th>\n",
       "      <td>1</td>\n",
       "      <td>0.999851</td>\n",
       "      <td>0.000149</td>\n",
       "      <td>0.999063</td>\n",
       "      <td>0.000937</td>\n",
       "      <td>0.999967</td>\n",
       "      <td>0.000033</td>\n",
       "      <td>0.999963</td>\n",
       "      <td>0.000037</td>\n",
       "      <td>0.999984</td>\n",
       "      <td>0.000016</td>\n",
       "      <td>0.999371</td>\n",
       "      <td>0.000629</td>\n",
       "    </tr>\n",
       "    <tr>\n",
       "      <th>1</th>\n",
       "      <td>2</td>\n",
       "      <td>0.000422</td>\n",
       "      <td>0.999578</td>\n",
       "      <td>0.000902</td>\n",
       "      <td>0.999098</td>\n",
       "      <td>0.000045</td>\n",
       "      <td>0.999955</td>\n",
       "      <td>0.000112</td>\n",
       "      <td>0.999888</td>\n",
       "      <td>0.000067</td>\n",
       "      <td>0.999933</td>\n",
       "      <td>0.000257</td>\n",
       "      <td>0.999743</td>\n",
       "    </tr>\n",
       "    <tr>\n",
       "      <th>2</th>\n",
       "      <td>3</td>\n",
       "      <td>0.000401</td>\n",
       "      <td>0.999600</td>\n",
       "      <td>0.000954</td>\n",
       "      <td>0.999046</td>\n",
       "      <td>0.000033</td>\n",
       "      <td>0.999967</td>\n",
       "      <td>0.000170</td>\n",
       "      <td>0.999830</td>\n",
       "      <td>0.000081</td>\n",
       "      <td>0.999919</td>\n",
       "      <td>0.000247</td>\n",
       "      <td>0.999753</td>\n",
       "    </tr>\n",
       "    <tr>\n",
       "      <th>3</th>\n",
       "      <td>4</td>\n",
       "      <td>0.999858</td>\n",
       "      <td>0.000142</td>\n",
       "      <td>0.999082</td>\n",
       "      <td>0.000918</td>\n",
       "      <td>0.999967</td>\n",
       "      <td>0.000033</td>\n",
       "      <td>0.999956</td>\n",
       "      <td>0.000044</td>\n",
       "      <td>0.999984</td>\n",
       "      <td>0.000016</td>\n",
       "      <td>0.999376</td>\n",
       "      <td>0.000624</td>\n",
       "    </tr>\n",
       "    <tr>\n",
       "      <th>4</th>\n",
       "      <td>5</td>\n",
       "      <td>0.999852</td>\n",
       "      <td>0.000148</td>\n",
       "      <td>0.999076</td>\n",
       "      <td>0.000924</td>\n",
       "      <td>0.999953</td>\n",
       "      <td>0.000047</td>\n",
       "      <td>0.999912</td>\n",
       "      <td>0.000088</td>\n",
       "      <td>0.999984</td>\n",
       "      <td>0.000016</td>\n",
       "      <td>0.994812</td>\n",
       "      <td>0.005188</td>\n",
       "    </tr>\n",
       "  </tbody>\n",
       "</table>\n",
       "</div>"
      ],
      "text/plain": [
       "   id  model1_Class0  ...  model6_Class0  model6_Class1\n",
       "0   1       0.999851  ...       0.999371       0.000629\n",
       "1   2       0.000422  ...       0.000257       0.999743\n",
       "2   3       0.000401  ...       0.000247       0.999753\n",
       "3   4       0.999858  ...       0.999376       0.000624\n",
       "4   5       0.999852  ...       0.994812       0.005188\n",
       "\n",
       "[5 rows x 13 columns]"
      ]
     },
     "execution_count": 43,
     "metadata": {
      "tags": []
     },
     "output_type": "execute_result"
    }
   ],
   "source": [
    "test_boosting_df.head()"
   ]
  },
  {
   "cell_type": "code",
   "execution_count": null,
   "metadata": {
    "id": "tgGHahB4Osu0"
   },
   "outputs": [],
   "source": [
    "def soft_voting(row):\n",
    "  # class0_val = (row['model1_Class0'] + row['model2_Class0'] + row['model3_Class0'] + row['model4_Class0'] + row['model5_Class0'] + row['model6_Class0'])/6\n",
    "  # class1_val = (row['model1_Class1'] + row['model2_Class1'] + row['model3_Class1'] + row['model4_Class1'] + row['model5_Class1'] + row['model6_Class1'])/6\n",
    "  class0_val = (row['model1_Class0'] + row['model2_Class0'] + row['model3_Class0'] + row['model5_Class0'] + row['model6_Class0'])/5\n",
    "  class1_val = (row['model1_Class1'] + row['model2_Class1'] + row['model3_Class1'] + row['model5_Class1'] + row['model6_Class1'])/5\n",
    "  return 0 if class0_val > class1_val else 1\n",
    "\n",
    "val_boosting_df['Soft_Vote'] = val_boosting_df.apply(lambda x: soft_voting(x), 1)\n",
    "test_boosting_df['Soft_Vote'] = test_boosting_df.apply(lambda x: soft_voting(x), 1)\n"
   ]
  },
  {
   "cell_type": "code",
   "execution_count": null,
   "metadata": {
    "colab": {
     "base_uri": "https://localhost:8080/",
     "height": 131
    },
    "executionInfo": {
     "elapsed": 2467,
     "status": "ok",
     "timestamp": 1607541684261,
     "user": {
      "displayName": "Ayan Basak",
      "photoUrl": "",
      "userId": "03457614456337947866"
     },
     "user_tz": -330
    },
    "id": "J-bBbazXtbmu",
    "outputId": "5325b65d-d7ed-4e02-b6c5-aece73a2ee02"
   },
   "outputs": [
    {
     "data": {
      "text/html": [
       "<div>\n",
       "<style scoped>\n",
       "    .dataframe tbody tr th:only-of-type {\n",
       "        vertical-align: middle;\n",
       "    }\n",
       "\n",
       "    .dataframe tbody tr th {\n",
       "        vertical-align: top;\n",
       "    }\n",
       "\n",
       "    .dataframe thead th {\n",
       "        text-align: right;\n",
       "    }\n",
       "</style>\n",
       "<table border=\"1\" class=\"dataframe\">\n",
       "  <thead>\n",
       "    <tr style=\"text-align: right;\">\n",
       "      <th></th>\n",
       "      <th>id</th>\n",
       "      <th>model1_Class0</th>\n",
       "      <th>model1_Class1</th>\n",
       "      <th>model2_Class0</th>\n",
       "      <th>model2_Class1</th>\n",
       "      <th>model3_Class0</th>\n",
       "      <th>model3_Class1</th>\n",
       "      <th>model4_Class0</th>\n",
       "      <th>model4_Class1</th>\n",
       "      <th>model5_Class0</th>\n",
       "      <th>model5_Class1</th>\n",
       "      <th>model6_Class0</th>\n",
       "      <th>model6_Class1</th>\n",
       "      <th>Soft_Vote</th>\n",
       "    </tr>\n",
       "  </thead>\n",
       "  <tbody>\n",
       "    <tr>\n",
       "      <th>0</th>\n",
       "      <td>1</td>\n",
       "      <td>0.999851</td>\n",
       "      <td>0.000149</td>\n",
       "      <td>0.999063</td>\n",
       "      <td>0.000937</td>\n",
       "      <td>0.999967</td>\n",
       "      <td>0.000033</td>\n",
       "      <td>0.999963</td>\n",
       "      <td>0.000037</td>\n",
       "      <td>0.999984</td>\n",
       "      <td>0.000016</td>\n",
       "      <td>0.999371</td>\n",
       "      <td>0.000629</td>\n",
       "      <td>0</td>\n",
       "    </tr>\n",
       "    <tr>\n",
       "      <th>1</th>\n",
       "      <td>2</td>\n",
       "      <td>0.000422</td>\n",
       "      <td>0.999578</td>\n",
       "      <td>0.000902</td>\n",
       "      <td>0.999098</td>\n",
       "      <td>0.000045</td>\n",
       "      <td>0.999955</td>\n",
       "      <td>0.000112</td>\n",
       "      <td>0.999888</td>\n",
       "      <td>0.000067</td>\n",
       "      <td>0.999933</td>\n",
       "      <td>0.000257</td>\n",
       "      <td>0.999743</td>\n",
       "      <td>1</td>\n",
       "    </tr>\n",
       "  </tbody>\n",
       "</table>\n",
       "</div>"
      ],
      "text/plain": [
       "   id  model1_Class0  model1_Class1  ...  model6_Class0  model6_Class1  Soft_Vote\n",
       "0   1       0.999851       0.000149  ...       0.999371       0.000629          0\n",
       "1   2       0.000422       0.999578  ...       0.000257       0.999743          1\n",
       "\n",
       "[2 rows x 14 columns]"
      ]
     },
     "execution_count": 45,
     "metadata": {
      "tags": []
     },
     "output_type": "execute_result"
    }
   ],
   "source": [
    "test_boosting_df.head(2)"
   ]
  },
  {
   "cell_type": "code",
   "execution_count": null,
   "metadata": {
    "id": "w1LsKTQAOsxR"
   },
   "outputs": [],
   "source": [
    "def hard_voting(row):\n",
    "  a = np.argmax(np.array([[row['model1_Class0'], row['model1_Class1']]]), 1)[0]\n",
    "  b = np.argmax(np.array([[row['model2_Class0'], row['model2_Class1']]]), 1)[0]\n",
    "  c = np.argmax(np.array([[row['model3_Class0'], row['model3_Class1']]]), 1)[0]\n",
    "  d = np.argmax(np.array([[row['model4_Class0'], row['model4_Class1']]]), 1)[0]\n",
    "  e = np.argmax(np.array([[row['model5_Class0'], row['model5_Class0']]]), 1)[0]\n",
    "  f = np.argmax(np.array([[row['model6_Class0'], row['model6_Class0']]]), 1)[0]\n",
    "\n",
    "  cnt_0 = 0\n",
    "  for i in [a,b,c,d,e,f]:\n",
    "    if i==0:\n",
    "      cnt_0+=1\n",
    "  \n",
    "  if cnt_0>3:\n",
    "    return 0\n",
    "  elif cnt_0==3:\n",
    "    class0_val = (row['model1_Class0'] + row['model2_Class0'] + row['model3_Class0'] + row['model4_Class0'] + row['model5_Class0'] + row['model6_Class0'])/6\n",
    "    class1_val = (row['model1_Class1'] + row['model2_Class1'] + row['model3_Class1'] + row['model4_Class1'] + row['model5_Class1'] + row['model6_Class1'])/6\n",
    "    return 0 if class0_val > class1_val else 1                                                                                                              \n",
    "  else:\n",
    "    return 1\n",
    "\n",
    "val_boosting_df['Hard_Vote'] = val_boosting_df.apply(lambda x: hard_voting(x), 1)\n",
    "test_boosting_df['Hard_Vote'] = test_boosting_df.apply(lambda x: hard_voting(x), 1)\n"
   ]
  },
  {
   "cell_type": "code",
   "execution_count": null,
   "metadata": {
    "id": "SJf3_4gCuMwL"
   },
   "outputs": [],
   "source": [
    "def label_id_to_label(row, col):\n",
    "  return 'real' if row[col]==0 else 'fake'\n",
    "\n",
    "val_boosting_df['label'] = val_boosting_df.apply(lambda x: label_id_to_label(x, 'Soft_Vote'), 1)\n",
    "test_boosting_df['label'] = test_boosting_df.apply(lambda x: label_id_to_label(x, 'Soft_Vote'), 1)\n"
   ]
  },
  {
   "cell_type": "code",
   "execution_count": null,
   "metadata": {
    "id": "wo8p7cMkOs-z"
   },
   "outputs": [],
   "source": [
    "test_df = test_boosting_df[[\"id\", \"label\"]]"
   ]
  },
  {
   "cell_type": "code",
   "execution_count": null,
   "metadata": {
    "colab": {
     "base_uri": "https://localhost:8080/",
     "height": 204
    },
    "executionInfo": {
     "elapsed": 2941,
     "status": "ok",
     "timestamp": 1607541684762,
     "user": {
      "displayName": "Ayan Basak",
      "photoUrl": "",
      "userId": "03457614456337947866"
     },
     "user_tz": -330
    },
    "id": "FHXSrtXStPH4",
    "outputId": "f68c26dc-3824-4e10-a910-3a15b6f73f87"
   },
   "outputs": [
    {
     "data": {
      "text/html": [
       "<div>\n",
       "<style scoped>\n",
       "    .dataframe tbody tr th:only-of-type {\n",
       "        vertical-align: middle;\n",
       "    }\n",
       "\n",
       "    .dataframe tbody tr th {\n",
       "        vertical-align: top;\n",
       "    }\n",
       "\n",
       "    .dataframe thead th {\n",
       "        text-align: right;\n",
       "    }\n",
       "</style>\n",
       "<table border=\"1\" class=\"dataframe\">\n",
       "  <thead>\n",
       "    <tr style=\"text-align: right;\">\n",
       "      <th></th>\n",
       "      <th>id</th>\n",
       "      <th>label</th>\n",
       "    </tr>\n",
       "  </thead>\n",
       "  <tbody>\n",
       "    <tr>\n",
       "      <th>0</th>\n",
       "      <td>1</td>\n",
       "      <td>real</td>\n",
       "    </tr>\n",
       "    <tr>\n",
       "      <th>1</th>\n",
       "      <td>2</td>\n",
       "      <td>fake</td>\n",
       "    </tr>\n",
       "    <tr>\n",
       "      <th>2</th>\n",
       "      <td>3</td>\n",
       "      <td>fake</td>\n",
       "    </tr>\n",
       "    <tr>\n",
       "      <th>3</th>\n",
       "      <td>4</td>\n",
       "      <td>real</td>\n",
       "    </tr>\n",
       "    <tr>\n",
       "      <th>4</th>\n",
       "      <td>5</td>\n",
       "      <td>real</td>\n",
       "    </tr>\n",
       "  </tbody>\n",
       "</table>\n",
       "</div>"
      ],
      "text/plain": [
       "   id label\n",
       "0   1  real\n",
       "1   2  fake\n",
       "2   3  fake\n",
       "3   4  real\n",
       "4   5  real"
      ]
     },
     "execution_count": 49,
     "metadata": {
      "tags": []
     },
     "output_type": "execute_result"
    }
   ],
   "source": [
    "test_df.head()"
   ]
  },
  {
   "cell_type": "code",
   "execution_count": null,
   "metadata": {
    "id": "4t3qXe63tPKS"
   },
   "outputs": [],
   "source": [
    "# test_df.to_csv('/content/drive/MyDrive/Constraint/Submission_v4.csv', index=False)"
   ]
  },
  {
   "cell_type": "code",
   "execution_count": null,
   "metadata": {
    "id": "LQ6kC8lbtPMa"
   },
   "outputs": [],
   "source": []
  },
  {
   "cell_type": "code",
   "execution_count": null,
   "metadata": {
    "colab": {
     "base_uri": "https://localhost:8080/"
    },
    "executionInfo": {
     "elapsed": 2924,
     "status": "ok",
     "timestamp": 1607541684764,
     "user": {
      "displayName": "Ayan Basak",
      "photoUrl": "",
      "userId": "03457614456337947866"
     },
     "user_tz": -330
    },
    "id": "UNW53W296GnX",
    "outputId": "ac825ea5-b94c-4d90-b1f6-4ca07924412a"
   },
   "outputs": [
    {
     "data": {
      "text/plain": [
       "array([[1113,    7],\n",
       "       [  27,  993]])"
      ]
     },
     "execution_count": 51,
     "metadata": {
      "tags": []
     },
     "output_type": "execute_result"
    }
   ],
   "source": [
    "confusion_matrix(val_boosting_df['Label'].values, val_boosting_df['Soft_Vote'].values)"
   ]
  },
  {
   "cell_type": "code",
   "execution_count": null,
   "metadata": {
    "colab": {
     "base_uri": "https://localhost:8080/"
    },
    "executionInfo": {
     "elapsed": 2916,
     "status": "ok",
     "timestamp": 1607541684765,
     "user": {
      "displayName": "Ayan Basak",
      "photoUrl": "",
      "userId": "03457614456337947866"
     },
     "user_tz": -330
    },
    "id": "5GPxA-B46GqN",
    "outputId": "873a0dde-68cc-4dd5-ac69-5e05a3a53380"
   },
   "outputs": [
    {
     "data": {
      "text/plain": [
       "0.9841121495327103"
      ]
     },
     "execution_count": 52,
     "metadata": {
      "tags": []
     },
     "output_type": "execute_result"
    }
   ],
   "source": [
    "accuracy_score(val_boosting_df['Label'].values, val_boosting_df['Soft_Vote'].values)"
   ]
  },
  {
   "cell_type": "code",
   "execution_count": null,
   "metadata": {
    "colab": {
     "base_uri": "https://localhost:8080/"
    },
    "executionInfo": {
     "elapsed": 2910,
     "status": "ok",
     "timestamp": 1607541684766,
     "user": {
      "displayName": "Ayan Basak",
      "photoUrl": "",
      "userId": "03457614456337947866"
     },
     "user_tz": -330
    },
    "id": "2dR0hAcD7gUs",
    "outputId": "6f2695a1-0f37-4540-8268-8247affb6a59"
   },
   "outputs": [
    {
     "data": {
      "text/plain": [
       "array([[1116,    4],\n",
       "       [  48,  972]])"
      ]
     },
     "execution_count": 53,
     "metadata": {
      "tags": []
     },
     "output_type": "execute_result"
    }
   ],
   "source": [
    "confusion_matrix(val_boosting_df['Label'].values, val_boosting_df['Hard_Vote'].values)"
   ]
  },
  {
   "cell_type": "code",
   "execution_count": null,
   "metadata": {
    "colab": {
     "base_uri": "https://localhost:8080/"
    },
    "executionInfo": {
     "elapsed": 2904,
     "status": "ok",
     "timestamp": 1607541684767,
     "user": {
      "displayName": "Ayan Basak",
      "photoUrl": "",
      "userId": "03457614456337947866"
     },
     "user_tz": -330
    },
    "id": "vNx590yk7gXH",
    "outputId": "3de5c9f3-2cae-4e29-ea34-3f462f48a3f0"
   },
   "outputs": [
    {
     "data": {
      "text/plain": [
       "0.9757009345794393"
      ]
     },
     "execution_count": 54,
     "metadata": {
      "tags": []
     },
     "output_type": "execute_result"
    }
   ],
   "source": [
    "accuracy_score(val_boosting_df['Label'].values, val_boosting_df['Hard_Vote'].values)"
   ]
  },
  {
   "cell_type": "code",
   "execution_count": null,
   "metadata": {
    "colab": {
     "base_uri": "https://localhost:8080/"
    },
    "executionInfo": {
     "elapsed": 2899,
     "status": "ok",
     "timestamp": 1607541684769,
     "user": {
      "displayName": "Ayan Basak",
      "photoUrl": "",
      "userId": "03457614456337947866"
     },
     "user_tz": -330
    },
    "id": "id4OznUaRu0Y",
    "outputId": "8a8e3579-ac57-4b23-d43f-5edc8f897a7d"
   },
   "outputs": [
    {
     "data": {
      "text/plain": [
       "0.9831683168316832"
      ]
     },
     "execution_count": 55,
     "metadata": {
      "tags": []
     },
     "output_type": "execute_result"
    }
   ],
   "source": [
    "f1_score(val_boosting_df['Label'].values, val_boosting_df['Soft_Vote'].values)"
   ]
  },
  {
   "cell_type": "code",
   "execution_count": null,
   "metadata": {
    "id": "O59pZrPOAHJ-"
   },
   "outputs": [],
   "source": [
    "def get_label(row):\n",
    "  return 'real' if row[\"Label\"]==0 else 'fake'\n",
    "\n",
    "val_boosting_df[\"Actual_Label\"] = val_boosting_df.apply(lambda x: get_label(x), 1)\n"
   ]
  },
  {
   "cell_type": "code",
   "execution_count": null,
   "metadata": {
    "colab": {
     "base_uri": "https://localhost:8080/",
     "height": 224
    },
    "executionInfo": {
     "elapsed": 2890,
     "status": "ok",
     "timestamp": 1607541684772,
     "user": {
      "displayName": "Ayan Basak",
      "photoUrl": "",
      "userId": "03457614456337947866"
     },
     "user_tz": -330
    },
    "id": "bUvM4oJw6Xll",
    "outputId": "69c072ed-4fd4-461c-8321-698ec16aaa79"
   },
   "outputs": [
    {
     "data": {
      "text/html": [
       "<div>\n",
       "<style scoped>\n",
       "    .dataframe tbody tr th:only-of-type {\n",
       "        vertical-align: middle;\n",
       "    }\n",
       "\n",
       "    .dataframe tbody tr th {\n",
       "        vertical-align: top;\n",
       "    }\n",
       "\n",
       "    .dataframe thead th {\n",
       "        text-align: right;\n",
       "    }\n",
       "</style>\n",
       "<table border=\"1\" class=\"dataframe\">\n",
       "  <thead>\n",
       "    <tr style=\"text-align: right;\">\n",
       "      <th></th>\n",
       "      <th>id</th>\n",
       "      <th>model1_Class0</th>\n",
       "      <th>model1_Class1</th>\n",
       "      <th>model2_Class0</th>\n",
       "      <th>model2_Class1</th>\n",
       "      <th>model3_Class0</th>\n",
       "      <th>model3_Class1</th>\n",
       "      <th>model4_Class0</th>\n",
       "      <th>model4_Class1</th>\n",
       "      <th>model5_Class0</th>\n",
       "      <th>model5_Class1</th>\n",
       "      <th>model6_Class0</th>\n",
       "      <th>model6_Class1</th>\n",
       "      <th>Label</th>\n",
       "      <th>Soft_Vote</th>\n",
       "      <th>Hard_Vote</th>\n",
       "      <th>label</th>\n",
       "      <th>Actual_Label</th>\n",
       "    </tr>\n",
       "  </thead>\n",
       "  <tbody>\n",
       "    <tr>\n",
       "      <th>0</th>\n",
       "      <td>1</td>\n",
       "      <td>0.001269</td>\n",
       "      <td>0.998731</td>\n",
       "      <td>0.000938</td>\n",
       "      <td>0.999062</td>\n",
       "      <td>0.000179</td>\n",
       "      <td>0.999821</td>\n",
       "      <td>0.028954</td>\n",
       "      <td>0.971046</td>\n",
       "      <td>0.000074</td>\n",
       "      <td>0.999926</td>\n",
       "      <td>0.000250</td>\n",
       "      <td>0.999750</td>\n",
       "      <td>1</td>\n",
       "      <td>1</td>\n",
       "      <td>1</td>\n",
       "      <td>fake</td>\n",
       "      <td>fake</td>\n",
       "    </tr>\n",
       "    <tr>\n",
       "      <th>1</th>\n",
       "      <td>2</td>\n",
       "      <td>0.991674</td>\n",
       "      <td>0.008326</td>\n",
       "      <td>0.000884</td>\n",
       "      <td>0.999116</td>\n",
       "      <td>0.010019</td>\n",
       "      <td>0.989981</td>\n",
       "      <td>0.002718</td>\n",
       "      <td>0.997282</td>\n",
       "      <td>0.958628</td>\n",
       "      <td>0.041371</td>\n",
       "      <td>0.005722</td>\n",
       "      <td>0.994278</td>\n",
       "      <td>1</td>\n",
       "      <td>1</td>\n",
       "      <td>1</td>\n",
       "      <td>fake</td>\n",
       "      <td>fake</td>\n",
       "    </tr>\n",
       "    <tr>\n",
       "      <th>2</th>\n",
       "      <td>3</td>\n",
       "      <td>0.000385</td>\n",
       "      <td>0.999615</td>\n",
       "      <td>0.000958</td>\n",
       "      <td>0.999042</td>\n",
       "      <td>0.000084</td>\n",
       "      <td>0.999916</td>\n",
       "      <td>0.000053</td>\n",
       "      <td>0.999947</td>\n",
       "      <td>0.000048</td>\n",
       "      <td>0.999952</td>\n",
       "      <td>0.000249</td>\n",
       "      <td>0.999751</td>\n",
       "      <td>1</td>\n",
       "      <td>1</td>\n",
       "      <td>1</td>\n",
       "      <td>fake</td>\n",
       "      <td>fake</td>\n",
       "    </tr>\n",
       "    <tr>\n",
       "      <th>3</th>\n",
       "      <td>4</td>\n",
       "      <td>0.000416</td>\n",
       "      <td>0.999584</td>\n",
       "      <td>0.000936</td>\n",
       "      <td>0.999065</td>\n",
       "      <td>0.000109</td>\n",
       "      <td>0.999891</td>\n",
       "      <td>0.001268</td>\n",
       "      <td>0.998732</td>\n",
       "      <td>0.001172</td>\n",
       "      <td>0.998828</td>\n",
       "      <td>0.000251</td>\n",
       "      <td>0.999749</td>\n",
       "      <td>1</td>\n",
       "      <td>1</td>\n",
       "      <td>1</td>\n",
       "      <td>fake</td>\n",
       "      <td>fake</td>\n",
       "    </tr>\n",
       "    <tr>\n",
       "      <th>4</th>\n",
       "      <td>5</td>\n",
       "      <td>0.999851</td>\n",
       "      <td>0.000149</td>\n",
       "      <td>0.999052</td>\n",
       "      <td>0.000948</td>\n",
       "      <td>0.999784</td>\n",
       "      <td>0.000216</td>\n",
       "      <td>0.999951</td>\n",
       "      <td>0.000049</td>\n",
       "      <td>0.999972</td>\n",
       "      <td>0.000028</td>\n",
       "      <td>0.999373</td>\n",
       "      <td>0.000627</td>\n",
       "      <td>0</td>\n",
       "      <td>0</td>\n",
       "      <td>0</td>\n",
       "      <td>real</td>\n",
       "      <td>real</td>\n",
       "    </tr>\n",
       "  </tbody>\n",
       "</table>\n",
       "</div>"
      ],
      "text/plain": [
       "   id  model1_Class0  model1_Class1  ...  Hard_Vote  label  Actual_Label\n",
       "0   1       0.001269       0.998731  ...          1   fake          fake\n",
       "1   2       0.991674       0.008326  ...          1   fake          fake\n",
       "2   3       0.000385       0.999615  ...          1   fake          fake\n",
       "3   4       0.000416       0.999584  ...          1   fake          fake\n",
       "4   5       0.999851       0.000149  ...          0   real          real\n",
       "\n",
       "[5 rows x 18 columns]"
      ]
     },
     "execution_count": 57,
     "metadata": {
      "tags": []
     },
     "output_type": "execute_result"
    }
   ],
   "source": [
    "val_boosting_df.head()"
   ]
  },
  {
   "cell_type": "code",
   "execution_count": null,
   "metadata": {
    "id": "sCjn5o5y6Xol"
   },
   "outputs": [],
   "source": [
    "temp = val_boosting_df[val_boosting_df[\"Actual_Label\"]!=val_boosting_df[\"label\"]].reset_index(drop=True)[[\"id\", \"label\"]]\n",
    "temp = temp.rename(columns={\"label\": \"predicted_label\"})\n",
    "# temp"
   ]
  },
  {
   "cell_type": "code",
   "execution_count": null,
   "metadata": {
    "colab": {
     "base_uri": "https://localhost:8080/",
     "height": 1000
    },
    "executionInfo": {
     "elapsed": 1191,
     "status": "ok",
     "timestamp": 1607542041662,
     "user": {
      "displayName": "Ayan Basak",
      "photoUrl": "",
      "userId": "03457614456337947866"
     },
     "user_tz": -330
    },
    "id": "TjGe84JX6XrN",
    "outputId": "01fd9fb2-e410-4f8a-b979-e10f418b0514"
   },
   "outputs": [
    {
     "data": {
      "text/html": [
       "<div>\n",
       "<style scoped>\n",
       "    .dataframe tbody tr th:only-of-type {\n",
       "        vertical-align: middle;\n",
       "    }\n",
       "\n",
       "    .dataframe tbody tr th {\n",
       "        vertical-align: top;\n",
       "    }\n",
       "\n",
       "    .dataframe thead th {\n",
       "        text-align: right;\n",
       "    }\n",
       "</style>\n",
       "<table border=\"1\" class=\"dataframe\">\n",
       "  <thead>\n",
       "    <tr style=\"text-align: right;\">\n",
       "      <th></th>\n",
       "      <th>id</th>\n",
       "      <th>predicted_label</th>\n",
       "      <th>tweet</th>\n",
       "      <th>label</th>\n",
       "    </tr>\n",
       "  </thead>\n",
       "  <tbody>\n",
       "    <tr>\n",
       "      <th>0</th>\n",
       "      <td>62</td>\n",
       "      <td>real</td>\n",
       "      <td>The Global #dietarysupplements market is antic...</td>\n",
       "      <td>fake</td>\n",
       "    </tr>\n",
       "    <tr>\n",
       "      <th>1</th>\n",
       "      <td>121</td>\n",
       "      <td>real</td>\n",
       "      <td>WHO reports record daily increase in global co...</td>\n",
       "      <td>fake</td>\n",
       "    </tr>\n",
       "    <tr>\n",
       "      <th>2</th>\n",
       "      <td>139</td>\n",
       "      <td>real</td>\n",
       "      <td>.@realdonaldtrump cherry-picked one stat to pr...</td>\n",
       "      <td>fake</td>\n",
       "    </tr>\n",
       "    <tr>\n",
       "      <th>3</th>\n",
       "      <td>146</td>\n",
       "      <td>real</td>\n",
       "      <td>There is no evidence that children have died b...</td>\n",
       "      <td>fake</td>\n",
       "    </tr>\n",
       "    <tr>\n",
       "      <th>4</th>\n",
       "      <td>149</td>\n",
       "      <td>real</td>\n",
       "      <td>The 2005 study found that chloroquine was effe...</td>\n",
       "      <td>fake</td>\n",
       "    </tr>\n",
       "    <tr>\n",
       "      <th>5</th>\n",
       "      <td>439</td>\n",
       "      <td>real</td>\n",
       "      <td>The N95 respirator offers the most protection ...</td>\n",
       "      <td>fake</td>\n",
       "    </tr>\n",
       "    <tr>\n",
       "      <th>6</th>\n",
       "      <td>454</td>\n",
       "      <td>real</td>\n",
       "      <td>An article from April announcing a new study “...</td>\n",
       "      <td>fake</td>\n",
       "    </tr>\n",
       "    <tr>\n",
       "      <th>7</th>\n",
       "      <td>497</td>\n",
       "      <td>real</td>\n",
       "      <td>In objection to WA's border closures @CliveFPa...</td>\n",
       "      <td>fake</td>\n",
       "    </tr>\n",
       "    <tr>\n",
       "      <th>8</th>\n",
       "      <td>610</td>\n",
       "      <td>fake</td>\n",
       "      <td>How deadly is the coronavirus #COVID19? Scient...</td>\n",
       "      <td>real</td>\n",
       "    </tr>\n",
       "    <tr>\n",
       "      <th>9</th>\n",
       "      <td>735</td>\n",
       "      <td>real</td>\n",
       "      <td>Health officials caution against the use of ch...</td>\n",
       "      <td>fake</td>\n",
       "    </tr>\n",
       "    <tr>\n",
       "      <th>10</th>\n",
       "      <td>758</td>\n",
       "      <td>real</td>\n",
       "      <td>How has alcohol consumption changed during loc...</td>\n",
       "      <td>fake</td>\n",
       "    </tr>\n",
       "    <tr>\n",
       "      <th>11</th>\n",
       "      <td>770</td>\n",
       "      <td>fake</td>\n",
       "      <td>As for the Russian COVID vaccine Fauci is amon...</td>\n",
       "      <td>real</td>\n",
       "    </tr>\n",
       "    <tr>\n",
       "      <th>12</th>\n",
       "      <td>839</td>\n",
       "      <td>real</td>\n",
       "      <td>#VitaminD is now in focus to prevent #Coronavi...</td>\n",
       "      <td>fake</td>\n",
       "    </tr>\n",
       "    <tr>\n",
       "      <th>13</th>\n",
       "      <td>922</td>\n",
       "      <td>real</td>\n",
       "      <td>RT @dpfunke: A data table from the World Bank ...</td>\n",
       "      <td>fake</td>\n",
       "    </tr>\n",
       "    <tr>\n",
       "      <th>14</th>\n",
       "      <td>966</td>\n",
       "      <td>real</td>\n",
       "      <td>We're still a long way away from herd immunity...</td>\n",
       "      <td>fake</td>\n",
       "    </tr>\n",
       "    <tr>\n",
       "      <th>15</th>\n",
       "      <td>1062</td>\n",
       "      <td>fake</td>\n",
       "      <td>#ZuckOff #TakeItFromADoctor and a video with f...</td>\n",
       "      <td>real</td>\n",
       "    </tr>\n",
       "    <tr>\n",
       "      <th>16</th>\n",
       "      <td>1064</td>\n",
       "      <td>fake</td>\n",
       "      <td>Hollywood actor Paul Rudd has encouraged young...</td>\n",
       "      <td>real</td>\n",
       "    </tr>\n",
       "    <tr>\n",
       "      <th>17</th>\n",
       "      <td>1214</td>\n",
       "      <td>fake</td>\n",
       "      <td>Black Americans are hospitalized for coronavir...</td>\n",
       "      <td>real</td>\n",
       "    </tr>\n",
       "    <tr>\n",
       "      <th>18</th>\n",
       "      <td>1365</td>\n",
       "      <td>real</td>\n",
       "      <td>Vitamin D can help reduce coronavirus risk by ...</td>\n",
       "      <td>fake</td>\n",
       "    </tr>\n",
       "    <tr>\n",
       "      <th>19</th>\n",
       "      <td>1441</td>\n",
       "      <td>real</td>\n",
       "      <td>Children do contract the coronavirus but curre...</td>\n",
       "      <td>fake</td>\n",
       "    </tr>\n",
       "    <tr>\n",
       "      <th>20</th>\n",
       "      <td>1465</td>\n",
       "      <td>real</td>\n",
       "      <td>No wearing a mask to guard against spreading t...</td>\n",
       "      <td>fake</td>\n",
       "    </tr>\n",
       "    <tr>\n",
       "      <th>21</th>\n",
       "      <td>1508</td>\n",
       "      <td>real</td>\n",
       "      <td>PM @ScottMorrisonMP recently said a #COVID19 v...</td>\n",
       "      <td>fake</td>\n",
       "    </tr>\n",
       "    <tr>\n",
       "      <th>22</th>\n",
       "      <td>1567</td>\n",
       "      <td>fake</td>\n",
       "      <td>There is no one in New Zealand receiving hospi...</td>\n",
       "      <td>real</td>\n",
       "    </tr>\n",
       "    <tr>\n",
       "      <th>23</th>\n",
       "      <td>1587</td>\n",
       "      <td>real</td>\n",
       "      <td>A @Target spokesperson said the company plans ...</td>\n",
       "      <td>fake</td>\n",
       "    </tr>\n",
       "    <tr>\n",
       "      <th>24</th>\n",
       "      <td>1592</td>\n",
       "      <td>real</td>\n",
       "      <td>At this Critical Scenario We need full fledged...</td>\n",
       "      <td>fake</td>\n",
       "    </tr>\n",
       "    <tr>\n",
       "      <th>25</th>\n",
       "      <td>1770</td>\n",
       "      <td>fake</td>\n",
       "      <td>@CAALKESHKASLIWA @ICMRDELHI #COVID_19 treatmen...</td>\n",
       "      <td>real</td>\n",
       "    </tr>\n",
       "    <tr>\n",
       "      <th>26</th>\n",
       "      <td>1791</td>\n",
       "      <td>real</td>\n",
       "      <td>3/3 ... at the start was reasonably necessary\"...</td>\n",
       "      <td>fake</td>\n",
       "    </tr>\n",
       "    <tr>\n",
       "      <th>27</th>\n",
       "      <td>1851</td>\n",
       "      <td>real</td>\n",
       "      <td>@hapelensrob #Fauci as head of #NIH in 2005 pu...</td>\n",
       "      <td>fake</td>\n",
       "    </tr>\n",
       "    <tr>\n",
       "      <th>28</th>\n",
       "      <td>1871</td>\n",
       "      <td>real</td>\n",
       "      <td>Have you wanted to make a difference during th...</td>\n",
       "      <td>fake</td>\n",
       "    </tr>\n",
       "    <tr>\n",
       "      <th>29</th>\n",
       "      <td>1909</td>\n",
       "      <td>real</td>\n",
       "      <td>While uncomfortable there no evidence that get...</td>\n",
       "      <td>fake</td>\n",
       "    </tr>\n",
       "    <tr>\n",
       "      <th>30</th>\n",
       "      <td>1921</td>\n",
       "      <td>real</td>\n",
       "      <td>Angiotensin-converting enzyme 2 (ACE2): COVID ...</td>\n",
       "      <td>fake</td>\n",
       "    </tr>\n",
       "    <tr>\n",
       "      <th>31</th>\n",
       "      <td>1931</td>\n",
       "      <td>real</td>\n",
       "      <td>If you maintain social distancing indoors ther...</td>\n",
       "      <td>fake</td>\n",
       "    </tr>\n",
       "    <tr>\n",
       "      <th>32</th>\n",
       "      <td>1963</td>\n",
       "      <td>real</td>\n",
       "      <td>WHO expands coronavirus guidance after pressur...</td>\n",
       "      <td>fake</td>\n",
       "    </tr>\n",
       "    <tr>\n",
       "      <th>33</th>\n",
       "      <td>2052</td>\n",
       "      <td>real</td>\n",
       "      <td>All Missouri businesses can open Monday May 4 ...</td>\n",
       "      <td>fake</td>\n",
       "    </tr>\n",
       "  </tbody>\n",
       "</table>\n",
       "</div>"
      ],
      "text/plain": [
       "      id  ... label\n",
       "0     62  ...  fake\n",
       "1    121  ...  fake\n",
       "2    139  ...  fake\n",
       "3    146  ...  fake\n",
       "4    149  ...  fake\n",
       "5    439  ...  fake\n",
       "6    454  ...  fake\n",
       "7    497  ...  fake\n",
       "8    610  ...  real\n",
       "9    735  ...  fake\n",
       "10   758  ...  fake\n",
       "11   770  ...  real\n",
       "12   839  ...  fake\n",
       "13   922  ...  fake\n",
       "14   966  ...  fake\n",
       "15  1062  ...  real\n",
       "16  1064  ...  real\n",
       "17  1214  ...  real\n",
       "18  1365  ...  fake\n",
       "19  1441  ...  fake\n",
       "20  1465  ...  fake\n",
       "21  1508  ...  fake\n",
       "22  1567  ...  real\n",
       "23  1587  ...  fake\n",
       "24  1592  ...  fake\n",
       "25  1770  ...  real\n",
       "26  1791  ...  fake\n",
       "27  1851  ...  fake\n",
       "28  1871  ...  fake\n",
       "29  1909  ...  fake\n",
       "30  1921  ...  fake\n",
       "31  1931  ...  fake\n",
       "32  1963  ...  fake\n",
       "33  2052  ...  fake\n",
       "\n",
       "[34 rows x 4 columns]"
      ]
     },
     "execution_count": 68,
     "metadata": {
      "tags": []
     },
     "output_type": "execute_result"
    }
   ],
   "source": [
    "wrong_df = temp.merge(val_df, on='id', how='inner')\n",
    "wrong_df"
   ]
  },
  {
   "cell_type": "code",
   "execution_count": null,
   "metadata": {
    "id": "1T0Hh_u7AHMT"
   },
   "outputs": [],
   "source": [
    "wrong_df.to_csv('../../Submissions/Wrong results/wrong_results.csv', index=False)"
   ]
  },
  {
   "cell_type": "code",
   "execution_count": null,
   "metadata": {
    "id": "cKVAiDuz-cic"
   },
   "outputs": [],
   "source": []
  },
  {
   "cell_type": "code",
   "execution_count": null,
   "metadata": {
    "id": "bqMET14H-ckd"
   },
   "outputs": [],
   "source": []
  },
  {
   "cell_type": "markdown",
   "metadata": {
    "id": "sJL6tAdiAHoR"
   },
   "source": [
    "Submission_v1: Robert+XLM-Robert+XLNET\n",
    "\n",
    "Submission_v2: Robert+XLM-Robert+XLNET+DeBERT\n",
    "\n",
    "Submission_v3: Robert+XLM-Robert+XLNET+ERNIE+DeBERTa\n",
    "\n",
    "Submission_v4: Robert+XLM-Robert+XLNET+ERNIE+Electra\n",
    "\n",
    "Submission_v5: ERNIE\n"
   ]
  },
  {
   "cell_type": "code",
   "execution_count": null,
   "metadata": {
    "id": "poPkcvobDigA"
   },
   "outputs": [],
   "source": []
  },
  {
   "cell_type": "code",
   "execution_count": null,
   "metadata": {
    "id": "2Ywucc2dEA4L"
   },
   "outputs": [],
   "source": []
  }
 ],
 "metadata": {
  "colab": {
   "collapsed_sections": [],
   "name": "Voting_with_ERNIE_Electra.ipynb",
   "provenance": [
    {
     "file_id": "1M_-vXF56_lRScx2kNMBlinCWVHqBk6cs",
     "timestamp": 1607433779834
    },
    {
     "file_id": "1bLOtzT0KnTp6g0XOKb2XLIPkvfSTGvIt",
     "timestamp": 1607344916520
    }
   ]
  },
  "kernelspec": {
   "display_name": "Python 3",
   "language": "python",
   "name": "python3"
  },
  "language_info": {
   "codemirror_mode": {
    "name": "ipython",
    "version": 3
   },
   "file_extension": ".py",
   "mimetype": "text/x-python",
   "name": "python",
   "nbconvert_exporter": "python",
   "pygments_lexer": "ipython3",
   "version": "3.8.5"
  }
 },
 "nbformat": 4,
 "nbformat_minor": 1
}
